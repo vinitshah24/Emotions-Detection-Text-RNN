{
 "cells": [
  {
   "cell_type": "code",
   "execution_count": 1,
   "metadata": {},
   "outputs": [],
   "source": [
    "import pandas as pd\n",
    "from matplotlib import pyplot as plt\n",
    "%matplotlib inline\n",
    "import numpy as np\n",
    "import seaborn as sns\n",
    "from sklearn.metrics import (\n",
    "    confusion_matrix,\n",
    "    ConfusionMatrixDisplay,\n",
    "    accuracy_score, \n",
    "    precision_score, \n",
    "    recall_score, \n",
    "    f1_score, \n",
    "    classification_report)"
   ]
  },
  {
   "cell_type": "code",
   "execution_count": 2,
   "metadata": {},
   "outputs": [],
   "source": [
    "# pd.set_option('display.max_rows', 200)"
   ]
  },
  {
   "cell_type": "code",
   "execution_count": 3,
   "metadata": {},
   "outputs": [],
   "source": [
    "def get_max_emotion_score_df(file, emotion_col, emotion_count_col):\n",
    "    df = pd.read_csv(file)\n",
    "    df[emotion_col] = df[['joy','sadness','anger','love','thankfulness','fear']].idxmax(axis=1)\n",
    "    df[emotion_count_col] = df[emotion_col].groupby(df[emotion_col]).transform(emotion_count_col)\n",
    "    return df"
   ]
  },
  {
   "cell_type": "code",
   "execution_count": 4,
   "metadata": {},
   "outputs": [],
   "source": [
    "def display_bar_chart(df, emotion_col, emotion_count_col):\n",
    "    emotions = df[emotion_col].unique()\n",
    "    emotions_count = []\n",
    "    for emotion in emotions:\n",
    "        emotions_count.append(df[df[emotion_col]==emotion][:1][emotion_count_col].item())\n",
    "    # for emotion, count in zip(emotions, emotions_count):\n",
    "    #    print(f\"{emotion}: {count}\")\n",
    "    data_tuples = list(zip(emotions, emotions_count))\n",
    "    df = pd.DataFrame(data_tuples, columns=['emotions','count'])\n",
    "    plt.figure(figsize=(10,5))\n",
    "    g = sns.barplot(x='emotions', y='count', data=df.sort_values('emotions'))"
   ]
  },
  {
   "cell_type": "markdown",
   "metadata": {},
   "source": [
    "## Original Dataset"
   ]
  },
  {
   "cell_type": "code",
   "execution_count": 5,
   "metadata": {},
   "outputs": [
    {
     "data": {
      "text/html": [
       "<div>\n",
       "<style scoped>\n",
       "    .dataframe tbody tr th:only-of-type {\n",
       "        vertical-align: middle;\n",
       "    }\n",
       "\n",
       "    .dataframe tbody tr th {\n",
       "        vertical-align: top;\n",
       "    }\n",
       "\n",
       "    .dataframe thead th {\n",
       "        text-align: right;\n",
       "    }\n",
       "</style>\n",
       "<table border=\"1\" class=\"dataframe\">\n",
       "  <thead>\n",
       "    <tr style=\"text-align: right;\">\n",
       "      <th></th>\n",
       "      <th>text</th>\n",
       "      <th>emotions</th>\n",
       "      <th>count</th>\n",
       "    </tr>\n",
       "  </thead>\n",
       "  <tbody>\n",
       "    <tr>\n",
       "      <th>0</th>\n",
       "      <td>on ordinary occasions the boys would have swum...</td>\n",
       "      <td>joy</td>\n",
       "      <td>22</td>\n",
       "    </tr>\n",
       "    <tr>\n",
       "      <th>1</th>\n",
       "      <td>what is it? he cried, shrinking</td>\n",
       "      <td>fear</td>\n",
       "      <td>35</td>\n",
       "    </tr>\n",
       "    <tr>\n",
       "      <th>2</th>\n",
       "      <td>she drifted in one direction and he was borne ...</td>\n",
       "      <td>joy</td>\n",
       "      <td>22</td>\n",
       "    </tr>\n",
       "    <tr>\n",
       "      <th>3</th>\n",
       "      <td>'thank you, peter.'</td>\n",
       "      <td>thankfulness</td>\n",
       "      <td>22</td>\n",
       "    </tr>\n",
       "    <tr>\n",
       "      <th>4</th>\n",
       "      <td>i don't want to go to school and learn solemn ...</td>\n",
       "      <td>thankfulness</td>\n",
       "      <td>22</td>\n",
       "    </tr>\n",
       "  </tbody>\n",
       "</table>\n",
       "</div>"
      ],
      "text/plain": [
       "                                                text      emotions  count\n",
       "0  on ordinary occasions the boys would have swum...           joy     22\n",
       "1                    what is it? he cried, shrinking          fear     35\n",
       "2  she drifted in one direction and he was borne ...           joy     22\n",
       "3                                'thank you, peter.'  thankfulness     22\n",
       "4  i don't want to go to school and learn solemn ...  thankfulness     22"
      ]
     },
     "execution_count": 5,
     "metadata": {},
     "output_type": "execute_result"
    }
   ],
   "source": [
    "og_df = pd.read_csv(\"data/peter_pan_labelled_novel_dataset.csv\")\n",
    "og_df[\"count\"] = og_df[\"emotions\"].groupby(og_df[\"emotions\"]).transform(\"count\")\n",
    "og_df.head()"
   ]
  },
  {
   "cell_type": "code",
   "execution_count": 6,
   "metadata": {},
   "outputs": [
    {
     "data": {
      "text/html": [
       "<div>\n",
       "<style scoped>\n",
       "    .dataframe tbody tr th:only-of-type {\n",
       "        vertical-align: middle;\n",
       "    }\n",
       "\n",
       "    .dataframe tbody tr th {\n",
       "        vertical-align: top;\n",
       "    }\n",
       "\n",
       "    .dataframe thead th {\n",
       "        text-align: right;\n",
       "    }\n",
       "</style>\n",
       "<table border=\"1\" class=\"dataframe\">\n",
       "  <thead>\n",
       "    <tr style=\"text-align: right;\">\n",
       "      <th></th>\n",
       "      <th>text</th>\n",
       "      <th>emotions</th>\n",
       "      <th>count</th>\n",
       "    </tr>\n",
       "  </thead>\n",
       "  <tbody>\n",
       "    <tr>\n",
       "      <th>0</th>\n",
       "      <td>on ordinary occasions the boys would have swum...</td>\n",
       "      <td>joy</td>\n",
       "      <td>22</td>\n",
       "    </tr>\n",
       "    <tr>\n",
       "      <th>1</th>\n",
       "      <td>what is it? he cried, shrinking</td>\n",
       "      <td>fear</td>\n",
       "      <td>35</td>\n",
       "    </tr>\n",
       "    <tr>\n",
       "      <th>2</th>\n",
       "      <td>she drifted in one direction and he was borne ...</td>\n",
       "      <td>joy</td>\n",
       "      <td>22</td>\n",
       "    </tr>\n",
       "    <tr>\n",
       "      <th>3</th>\n",
       "      <td>'thank you, peter.'</td>\n",
       "      <td>thankfulness</td>\n",
       "      <td>22</td>\n",
       "    </tr>\n",
       "    <tr>\n",
       "      <th>4</th>\n",
       "      <td>i don't want to go to school and learn solemn ...</td>\n",
       "      <td>thankfulness</td>\n",
       "      <td>22</td>\n",
       "    </tr>\n",
       "    <tr>\n",
       "      <th>...</th>\n",
       "      <td>...</td>\n",
       "      <td>...</td>\n",
       "      <td>...</td>\n",
       "    </tr>\n",
       "    <tr>\n",
       "      <th>157</th>\n",
       "      <td>the point is, that there is more in my glass t...</td>\n",
       "      <td>anger</td>\n",
       "      <td>26</td>\n",
       "    </tr>\n",
       "    <tr>\n",
       "      <th>158</th>\n",
       "      <td>these things scared her a little.</td>\n",
       "      <td>fear</td>\n",
       "      <td>35</td>\n",
       "    </tr>\n",
       "    <tr>\n",
       "      <th>159</th>\n",
       "      <td>'i am awfully glad she isn't dead,' said tootles.</td>\n",
       "      <td>joy</td>\n",
       "      <td>22</td>\n",
       "    </tr>\n",
       "    <tr>\n",
       "      <th>160</th>\n",
       "      <td>up at any moment of the night if one of her ch...</td>\n",
       "      <td>sadness</td>\n",
       "      <td>38</td>\n",
       "    </tr>\n",
       "    <tr>\n",
       "      <th>161</th>\n",
       "      <td>If you don't get up and dress at once i will o...</td>\n",
       "      <td>anger</td>\n",
       "      <td>26</td>\n",
       "    </tr>\n",
       "  </tbody>\n",
       "</table>\n",
       "<p>162 rows × 3 columns</p>\n",
       "</div>"
      ],
      "text/plain": [
       "                                                  text      emotions  count\n",
       "0    on ordinary occasions the boys would have swum...           joy     22\n",
       "1                      what is it? he cried, shrinking          fear     35\n",
       "2    she drifted in one direction and he was borne ...           joy     22\n",
       "3                                  'thank you, peter.'  thankfulness     22\n",
       "4    i don't want to go to school and learn solemn ...  thankfulness     22\n",
       "..                                                 ...           ...    ...\n",
       "157  the point is, that there is more in my glass t...         anger     26\n",
       "158                  these things scared her a little.          fear     35\n",
       "159  'i am awfully glad she isn't dead,' said tootles.           joy     22\n",
       "160  up at any moment of the night if one of her ch...       sadness     38\n",
       "161  If you don't get up and dress at once i will o...         anger     26\n",
       "\n",
       "[162 rows x 3 columns]"
      ]
     },
     "execution_count": 6,
     "metadata": {},
     "output_type": "execute_result"
    }
   ],
   "source": [
    "og_df"
   ]
  },
  {
   "cell_type": "code",
   "execution_count": 7,
   "metadata": {},
   "outputs": [
    {
     "data": {
      "text/plain": [
       "162"
      ]
     },
     "execution_count": 7,
     "metadata": {},
     "output_type": "execute_result"
    }
   ],
   "source": [
    "len(og_df)"
   ]
  },
  {
   "cell_type": "code",
   "execution_count": 8,
   "metadata": {},
   "outputs": [
    {
     "data": {
      "image/png": "[encoded data removed]",
      "text/plain": [
       "<Figure size 720x360 with 1 Axes>"
      ]
     },
     "metadata": {
      "needs_background": "light"
     },
     "output_type": "display_data"
    }
   ],
   "source": [
    "display_bar_chart(og_df, emotion_col=\"emotions\", emotion_count_col=\"count\")"
   ]
  },
  {
   "cell_type": "markdown",
   "metadata": {},
   "source": [
    "## Predicted Dataset"
   ]
  },
  {
   "cell_type": "code",
   "execution_count": 9,
   "metadata": {
    "scrolled": true
   },
   "outputs": [
    {
     "data": {
      "text/html": [
       "<div>\n",
       "<style scoped>\n",
       "    .dataframe tbody tr th:only-of-type {\n",
       "        vertical-align: middle;\n",
       "    }\n",
       "\n",
       "    .dataframe tbody tr th {\n",
       "        vertical-align: top;\n",
       "    }\n",
       "\n",
       "    .dataframe thead th {\n",
       "        text-align: right;\n",
       "    }\n",
       "</style>\n",
       "<table border=\"1\" class=\"dataframe\">\n",
       "  <thead>\n",
       "    <tr style=\"text-align: right;\">\n",
       "      <th></th>\n",
       "      <th>text</th>\n",
       "      <th>joy</th>\n",
       "      <th>sadness</th>\n",
       "      <th>anger</th>\n",
       "      <th>love</th>\n",
       "      <th>thankfulness</th>\n",
       "      <th>fear</th>\n",
       "    </tr>\n",
       "  </thead>\n",
       "  <tbody>\n",
       "    <tr>\n",
       "      <th>0</th>\n",
       "      <td>on ordinary occasions the boys would have swum...</td>\n",
       "      <td>0.740</td>\n",
       "      <td>0.924</td>\n",
       "      <td>0.091</td>\n",
       "      <td>0.353</td>\n",
       "      <td>0.374</td>\n",
       "      <td>0.228</td>\n",
       "    </tr>\n",
       "    <tr>\n",
       "      <th>1</th>\n",
       "      <td>what is it? he cried, shrinking</td>\n",
       "      <td>0.297</td>\n",
       "      <td>0.226</td>\n",
       "      <td>0.943</td>\n",
       "      <td>0.835</td>\n",
       "      <td>0.778</td>\n",
       "      <td>0.100</td>\n",
       "    </tr>\n",
       "    <tr>\n",
       "      <th>2</th>\n",
       "      <td>she drifted in one direction and he was borne ...</td>\n",
       "      <td>0.362</td>\n",
       "      <td>0.503</td>\n",
       "      <td>0.267</td>\n",
       "      <td>0.568</td>\n",
       "      <td>0.953</td>\n",
       "      <td>0.133</td>\n",
       "    </tr>\n",
       "    <tr>\n",
       "      <th>3</th>\n",
       "      <td>'thank you, peter.'</td>\n",
       "      <td>0.472</td>\n",
       "      <td>0.072</td>\n",
       "      <td>0.136</td>\n",
       "      <td>0.025</td>\n",
       "      <td>0.043</td>\n",
       "      <td>0.738</td>\n",
       "    </tr>\n",
       "    <tr>\n",
       "      <th>4</th>\n",
       "      <td>i don't want to go to school and learn solemn ...</td>\n",
       "      <td>0.537</td>\n",
       "      <td>0.546</td>\n",
       "      <td>0.603</td>\n",
       "      <td>0.690</td>\n",
       "      <td>0.218</td>\n",
       "      <td>0.456</td>\n",
       "    </tr>\n",
       "  </tbody>\n",
       "</table>\n",
       "</div>"
      ],
      "text/plain": [
       "                                                text    joy  sadness  anger  \\\n",
       "0  on ordinary occasions the boys would have swum...  0.740    0.924  0.091   \n",
       "1                    what is it? he cried, shrinking  0.297    0.226  0.943   \n",
       "2  she drifted in one direction and he was borne ...  0.362    0.503  0.267   \n",
       "3                                'thank you, peter.'  0.472    0.072  0.136   \n",
       "4  i don't want to go to school and learn solemn ...  0.537    0.546  0.603   \n",
       "\n",
       "    love  thankfulness   fear  \n",
       "0  0.353         0.374  0.228  \n",
       "1  0.835         0.778  0.100  \n",
       "2  0.568         0.953  0.133  \n",
       "3  0.025         0.043  0.738  \n",
       "4  0.690         0.218  0.456  "
      ]
     },
     "execution_count": 9,
     "metadata": {},
     "output_type": "execute_result"
    }
   ],
   "source": [
    "pred_df = pd.read_csv(\"results/peter_pan_emotions_041121_111624.csv\")\n",
    "pred_df.head()"
   ]
  },
  {
   "cell_type": "code",
   "execution_count": 10,
   "metadata": {
    "scrolled": true
   },
   "outputs": [
    {
     "data": {
      "text/plain": [
       "162"
      ]
     },
     "execution_count": 10,
     "metadata": {},
     "output_type": "execute_result"
    }
   ],
   "source": [
    "len(pred_df)"
   ]
  },
  {
   "cell_type": "markdown",
   "metadata": {},
   "source": [
    "# Model Threshold = 0.6"
   ]
  },
  {
   "cell_type": "code",
   "execution_count": 11,
   "metadata": {},
   "outputs": [],
   "source": [
    "THRESH = 0.6"
   ]
  },
  {
   "cell_type": "code",
   "execution_count": 12,
   "metadata": {},
   "outputs": [],
   "source": [
    "pred_df[\"joy_cat\"] = (pred_df['joy'] > THRESH).astype(int)\n",
    "pred_df[\"sadness_cat\"] = (pred_df['sadness'] > THRESH).astype(int)\n",
    "pred_df[\"anger_cat\"] = (pred_df['anger'] > THRESH).astype(int)\n",
    "pred_df[\"love_cat\"] = (pred_df['love'] > THRESH).astype(int)\n",
    "pred_df[\"thankfulness_cat\"] = (pred_df['thankfulness'] > THRESH).astype(int)\n",
    "pred_df[\"fear_cat\"] = (pred_df['fear'] > THRESH).astype(int)"
   ]
  },
  {
   "cell_type": "code",
   "execution_count": 13,
   "metadata": {
    "scrolled": true
   },
   "outputs": [
    {
     "data": {
      "text/html": [
       "<div>\n",
       "<style scoped>\n",
       "    .dataframe tbody tr th:only-of-type {\n",
       "        vertical-align: middle;\n",
       "    }\n",
       "\n",
       "    .dataframe tbody tr th {\n",
       "        vertical-align: top;\n",
       "    }\n",
       "\n",
       "    .dataframe thead th {\n",
       "        text-align: right;\n",
       "    }\n",
       "</style>\n",
       "<table border=\"1\" class=\"dataframe\">\n",
       "  <thead>\n",
       "    <tr style=\"text-align: right;\">\n",
       "      <th></th>\n",
       "      <th>text</th>\n",
       "      <th>joy</th>\n",
       "      <th>sadness</th>\n",
       "      <th>anger</th>\n",
       "      <th>love</th>\n",
       "      <th>thankfulness</th>\n",
       "      <th>fear</th>\n",
       "      <th>joy_cat</th>\n",
       "      <th>sadness_cat</th>\n",
       "      <th>anger_cat</th>\n",
       "      <th>love_cat</th>\n",
       "      <th>thankfulness_cat</th>\n",
       "      <th>fear_cat</th>\n",
       "    </tr>\n",
       "  </thead>\n",
       "  <tbody>\n",
       "    <tr>\n",
       "      <th>0</th>\n",
       "      <td>on ordinary occasions the boys would have swum...</td>\n",
       "      <td>0.740</td>\n",
       "      <td>0.924</td>\n",
       "      <td>0.091</td>\n",
       "      <td>0.353</td>\n",
       "      <td>0.374</td>\n",
       "      <td>0.228</td>\n",
       "      <td>1</td>\n",
       "      <td>1</td>\n",
       "      <td>0</td>\n",
       "      <td>0</td>\n",
       "      <td>0</td>\n",
       "      <td>0</td>\n",
       "    </tr>\n",
       "    <tr>\n",
       "      <th>1</th>\n",
       "      <td>what is it? he cried, shrinking</td>\n",
       "      <td>0.297</td>\n",
       "      <td>0.226</td>\n",
       "      <td>0.943</td>\n",
       "      <td>0.835</td>\n",
       "      <td>0.778</td>\n",
       "      <td>0.100</td>\n",
       "      <td>0</td>\n",
       "      <td>0</td>\n",
       "      <td>1</td>\n",
       "      <td>1</td>\n",
       "      <td>1</td>\n",
       "      <td>0</td>\n",
       "    </tr>\n",
       "  </tbody>\n",
       "</table>\n",
       "</div>"
      ],
      "text/plain": [
       "                                                text    joy  sadness  anger  \\\n",
       "0  on ordinary occasions the boys would have swum...  0.740    0.924  0.091   \n",
       "1                    what is it? he cried, shrinking  0.297    0.226  0.943   \n",
       "\n",
       "    love  thankfulness   fear  joy_cat  sadness_cat  anger_cat  love_cat  \\\n",
       "0  0.353         0.374  0.228        1            1          0         0   \n",
       "1  0.835         0.778  0.100        0            0          1         1   \n",
       "\n",
       "   thankfulness_cat  fear_cat  \n",
       "0                 0         0  \n",
       "1                 1         0  "
      ]
     },
     "execution_count": 13,
     "metadata": {},
     "output_type": "execute_result"
    }
   ],
   "source": [
    "pred_df.head(2)"
   ]
  },
  {
   "cell_type": "markdown",
   "metadata": {},
   "source": [
    "## Joining Dataframe"
   ]
  },
  {
   "cell_type": "code",
   "execution_count": 14,
   "metadata": {},
   "outputs": [],
   "source": [
    "join_df = pd.merge(og_df, pred_df, on='text', how='left')"
   ]
  },
  {
   "cell_type": "code",
   "execution_count": 15,
   "metadata": {
    "scrolled": true
   },
   "outputs": [],
   "source": [
    "result_df = join_df.drop_duplicates()"
   ]
  },
  {
   "cell_type": "code",
   "execution_count": 16,
   "metadata": {},
   "outputs": [
    {
     "name": "stdout",
     "output_type": "stream",
     "text": [
      "Original Data: 162\n",
      "Pred Data: 162\n",
      "Join Data: 162\n"
     ]
    }
   ],
   "source": [
    "print(f\"Original Data: {len(og_df)}\")\n",
    "print(f\"Pred Data: {len(pred_df)}\")\n",
    "print(f\"Join Data: {len(result_df)}\")"
   ]
  },
  {
   "cell_type": "code",
   "execution_count": 17,
   "metadata": {},
   "outputs": [],
   "source": [
    "pred_list = []\n",
    "for index, row in join_df.iterrows():\n",
    "    text = row['text']\n",
    "    if row[\"emotions\"] == \"anger\" and row[\"anger_cat\"] == 1:\n",
    "        pred = \"anger\"\n",
    "    if row[\"emotions\"] == \"fear\" and row[\"fear_cat\"] == 1:\n",
    "        pred = \"fear\"\n",
    "    if row[\"emotions\"] == \"joy\" and row[\"joy_cat\"] == 1:\n",
    "        pred = \"joy\"\n",
    "    if row[\"emotions\"] == \"love\" and row[\"love_cat\"] == 1:\n",
    "        pred = \"love\"\n",
    "    if row[\"emotions\"] == \"sadness\" and row[\"sadness_cat\"] == 1:\n",
    "        pred = \"sadness\"\n",
    "    if row[\"emotions\"] == \"thankfulness\" and row[\"thankfulness_cat\"] == 1:\n",
    "        pred = \"thankfulness\"\n",
    "    else:\n",
    "        if row[\"anger_cat\"] == 1:\n",
    "            pred = \"anger\"\n",
    "        if row[\"fear_cat\"] == 1:\n",
    "            pred = \"fear\"\n",
    "        if row[\"joy_cat\"] == 1:\n",
    "            pred = \"joy\"\n",
    "        if row[\"love_cat\"] == 1:\n",
    "            pred = \"love\"\n",
    "        if row[\"sadness_cat\"] == 1:\n",
    "            pred = \"sadness\"\n",
    "        if row[\"thankfulness_cat\"] == 1:\n",
    "            pred = \"thankfulness\"\n",
    "    pred_list.append({\"text\": text, \"pred\": pred})"
   ]
  },
  {
   "cell_type": "code",
   "execution_count": 18,
   "metadata": {},
   "outputs": [],
   "source": [
    "pred_df = pd.DataFrame(pred_list)"
   ]
  },
  {
   "cell_type": "code",
   "execution_count": 19,
   "metadata": {},
   "outputs": [
    {
     "data": {
      "text/plain": [
       "162"
      ]
     },
     "execution_count": 19,
     "metadata": {},
     "output_type": "execute_result"
    }
   ],
   "source": [
    "len(pred_df)"
   ]
  },
  {
   "cell_type": "code",
   "execution_count": 20,
   "metadata": {},
   "outputs": [
    {
     "data": {
      "text/html": [
       "<div>\n",
       "<style scoped>\n",
       "    .dataframe tbody tr th:only-of-type {\n",
       "        vertical-align: middle;\n",
       "    }\n",
       "\n",
       "    .dataframe tbody tr th {\n",
       "        vertical-align: top;\n",
       "    }\n",
       "\n",
       "    .dataframe thead th {\n",
       "        text-align: right;\n",
       "    }\n",
       "</style>\n",
       "<table border=\"1\" class=\"dataframe\">\n",
       "  <thead>\n",
       "    <tr style=\"text-align: right;\">\n",
       "      <th></th>\n",
       "      <th>text</th>\n",
       "      <th>pred</th>\n",
       "    </tr>\n",
       "  </thead>\n",
       "  <tbody>\n",
       "    <tr>\n",
       "      <th>0</th>\n",
       "      <td>on ordinary occasions the boys would have swum...</td>\n",
       "      <td>sadness</td>\n",
       "    </tr>\n",
       "    <tr>\n",
       "      <th>1</th>\n",
       "      <td>what is it? he cried, shrinking</td>\n",
       "      <td>thankfulness</td>\n",
       "    </tr>\n",
       "    <tr>\n",
       "      <th>2</th>\n",
       "      <td>she drifted in one direction and he was borne ...</td>\n",
       "      <td>thankfulness</td>\n",
       "    </tr>\n",
       "    <tr>\n",
       "      <th>3</th>\n",
       "      <td>'thank you, peter.'</td>\n",
       "      <td>fear</td>\n",
       "    </tr>\n",
       "    <tr>\n",
       "      <th>4</th>\n",
       "      <td>i don't want to go to school and learn solemn ...</td>\n",
       "      <td>love</td>\n",
       "    </tr>\n",
       "    <tr>\n",
       "      <th>...</th>\n",
       "      <td>...</td>\n",
       "      <td>...</td>\n",
       "    </tr>\n",
       "    <tr>\n",
       "      <th>157</th>\n",
       "      <td>the point is, that there is more in my glass t...</td>\n",
       "      <td>love</td>\n",
       "    </tr>\n",
       "    <tr>\n",
       "      <th>158</th>\n",
       "      <td>these things scared her a little.</td>\n",
       "      <td>love</td>\n",
       "    </tr>\n",
       "    <tr>\n",
       "      <th>159</th>\n",
       "      <td>'i am awfully glad she isn't dead,' said tootles.</td>\n",
       "      <td>love</td>\n",
       "    </tr>\n",
       "    <tr>\n",
       "      <th>160</th>\n",
       "      <td>up at any moment of the night if one of her ch...</td>\n",
       "      <td>thankfulness</td>\n",
       "    </tr>\n",
       "    <tr>\n",
       "      <th>161</th>\n",
       "      <td>If you don't get up and dress at once i will o...</td>\n",
       "      <td>thankfulness</td>\n",
       "    </tr>\n",
       "  </tbody>\n",
       "</table>\n",
       "<p>162 rows × 2 columns</p>\n",
       "</div>"
      ],
      "text/plain": [
       "                                                  text          pred\n",
       "0    on ordinary occasions the boys would have swum...       sadness\n",
       "1                      what is it? he cried, shrinking  thankfulness\n",
       "2    she drifted in one direction and he was borne ...  thankfulness\n",
       "3                                  'thank you, peter.'          fear\n",
       "4    i don't want to go to school and learn solemn ...          love\n",
       "..                                                 ...           ...\n",
       "157  the point is, that there is more in my glass t...          love\n",
       "158                  these things scared her a little.          love\n",
       "159  'i am awfully glad she isn't dead,' said tootles.          love\n",
       "160  up at any moment of the night if one of her ch...  thankfulness\n",
       "161  If you don't get up and dress at once i will o...  thankfulness\n",
       "\n",
       "[162 rows x 2 columns]"
      ]
     },
     "execution_count": 20,
     "metadata": {},
     "output_type": "execute_result"
    }
   ],
   "source": [
    "pred_df"
   ]
  },
  {
   "cell_type": "code",
   "execution_count": 21,
   "metadata": {},
   "outputs": [
    {
     "data": {
      "image/png": "[encoded data removed]",
      "text/plain": [
       "<Figure size 720x360 with 1 Axes>"
      ]
     },
     "metadata": {
      "needs_background": "light"
     },
     "output_type": "display_data"
    }
   ],
   "source": [
    "pred_df[\"count\"] = pred_df[\"pred\"].groupby(pred_df[\"pred\"]).transform(\"count\")\n",
    "display_bar_chart(pred_df, emotion_col=\"pred\", emotion_count_col=\"count\")"
   ]
  },
  {
   "cell_type": "markdown",
   "metadata": {},
   "source": [
    "### Categorize Emotions column (Original dataset)"
   ]
  },
  {
   "cell_type": "code",
   "execution_count": 22,
   "metadata": {},
   "outputs": [
    {
     "data": {
      "text/plain": [
       "text        object\n",
       "emotions    object\n",
       "count        int64\n",
       "dtype: object"
      ]
     },
     "execution_count": 22,
     "metadata": {},
     "output_type": "execute_result"
    }
   ],
   "source": [
    "og_df.dtypes"
   ]
  },
  {
   "cell_type": "code",
   "execution_count": 23,
   "metadata": {},
   "outputs": [],
   "source": [
    "og_df[\"emotions\"] = og_df[\"emotions\"].astype('category')"
   ]
  },
  {
   "cell_type": "code",
   "execution_count": 24,
   "metadata": {},
   "outputs": [],
   "source": [
    "category_dict = dict(sorted(zip(og_df.emotions.cat.codes, og_df.emotions)))"
   ]
  },
  {
   "cell_type": "code",
   "execution_count": 25,
   "metadata": {},
   "outputs": [
    {
     "name": "stdout",
     "output_type": "stream",
     "text": [
      "0 anger\n",
      "1 fear\n",
      "2 joy\n",
      "3 love\n",
      "4 sadness\n",
      "5 thankfulness\n"
     ]
    }
   ],
   "source": [
    "for k, v in category_dict.items(): print(k, v)"
   ]
  },
  {
   "cell_type": "code",
   "execution_count": 26,
   "metadata": {},
   "outputs": [
    {
     "data": {
      "text/plain": [
       "text          object\n",
       "emotions    category\n",
       "count          int64\n",
       "dtype: object"
      ]
     },
     "execution_count": 26,
     "metadata": {},
     "output_type": "execute_result"
    }
   ],
   "source": [
    "og_df.dtypes"
   ]
  },
  {
   "cell_type": "code",
   "execution_count": 27,
   "metadata": {},
   "outputs": [
    {
     "data": {
      "text/html": [
       "<div>\n",
       "<style scoped>\n",
       "    .dataframe tbody tr th:only-of-type {\n",
       "        vertical-align: middle;\n",
       "    }\n",
       "\n",
       "    .dataframe tbody tr th {\n",
       "        vertical-align: top;\n",
       "    }\n",
       "\n",
       "    .dataframe thead th {\n",
       "        text-align: right;\n",
       "    }\n",
       "</style>\n",
       "<table border=\"1\" class=\"dataframe\">\n",
       "  <thead>\n",
       "    <tr style=\"text-align: right;\">\n",
       "      <th></th>\n",
       "      <th>text</th>\n",
       "      <th>emotions</th>\n",
       "      <th>count</th>\n",
       "      <th>emotions_cat</th>\n",
       "    </tr>\n",
       "  </thead>\n",
       "  <tbody>\n",
       "    <tr>\n",
       "      <th>0</th>\n",
       "      <td>on ordinary occasions the boys would have swum...</td>\n",
       "      <td>joy</td>\n",
       "      <td>22</td>\n",
       "      <td>2</td>\n",
       "    </tr>\n",
       "    <tr>\n",
       "      <th>1</th>\n",
       "      <td>what is it? he cried, shrinking</td>\n",
       "      <td>fear</td>\n",
       "      <td>35</td>\n",
       "      <td>1</td>\n",
       "    </tr>\n",
       "    <tr>\n",
       "      <th>2</th>\n",
       "      <td>she drifted in one direction and he was borne ...</td>\n",
       "      <td>joy</td>\n",
       "      <td>22</td>\n",
       "      <td>2</td>\n",
       "    </tr>\n",
       "    <tr>\n",
       "      <th>3</th>\n",
       "      <td>'thank you, peter.'</td>\n",
       "      <td>thankfulness</td>\n",
       "      <td>22</td>\n",
       "      <td>5</td>\n",
       "    </tr>\n",
       "    <tr>\n",
       "      <th>4</th>\n",
       "      <td>i don't want to go to school and learn solemn ...</td>\n",
       "      <td>thankfulness</td>\n",
       "      <td>22</td>\n",
       "      <td>5</td>\n",
       "    </tr>\n",
       "  </tbody>\n",
       "</table>\n",
       "</div>"
      ],
      "text/plain": [
       "                                                text      emotions  count  \\\n",
       "0  on ordinary occasions the boys would have swum...           joy     22   \n",
       "1                    what is it? he cried, shrinking          fear     35   \n",
       "2  she drifted in one direction and he was borne ...           joy     22   \n",
       "3                                'thank you, peter.'  thankfulness     22   \n",
       "4  i don't want to go to school and learn solemn ...  thankfulness     22   \n",
       "\n",
       "   emotions_cat  \n",
       "0             2  \n",
       "1             1  \n",
       "2             2  \n",
       "3             5  \n",
       "4             5  "
      ]
     },
     "execution_count": 27,
     "metadata": {},
     "output_type": "execute_result"
    }
   ],
   "source": [
    "og_df[\"emotions_cat\"] = og_df[\"emotions\"].cat.codes\n",
    "og_df.head()"
   ]
  },
  {
   "cell_type": "markdown",
   "metadata": {},
   "source": [
    "### Categorize Emotions column (Predicted dataset)"
   ]
  },
  {
   "cell_type": "code",
   "execution_count": 28,
   "metadata": {},
   "outputs": [
    {
     "data": {
      "text/plain": [
       "text     object\n",
       "pred     object\n",
       "count     int64\n",
       "dtype: object"
      ]
     },
     "execution_count": 28,
     "metadata": {},
     "output_type": "execute_result"
    }
   ],
   "source": [
    "pred_df.dtypes"
   ]
  },
  {
   "cell_type": "code",
   "execution_count": 29,
   "metadata": {},
   "outputs": [],
   "source": [
    "pred_df[\"pred\"] = pred_df[\"pred\"].astype('category')"
   ]
  },
  {
   "cell_type": "code",
   "execution_count": 30,
   "metadata": {},
   "outputs": [],
   "source": [
    "category_dict = dict(sorted(zip(pred_df.pred.cat.codes, pred_df.pred)))"
   ]
  },
  {
   "cell_type": "code",
   "execution_count": 31,
   "metadata": {},
   "outputs": [
    {
     "name": "stdout",
     "output_type": "stream",
     "text": [
      "0 anger\n",
      "1 fear\n",
      "2 joy\n",
      "3 love\n",
      "4 sadness\n",
      "5 thankfulness\n"
     ]
    }
   ],
   "source": [
    "for k, v in category_dict.items(): print(k, v)"
   ]
  },
  {
   "cell_type": "code",
   "execution_count": 32,
   "metadata": {},
   "outputs": [
    {
     "data": {
      "text/plain": [
       "text       object\n",
       "pred     category\n",
       "count       int64\n",
       "dtype: object"
      ]
     },
     "execution_count": 32,
     "metadata": {},
     "output_type": "execute_result"
    }
   ],
   "source": [
    "pred_df.dtypes"
   ]
  },
  {
   "cell_type": "code",
   "execution_count": 33,
   "metadata": {},
   "outputs": [],
   "source": [
    "pred_df[\"pred_cat\"] = pred_df[\"pred\"].cat.codes"
   ]
  },
  {
   "cell_type": "code",
   "execution_count": 34,
   "metadata": {},
   "outputs": [
    {
     "data": {
      "text/html": [
       "<div>\n",
       "<style scoped>\n",
       "    .dataframe tbody tr th:only-of-type {\n",
       "        vertical-align: middle;\n",
       "    }\n",
       "\n",
       "    .dataframe tbody tr th {\n",
       "        vertical-align: top;\n",
       "    }\n",
       "\n",
       "    .dataframe thead th {\n",
       "        text-align: right;\n",
       "    }\n",
       "</style>\n",
       "<table border=\"1\" class=\"dataframe\">\n",
       "  <thead>\n",
       "    <tr style=\"text-align: right;\">\n",
       "      <th></th>\n",
       "      <th>text</th>\n",
       "      <th>emotions</th>\n",
       "      <th>count</th>\n",
       "      <th>emotions_cat</th>\n",
       "    </tr>\n",
       "  </thead>\n",
       "  <tbody>\n",
       "    <tr>\n",
       "      <th>0</th>\n",
       "      <td>on ordinary occasions the boys would have swum...</td>\n",
       "      <td>joy</td>\n",
       "      <td>22</td>\n",
       "      <td>2</td>\n",
       "    </tr>\n",
       "    <tr>\n",
       "      <th>1</th>\n",
       "      <td>what is it? he cried, shrinking</td>\n",
       "      <td>fear</td>\n",
       "      <td>35</td>\n",
       "      <td>1</td>\n",
       "    </tr>\n",
       "    <tr>\n",
       "      <th>2</th>\n",
       "      <td>she drifted in one direction and he was borne ...</td>\n",
       "      <td>joy</td>\n",
       "      <td>22</td>\n",
       "      <td>2</td>\n",
       "    </tr>\n",
       "    <tr>\n",
       "      <th>3</th>\n",
       "      <td>'thank you, peter.'</td>\n",
       "      <td>thankfulness</td>\n",
       "      <td>22</td>\n",
       "      <td>5</td>\n",
       "    </tr>\n",
       "    <tr>\n",
       "      <th>4</th>\n",
       "      <td>i don't want to go to school and learn solemn ...</td>\n",
       "      <td>thankfulness</td>\n",
       "      <td>22</td>\n",
       "      <td>5</td>\n",
       "    </tr>\n",
       "  </tbody>\n",
       "</table>\n",
       "</div>"
      ],
      "text/plain": [
       "                                                text      emotions  count  \\\n",
       "0  on ordinary occasions the boys would have swum...           joy     22   \n",
       "1                    what is it? he cried, shrinking          fear     35   \n",
       "2  she drifted in one direction and he was borne ...           joy     22   \n",
       "3                                'thank you, peter.'  thankfulness     22   \n",
       "4  i don't want to go to school and learn solemn ...  thankfulness     22   \n",
       "\n",
       "   emotions_cat  \n",
       "0             2  \n",
       "1             1  \n",
       "2             2  \n",
       "3             5  \n",
       "4             5  "
      ]
     },
     "execution_count": 34,
     "metadata": {},
     "output_type": "execute_result"
    }
   ],
   "source": [
    "og_df.head()"
   ]
  },
  {
   "cell_type": "code",
   "execution_count": 35,
   "metadata": {},
   "outputs": [
    {
     "data": {
      "text/html": [
       "<div>\n",
       "<style scoped>\n",
       "    .dataframe tbody tr th:only-of-type {\n",
       "        vertical-align: middle;\n",
       "    }\n",
       "\n",
       "    .dataframe tbody tr th {\n",
       "        vertical-align: top;\n",
       "    }\n",
       "\n",
       "    .dataframe thead th {\n",
       "        text-align: right;\n",
       "    }\n",
       "</style>\n",
       "<table border=\"1\" class=\"dataframe\">\n",
       "  <thead>\n",
       "    <tr style=\"text-align: right;\">\n",
       "      <th></th>\n",
       "      <th>text</th>\n",
       "      <th>pred</th>\n",
       "      <th>count</th>\n",
       "      <th>pred_cat</th>\n",
       "    </tr>\n",
       "  </thead>\n",
       "  <tbody>\n",
       "    <tr>\n",
       "      <th>0</th>\n",
       "      <td>on ordinary occasions the boys would have swum...</td>\n",
       "      <td>sadness</td>\n",
       "      <td>30</td>\n",
       "      <td>4</td>\n",
       "    </tr>\n",
       "    <tr>\n",
       "      <th>1</th>\n",
       "      <td>what is it? he cried, shrinking</td>\n",
       "      <td>thankfulness</td>\n",
       "      <td>98</td>\n",
       "      <td>5</td>\n",
       "    </tr>\n",
       "    <tr>\n",
       "      <th>2</th>\n",
       "      <td>she drifted in one direction and he was borne ...</td>\n",
       "      <td>thankfulness</td>\n",
       "      <td>98</td>\n",
       "      <td>5</td>\n",
       "    </tr>\n",
       "    <tr>\n",
       "      <th>3</th>\n",
       "      <td>'thank you, peter.'</td>\n",
       "      <td>fear</td>\n",
       "      <td>3</td>\n",
       "      <td>1</td>\n",
       "    </tr>\n",
       "    <tr>\n",
       "      <th>4</th>\n",
       "      <td>i don't want to go to school and learn solemn ...</td>\n",
       "      <td>love</td>\n",
       "      <td>13</td>\n",
       "      <td>3</td>\n",
       "    </tr>\n",
       "  </tbody>\n",
       "</table>\n",
       "</div>"
      ],
      "text/plain": [
       "                                                text          pred  count  \\\n",
       "0  on ordinary occasions the boys would have swum...       sadness     30   \n",
       "1                    what is it? he cried, shrinking  thankfulness     98   \n",
       "2  she drifted in one direction and he was borne ...  thankfulness     98   \n",
       "3                                'thank you, peter.'          fear      3   \n",
       "4  i don't want to go to school and learn solemn ...          love     13   \n",
       "\n",
       "   pred_cat  \n",
       "0         4  \n",
       "1         5  \n",
       "2         5  \n",
       "3         1  \n",
       "4         3  "
      ]
     },
     "execution_count": 35,
     "metadata": {},
     "output_type": "execute_result"
    }
   ],
   "source": [
    "pred_df.head()"
   ]
  },
  {
   "cell_type": "markdown",
   "metadata": {},
   "source": [
    "## Confusion Matrix"
   ]
  },
  {
   "cell_type": "code",
   "execution_count": 36,
   "metadata": {},
   "outputs": [],
   "source": [
    "confusion = confusion_matrix(og_df[\"emotions_cat\"], pred_df[\"pred_cat\"])"
   ]
  },
  {
   "cell_type": "code",
   "execution_count": 37,
   "metadata": {},
   "outputs": [
    {
     "data": {
      "text/plain": [
       "array([[ 1,  0,  4,  3,  4, 14],\n",
       "       [ 3,  0,  1,  2,  6, 23],\n",
       "       [ 1,  1,  1,  2,  3, 14],\n",
       "       [ 0,  0,  0,  1,  3, 15],\n",
       "       [ 3,  1,  2,  2,  9, 21],\n",
       "       [ 1,  1,  1,  3,  5, 11]], dtype=int64)"
      ]
     },
     "execution_count": 37,
     "metadata": {},
     "output_type": "execute_result"
    }
   ],
   "source": [
    "confusion"
   ]
  },
  {
   "cell_type": "code",
   "execution_count": 38,
   "metadata": {},
   "outputs": [],
   "source": [
    "def plot_confusion_matrix(cm, target_names, title='Confusion matrix', cmap=None, normalize=True):\n",
    "    \"\"\"\n",
    "    Source: https://scikit-learn.org/0.18/auto_examples/model_selection/plot_confusion_matrix.html\n",
    "    \"\"\"\n",
    "    import matplotlib.pyplot as plt\n",
    "    import numpy as np\n",
    "    import itertools\n",
    "\n",
    "    accuracy = np.trace(cm) / np.sum(cm).astype('float')\n",
    "    misclass = 1 - accuracy\n",
    "\n",
    "    if cmap is None:\n",
    "        cmap = plt.get_cmap('Blues')\n",
    "\n",
    "    plt.figure(figsize=(10, 7))\n",
    "    plt.imshow(cm, interpolation='nearest', cmap=cmap)\n",
    "    plt.title(title)\n",
    "    plt.colorbar()\n",
    "\n",
    "    if target_names is not None:\n",
    "        tick_marks = np.arange(len(target_names))\n",
    "        plt.xticks(tick_marks, target_names, rotation=45)\n",
    "        plt.yticks(tick_marks, target_names)\n",
    "\n",
    "    if normalize:\n",
    "        cm = cm.astype('float') / cm.sum(axis=1)[:, np.newaxis]\n",
    "\n",
    "    thresh = cm.max() / 1.5 if normalize else cm.max() / 2\n",
    "    for i, j in itertools.product(range(cm.shape[0]), range(cm.shape[1])):\n",
    "        if normalize:\n",
    "            plt.text(j, i, \"{:0.4f}\".format(cm[i, j]),\n",
    "                     horizontalalignment=\"center\",\n",
    "                     color=\"white\" if cm[i, j] > thresh else \"black\")\n",
    "        else:\n",
    "            plt.text(j, i, \"{:,}\".format(cm[i, j]),\n",
    "                     horizontalalignment=\"center\",\n",
    "                     color=\"white\" if cm[i, j] > thresh else \"black\")\n",
    "\n",
    "    plt.tight_layout()\n",
    "    plt.ylabel('True label')\n",
    "    plt.xlabel('Predicted label\\naccuracy={:0.4f}; misclass={:0.4f}'.format(\n",
    "        accuracy, misclass))\n",
    "    plt.show()"
   ]
  },
  {
   "cell_type": "code",
   "execution_count": 39,
   "metadata": {},
   "outputs": [
    {
     "data": {
      "image/png": "[encoded data removed]",
      "text/plain": [
       "<Figure size 720x504 with 2 Axes>"
      ]
     },
     "metadata": {
      "needs_background": "light"
     },
     "output_type": "display_data"
    }
   ],
   "source": [
    "target_names = []\n",
    "for k, v in category_dict.items(): target_names.append(v)\n",
    "plot_confusion_matrix(cm=confusion, target_names=target_names, title='Confusion matrix')"
   ]
  },
  {
   "cell_type": "raw",
   "metadata": {
    "scrolled": false
   },
   "source": [
    "plt.figure(figsize=(10,6))\n",
    "sns.heatmap(confusion, annot=True, linewidths=.3)\n",
    "plt.show()"
   ]
  },
  {
   "attachments": {
    "image.png": {
     "image/png": "[encoded data removed]"
    }
   },
   "cell_type": "markdown",
   "metadata": {},
   "source": [
    "### Precision-Recall Report\n",
    "<div>\n",
    "<img src=\"attachment:image.png\" width=\"700\"/>\n",
    "</div>"
   ]
  },
  {
   "cell_type": "code",
   "execution_count": 40,
   "metadata": {},
   "outputs": [
    {
     "data": {
      "text/plain": [
       "['anger', 'fear', 'joy', 'love', 'sadness', 'thankfulness']"
      ]
     },
     "execution_count": 40,
     "metadata": {},
     "output_type": "execute_result"
    }
   ],
   "source": [
    "classes = []\n",
    "for k, v in category_dict.items(): classes.append(v)\n",
    "classes"
   ]
  },
  {
   "cell_type": "code",
   "execution_count": 41,
   "metadata": {},
   "outputs": [
    {
     "name": "stdout",
     "output_type": "stream",
     "text": [
      "              precision    recall  f1-score   support\n",
      "\n",
      "       anger       0.11      0.04      0.06        26\n",
      "        fear       0.00      0.00      0.00        35\n",
      "         joy       0.11      0.05      0.06        22\n",
      "        love       0.08      0.05      0.06        19\n",
      "     sadness       0.30      0.24      0.26        38\n",
      "thankfulness       0.11      0.50      0.18        22\n",
      "\n",
      "    accuracy                           0.14       162\n",
      "   macro avg       0.12      0.15      0.11       162\n",
      "weighted avg       0.13      0.14      0.11       162\n",
      "\n"
     ]
    }
   ],
   "source": [
    "print(classification_report(og_df[\"emotions_cat\"], pred_df[\"pred_cat\"], target_names=classes))"
   ]
  },
  {
   "cell_type": "markdown",
   "metadata": {},
   "source": [
    "## Exporting Results"
   ]
  },
  {
   "cell_type": "raw",
   "metadata": {},
   "source": [
    "pred_df[[\"text\",\"pred\"]].to_csv(\"results/peter_pan_emotions_predictions.csv\", index=False)"
   ]
  },
  {
   "cell_type": "raw",
   "metadata": {},
   "source": [
    "og_df.head(2)\n",
    "pred_df.head(2)"
   ]
  },
  {
   "cell_type": "code",
   "execution_count": 42,
   "metadata": {},
   "outputs": [],
   "source": [
    "CORRECT_PRED_DIR = \"results/peter_pan_thresh_0.6/peter_pan_correct_predictions\"\n",
    "MISSED_PRED_DIR = \"results/peter_pan_thresh_0.6/peter_pan_missed_predictions\"\n",
    "\n",
    "ANGER_CORRECT_PRED_CSV = f\"{CORRECT_PRED_DIR}/anger_correct_pred.csv\"\n",
    "FEAR_CORRECT_PRED_CSV = f\"{CORRECT_PRED_DIR}/fear_correct_pred.csv\"\n",
    "JOY_CORRECT_PRED_CSV = f\"{CORRECT_PRED_DIR}/joy_correct_pred.csv\"\n",
    "LOVE_CORRECT_PRED_CSV = f\"{CORRECT_PRED_DIR}/love_correct_pred.csv\"\n",
    "SADNESS_CORRECT_PRED_CSV = f\"{CORRECT_PRED_DIR}/sadness_correct_pred.csv\"\n",
    "THANKFULNESS_CORRECT_PRED_CSV = f\"{CORRECT_PRED_DIR}/thankfulness_correct_pred.csv\"\n",
    "MISSED_PRED_CSV = f\"{MISSED_PRED_DIR}/missed_pred.csv\""
   ]
  },
  {
   "cell_type": "code",
   "execution_count": 43,
   "metadata": {},
   "outputs": [],
   "source": [
    "final_df = pd.merge(og_df, pred_df, on='text', how='left')"
   ]
  },
  {
   "cell_type": "code",
   "execution_count": 44,
   "metadata": {},
   "outputs": [
    {
     "data": {
      "text/html": [
       "<div>\n",
       "<style scoped>\n",
       "    .dataframe tbody tr th:only-of-type {\n",
       "        vertical-align: middle;\n",
       "    }\n",
       "\n",
       "    .dataframe tbody tr th {\n",
       "        vertical-align: top;\n",
       "    }\n",
       "\n",
       "    .dataframe thead th {\n",
       "        text-align: right;\n",
       "    }\n",
       "</style>\n",
       "<table border=\"1\" class=\"dataframe\">\n",
       "  <thead>\n",
       "    <tr style=\"text-align: right;\">\n",
       "      <th></th>\n",
       "      <th>text</th>\n",
       "      <th>emotions</th>\n",
       "      <th>count_x</th>\n",
       "      <th>emotions_cat</th>\n",
       "      <th>pred</th>\n",
       "      <th>count_y</th>\n",
       "      <th>pred_cat</th>\n",
       "    </tr>\n",
       "  </thead>\n",
       "  <tbody>\n",
       "    <tr>\n",
       "      <th>0</th>\n",
       "      <td>on ordinary occasions the boys would have swum...</td>\n",
       "      <td>joy</td>\n",
       "      <td>22</td>\n",
       "      <td>2</td>\n",
       "      <td>sadness</td>\n",
       "      <td>30</td>\n",
       "      <td>4</td>\n",
       "    </tr>\n",
       "    <tr>\n",
       "      <th>1</th>\n",
       "      <td>what is it? he cried, shrinking</td>\n",
       "      <td>fear</td>\n",
       "      <td>35</td>\n",
       "      <td>1</td>\n",
       "      <td>thankfulness</td>\n",
       "      <td>98</td>\n",
       "      <td>5</td>\n",
       "    </tr>\n",
       "    <tr>\n",
       "      <th>2</th>\n",
       "      <td>she drifted in one direction and he was borne ...</td>\n",
       "      <td>joy</td>\n",
       "      <td>22</td>\n",
       "      <td>2</td>\n",
       "      <td>thankfulness</td>\n",
       "      <td>98</td>\n",
       "      <td>5</td>\n",
       "    </tr>\n",
       "    <tr>\n",
       "      <th>3</th>\n",
       "      <td>'thank you, peter.'</td>\n",
       "      <td>thankfulness</td>\n",
       "      <td>22</td>\n",
       "      <td>5</td>\n",
       "      <td>fear</td>\n",
       "      <td>3</td>\n",
       "      <td>1</td>\n",
       "    </tr>\n",
       "    <tr>\n",
       "      <th>4</th>\n",
       "      <td>i don't want to go to school and learn solemn ...</td>\n",
       "      <td>thankfulness</td>\n",
       "      <td>22</td>\n",
       "      <td>5</td>\n",
       "      <td>love</td>\n",
       "      <td>13</td>\n",
       "      <td>3</td>\n",
       "    </tr>\n",
       "  </tbody>\n",
       "</table>\n",
       "</div>"
      ],
      "text/plain": [
       "                                                text      emotions  count_x  \\\n",
       "0  on ordinary occasions the boys would have swum...           joy       22   \n",
       "1                    what is it? he cried, shrinking          fear       35   \n",
       "2  she drifted in one direction and he was borne ...           joy       22   \n",
       "3                                'thank you, peter.'  thankfulness       22   \n",
       "4  i don't want to go to school and learn solemn ...  thankfulness       22   \n",
       "\n",
       "   emotions_cat          pred  count_y  pred_cat  \n",
       "0             2       sadness       30         4  \n",
       "1             1  thankfulness       98         5  \n",
       "2             2  thankfulness       98         5  \n",
       "3             5          fear        3         1  \n",
       "4             5          love       13         3  "
      ]
     },
     "execution_count": 44,
     "metadata": {},
     "output_type": "execute_result"
    }
   ],
   "source": [
    "final_df.head()"
   ]
  },
  {
   "cell_type": "code",
   "execution_count": 45,
   "metadata": {},
   "outputs": [
    {
     "data": {
      "text/html": [
       "<div>\n",
       "<style scoped>\n",
       "    .dataframe tbody tr th:only-of-type {\n",
       "        vertical-align: middle;\n",
       "    }\n",
       "\n",
       "    .dataframe tbody tr th {\n",
       "        vertical-align: top;\n",
       "    }\n",
       "\n",
       "    .dataframe thead th {\n",
       "        text-align: right;\n",
       "    }\n",
       "</style>\n",
       "<table border=\"1\" class=\"dataframe\">\n",
       "  <thead>\n",
       "    <tr style=\"text-align: right;\">\n",
       "      <th></th>\n",
       "      <th>text</th>\n",
       "      <th>emotions</th>\n",
       "      <th>pred</th>\n",
       "    </tr>\n",
       "  </thead>\n",
       "  <tbody>\n",
       "    <tr>\n",
       "      <th>29</th>\n",
       "      <td>the never bird became irritated; they have ver...</td>\n",
       "      <td>anger</td>\n",
       "      <td>anger</td>\n",
       "    </tr>\n",
       "  </tbody>\n",
       "</table>\n",
       "</div>"
      ],
      "text/plain": [
       "                                                 text emotions   pred\n",
       "29  the never bird became irritated; they have ver...    anger  anger"
      ]
     },
     "execution_count": 45,
     "metadata": {},
     "output_type": "execute_result"
    }
   ],
   "source": [
    "anger = final_df[(final_df[\"emotions\"]==\"anger\") & (final_df[\"pred\"]==\"anger\")]\n",
    "anger = anger[[\"text\", \"emotions\", \"pred\"]]\n",
    "anger"
   ]
  },
  {
   "cell_type": "code",
   "execution_count": 46,
   "metadata": {},
   "outputs": [
    {
     "data": {
      "text/html": [
       "<div>\n",
       "<style scoped>\n",
       "    .dataframe tbody tr th:only-of-type {\n",
       "        vertical-align: middle;\n",
       "    }\n",
       "\n",
       "    .dataframe tbody tr th {\n",
       "        vertical-align: top;\n",
       "    }\n",
       "\n",
       "    .dataframe thead th {\n",
       "        text-align: right;\n",
       "    }\n",
       "</style>\n",
       "<table border=\"1\" class=\"dataframe\">\n",
       "  <thead>\n",
       "    <tr style=\"text-align: right;\">\n",
       "      <th></th>\n",
       "      <th>text</th>\n",
       "      <th>emotions</th>\n",
       "      <th>pred</th>\n",
       "    </tr>\n",
       "  </thead>\n",
       "  <tbody>\n",
       "  </tbody>\n",
       "</table>\n",
       "</div>"
      ],
      "text/plain": [
       "Empty DataFrame\n",
       "Columns: [text, emotions, pred]\n",
       "Index: []"
      ]
     },
     "execution_count": 46,
     "metadata": {},
     "output_type": "execute_result"
    }
   ],
   "source": [
    "fear = final_df[(final_df[\"emotions\"]==\"fear\") & (final_df[\"pred\"]==\"fear\")]\n",
    "fear = fear[[\"text\", \"emotions\", \"pred\"]]\n",
    "fear"
   ]
  },
  {
   "cell_type": "code",
   "execution_count": 47,
   "metadata": {},
   "outputs": [
    {
     "data": {
      "text/html": [
       "<div>\n",
       "<style scoped>\n",
       "    .dataframe tbody tr th:only-of-type {\n",
       "        vertical-align: middle;\n",
       "    }\n",
       "\n",
       "    .dataframe tbody tr th {\n",
       "        vertical-align: top;\n",
       "    }\n",
       "\n",
       "    .dataframe thead th {\n",
       "        text-align: right;\n",
       "    }\n",
       "</style>\n",
       "<table border=\"1\" class=\"dataframe\">\n",
       "  <thead>\n",
       "    <tr style=\"text-align: right;\">\n",
       "      <th></th>\n",
       "      <th>text</th>\n",
       "      <th>emotions</th>\n",
       "      <th>pred</th>\n",
       "    </tr>\n",
       "  </thead>\n",
       "  <tbody>\n",
       "    <tr>\n",
       "      <th>101</th>\n",
       "      <td>then he had leapt into her arms.</td>\n",
       "      <td>joy</td>\n",
       "      <td>joy</td>\n",
       "    </tr>\n",
       "  </tbody>\n",
       "</table>\n",
       "</div>"
      ],
      "text/plain": [
       "                                 text emotions pred\n",
       "101  then he had leapt into her arms.      joy  joy"
      ]
     },
     "execution_count": 47,
     "metadata": {},
     "output_type": "execute_result"
    }
   ],
   "source": [
    "joy = final_df[(final_df[\"emotions\"]==\"joy\") & (final_df[\"pred\"]==\"joy\")]\n",
    "joy = joy[[\"text\", \"emotions\", \"pred\"]]\n",
    "joy"
   ]
  },
  {
   "cell_type": "code",
   "execution_count": 48,
   "metadata": {},
   "outputs": [
    {
     "data": {
      "text/html": [
       "<div>\n",
       "<style scoped>\n",
       "    .dataframe tbody tr th:only-of-type {\n",
       "        vertical-align: middle;\n",
       "    }\n",
       "\n",
       "    .dataframe tbody tr th {\n",
       "        vertical-align: top;\n",
       "    }\n",
       "\n",
       "    .dataframe thead th {\n",
       "        text-align: right;\n",
       "    }\n",
       "</style>\n",
       "<table border=\"1\" class=\"dataframe\">\n",
       "  <thead>\n",
       "    <tr style=\"text-align: right;\">\n",
       "      <th></th>\n",
       "      <th>text</th>\n",
       "      <th>emotions</th>\n",
       "      <th>pred</th>\n",
       "    </tr>\n",
       "  </thead>\n",
       "  <tbody>\n",
       "    <tr>\n",
       "      <th>93</th>\n",
       "      <td>i should love you in a beard</td>\n",
       "      <td>love</td>\n",
       "      <td>love</td>\n",
       "    </tr>\n",
       "  </tbody>\n",
       "</table>\n",
       "</div>"
      ],
      "text/plain": [
       "                            text emotions  pred\n",
       "93  i should love you in a beard     love  love"
      ]
     },
     "execution_count": 48,
     "metadata": {},
     "output_type": "execute_result"
    }
   ],
   "source": [
    "love = final_df[(final_df[\"emotions\"]==\"love\") & (final_df[\"pred\"]==\"love\")]\n",
    "love = love[[\"text\", \"emotions\", \"pred\"]]\n",
    "love"
   ]
  },
  {
   "cell_type": "code",
   "execution_count": 49,
   "metadata": {},
   "outputs": [
    {
     "data": {
      "text/html": [
       "<div>\n",
       "<style scoped>\n",
       "    .dataframe tbody tr th:only-of-type {\n",
       "        vertical-align: middle;\n",
       "    }\n",
       "\n",
       "    .dataframe tbody tr th {\n",
       "        vertical-align: top;\n",
       "    }\n",
       "\n",
       "    .dataframe thead th {\n",
       "        text-align: right;\n",
       "    }\n",
       "</style>\n",
       "<table border=\"1\" class=\"dataframe\">\n",
       "  <thead>\n",
       "    <tr style=\"text-align: right;\">\n",
       "      <th></th>\n",
       "      <th>text</th>\n",
       "      <th>emotions</th>\n",
       "      <th>count_x</th>\n",
       "      <th>emotions_cat</th>\n",
       "      <th>pred</th>\n",
       "      <th>count_y</th>\n",
       "      <th>pred_cat</th>\n",
       "    </tr>\n",
       "  </thead>\n",
       "  <tbody>\n",
       "    <tr>\n",
       "      <th>9</th>\n",
       "      <td>next moment he was standing erect on the rock ...</td>\n",
       "      <td>sadness</td>\n",
       "      <td>38</td>\n",
       "      <td>4</td>\n",
       "      <td>sadness</td>\n",
       "      <td>30</td>\n",
       "      <td>4</td>\n",
       "    </tr>\n",
       "    <tr>\n",
       "      <th>10</th>\n",
       "      <td>wendy would have cried if michael had not been...</td>\n",
       "      <td>sadness</td>\n",
       "      <td>38</td>\n",
       "      <td>4</td>\n",
       "      <td>sadness</td>\n",
       "      <td>30</td>\n",
       "      <td>4</td>\n",
       "    </tr>\n",
       "    <tr>\n",
       "      <th>53</th>\n",
       "      <td>smee reflected. i can't think of a thing he sa...</td>\n",
       "      <td>sadness</td>\n",
       "      <td>38</td>\n",
       "      <td>4</td>\n",
       "      <td>sadness</td>\n",
       "      <td>30</td>\n",
       "      <td>4</td>\n",
       "    </tr>\n",
       "    <tr>\n",
       "      <th>73</th>\n",
       "      <td>'at once,' wendy replied resolutely, for the h...</td>\n",
       "      <td>sadness</td>\n",
       "      <td>38</td>\n",
       "      <td>4</td>\n",
       "      <td>sadness</td>\n",
       "      <td>30</td>\n",
       "      <td>4</td>\n",
       "    </tr>\n",
       "    <tr>\n",
       "      <th>116</th>\n",
       "      <td>starkey looked round for help, but all deserte...</td>\n",
       "      <td>sadness</td>\n",
       "      <td>38</td>\n",
       "      <td>4</td>\n",
       "      <td>sadness</td>\n",
       "      <td>30</td>\n",
       "      <td>4</td>\n",
       "    </tr>\n",
       "    <tr>\n",
       "      <th>120</th>\n",
       "      <td>me no let pirates hurt him.</td>\n",
       "      <td>sadness</td>\n",
       "      <td>38</td>\n",
       "      <td>4</td>\n",
       "      <td>sadness</td>\n",
       "      <td>30</td>\n",
       "      <td>4</td>\n",
       "    </tr>\n",
       "    <tr>\n",
       "      <th>146</th>\n",
       "      <td>mrs. darling put her hand to her heart and cried</td>\n",
       "      <td>sadness</td>\n",
       "      <td>38</td>\n",
       "      <td>4</td>\n",
       "      <td>sadness</td>\n",
       "      <td>30</td>\n",
       "      <td>4</td>\n",
       "    </tr>\n",
       "    <tr>\n",
       "      <th>152</th>\n",
       "      <td>'no,' he answered, pretending indifference, 'i...</td>\n",
       "      <td>sadness</td>\n",
       "      <td>38</td>\n",
       "      <td>4</td>\n",
       "      <td>sadness</td>\n",
       "      <td>30</td>\n",
       "      <td>4</td>\n",
       "    </tr>\n",
       "    <tr>\n",
       "      <th>156</th>\n",
       "      <td>of course we can, george, she cried</td>\n",
       "      <td>sadness</td>\n",
       "      <td>38</td>\n",
       "      <td>4</td>\n",
       "      <td>sadness</td>\n",
       "      <td>30</td>\n",
       "      <td>4</td>\n",
       "    </tr>\n",
       "  </tbody>\n",
       "</table>\n",
       "</div>"
      ],
      "text/plain": [
       "                                                  text emotions  count_x  \\\n",
       "9    next moment he was standing erect on the rock ...  sadness       38   \n",
       "10   wendy would have cried if michael had not been...  sadness       38   \n",
       "53   smee reflected. i can't think of a thing he sa...  sadness       38   \n",
       "73   'at once,' wendy replied resolutely, for the h...  sadness       38   \n",
       "116  starkey looked round for help, but all deserte...  sadness       38   \n",
       "120                        me no let pirates hurt him.  sadness       38   \n",
       "146   mrs. darling put her hand to her heart and cried  sadness       38   \n",
       "152  'no,' he answered, pretending indifference, 'i...  sadness       38   \n",
       "156                of course we can, george, she cried  sadness       38   \n",
       "\n",
       "     emotions_cat     pred  count_y  pred_cat  \n",
       "9               4  sadness       30         4  \n",
       "10              4  sadness       30         4  \n",
       "53              4  sadness       30         4  \n",
       "73              4  sadness       30         4  \n",
       "116             4  sadness       30         4  \n",
       "120             4  sadness       30         4  \n",
       "146             4  sadness       30         4  \n",
       "152             4  sadness       30         4  \n",
       "156             4  sadness       30         4  "
      ]
     },
     "execution_count": 49,
     "metadata": {},
     "output_type": "execute_result"
    }
   ],
   "source": [
    "sadness = final_df[(final_df[\"emotions\"]==\"sadness\") & (final_df[\"pred\"]==\"sadness\")]\n",
    "sadness"
   ]
  },
  {
   "cell_type": "code",
   "execution_count": 50,
   "metadata": {},
   "outputs": [
    {
     "data": {
      "text/html": [
       "<div>\n",
       "<style scoped>\n",
       "    .dataframe tbody tr th:only-of-type {\n",
       "        vertical-align: middle;\n",
       "    }\n",
       "\n",
       "    .dataframe tbody tr th {\n",
       "        vertical-align: top;\n",
       "    }\n",
       "\n",
       "    .dataframe thead th {\n",
       "        text-align: right;\n",
       "    }\n",
       "</style>\n",
       "<table border=\"1\" class=\"dataframe\">\n",
       "  <thead>\n",
       "    <tr style=\"text-align: right;\">\n",
       "      <th></th>\n",
       "      <th>text</th>\n",
       "      <th>emotions</th>\n",
       "      <th>pred</th>\n",
       "    </tr>\n",
       "  </thead>\n",
       "  <tbody>\n",
       "    <tr>\n",
       "      <th>11</th>\n",
       "      <td>then at last he understood and clutched the ne...</td>\n",
       "      <td>thankfulness</td>\n",
       "      <td>thankfulness</td>\n",
       "    </tr>\n",
       "    <tr>\n",
       "      <th>22</th>\n",
       "      <td>i forget whether they found it, but at any rat...</td>\n",
       "      <td>thankfulness</td>\n",
       "      <td>thankfulness</td>\n",
       "    </tr>\n",
       "    <tr>\n",
       "      <th>34</th>\n",
       "      <td>he often said stocks were up and shares were d...</td>\n",
       "      <td>thankfulness</td>\n",
       "      <td>thankfulness</td>\n",
       "    </tr>\n",
       "    <tr>\n",
       "      <th>50</th>\n",
       "      <td>peter was really the best dancer among them, b...</td>\n",
       "      <td>thankfulness</td>\n",
       "      <td>thankfulness</td>\n",
       "    </tr>\n",
       "    <tr>\n",
       "      <th>55</th>\n",
       "      <td>but he was very honourable, and he sat on the ...</td>\n",
       "      <td>thankfulness</td>\n",
       "      <td>thankfulness</td>\n",
       "    </tr>\n",
       "    <tr>\n",
       "      <th>68</th>\n",
       "      <td>it is good. peter pan has spoken.</td>\n",
       "      <td>thankfulness</td>\n",
       "      <td>thankfulness</td>\n",
       "    </tr>\n",
       "    <tr>\n",
       "      <th>75</th>\n",
       "      <td>that is a pretty story and the end shows how g...</td>\n",
       "      <td>thankfulness</td>\n",
       "      <td>thankfulness</td>\n",
       "    </tr>\n",
       "    <tr>\n",
       "      <th>97</th>\n",
       "      <td>'what is it?' she asked, anxious about him at ...</td>\n",
       "      <td>thankfulness</td>\n",
       "      <td>thankfulness</td>\n",
       "    </tr>\n",
       "    <tr>\n",
       "      <th>113</th>\n",
       "      <td>he was so much the humblest of them, indeed he...</td>\n",
       "      <td>thankfulness</td>\n",
       "      <td>thankfulness</td>\n",
       "    </tr>\n",
       "    <tr>\n",
       "      <th>114</th>\n",
       "      <td>peter, always sympathetic to the weaker side, ...</td>\n",
       "      <td>thankfulness</td>\n",
       "      <td>thankfulness</td>\n",
       "    </tr>\n",
       "    <tr>\n",
       "      <th>142</th>\n",
       "      <td>as she was another mouth to feed. mr. darling ...</td>\n",
       "      <td>thankfulness</td>\n",
       "      <td>thankfulness</td>\n",
       "    </tr>\n",
       "  </tbody>\n",
       "</table>\n",
       "</div>"
      ],
      "text/plain": [
       "                                                  text      emotions  \\\n",
       "11   then at last he understood and clutched the ne...  thankfulness   \n",
       "22   i forget whether they found it, but at any rat...  thankfulness   \n",
       "34   he often said stocks were up and shares were d...  thankfulness   \n",
       "50   peter was really the best dancer among them, b...  thankfulness   \n",
       "55   but he was very honourable, and he sat on the ...  thankfulness   \n",
       "68                   it is good. peter pan has spoken.  thankfulness   \n",
       "75   that is a pretty story and the end shows how g...  thankfulness   \n",
       "97   'what is it?' she asked, anxious about him at ...  thankfulness   \n",
       "113  he was so much the humblest of them, indeed he...  thankfulness   \n",
       "114  peter, always sympathetic to the weaker side, ...  thankfulness   \n",
       "142  as she was another mouth to feed. mr. darling ...  thankfulness   \n",
       "\n",
       "             pred  \n",
       "11   thankfulness  \n",
       "22   thankfulness  \n",
       "34   thankfulness  \n",
       "50   thankfulness  \n",
       "55   thankfulness  \n",
       "68   thankfulness  \n",
       "75   thankfulness  \n",
       "97   thankfulness  \n",
       "113  thankfulness  \n",
       "114  thankfulness  \n",
       "142  thankfulness  "
      ]
     },
     "execution_count": 50,
     "metadata": {},
     "output_type": "execute_result"
    }
   ],
   "source": [
    "thankfulness = final_df[(final_df[\"emotions\"]==\"thankfulness\") & (final_df[\"pred\"]==\"thankfulness\")]\n",
    "thankfulness = thankfulness[[\"text\", \"emotions\", \"pred\"]]\n",
    "thankfulness"
   ]
  },
  {
   "cell_type": "code",
   "execution_count": 51,
   "metadata": {
    "scrolled": true
   },
   "outputs": [
    {
     "data": {
      "text/html": [
       "<div>\n",
       "<style scoped>\n",
       "    .dataframe tbody tr th:only-of-type {\n",
       "        vertical-align: middle;\n",
       "    }\n",
       "\n",
       "    .dataframe tbody tr th {\n",
       "        vertical-align: top;\n",
       "    }\n",
       "\n",
       "    .dataframe thead th {\n",
       "        text-align: right;\n",
       "    }\n",
       "</style>\n",
       "<table border=\"1\" class=\"dataframe\">\n",
       "  <thead>\n",
       "    <tr style=\"text-align: right;\">\n",
       "      <th></th>\n",
       "      <th>text</th>\n",
       "      <th>emotions</th>\n",
       "      <th>pred</th>\n",
       "    </tr>\n",
       "  </thead>\n",
       "  <tbody>\n",
       "    <tr>\n",
       "      <th>0</th>\n",
       "      <td>on ordinary occasions the boys would have swum...</td>\n",
       "      <td>joy</td>\n",
       "      <td>sadness</td>\n",
       "    </tr>\n",
       "    <tr>\n",
       "      <th>1</th>\n",
       "      <td>what is it? he cried, shrinking</td>\n",
       "      <td>fear</td>\n",
       "      <td>thankfulness</td>\n",
       "    </tr>\n",
       "    <tr>\n",
       "      <th>2</th>\n",
       "      <td>she drifted in one direction and he was borne ...</td>\n",
       "      <td>joy</td>\n",
       "      <td>thankfulness</td>\n",
       "    </tr>\n",
       "    <tr>\n",
       "      <th>3</th>\n",
       "      <td>'thank you, peter.'</td>\n",
       "      <td>thankfulness</td>\n",
       "      <td>fear</td>\n",
       "    </tr>\n",
       "    <tr>\n",
       "      <th>4</th>\n",
       "      <td>i don't want to go to school and learn solemn ...</td>\n",
       "      <td>thankfulness</td>\n",
       "      <td>love</td>\n",
       "    </tr>\n",
       "    <tr>\n",
       "      <th>...</th>\n",
       "      <td>...</td>\n",
       "      <td>...</td>\n",
       "      <td>...</td>\n",
       "    </tr>\n",
       "    <tr>\n",
       "      <th>157</th>\n",
       "      <td>the point is, that there is more in my glass t...</td>\n",
       "      <td>anger</td>\n",
       "      <td>love</td>\n",
       "    </tr>\n",
       "    <tr>\n",
       "      <th>158</th>\n",
       "      <td>these things scared her a little.</td>\n",
       "      <td>fear</td>\n",
       "      <td>love</td>\n",
       "    </tr>\n",
       "    <tr>\n",
       "      <th>159</th>\n",
       "      <td>'i am awfully glad she isn't dead,' said tootles.</td>\n",
       "      <td>joy</td>\n",
       "      <td>love</td>\n",
       "    </tr>\n",
       "    <tr>\n",
       "      <th>160</th>\n",
       "      <td>up at any moment of the night if one of her ch...</td>\n",
       "      <td>sadness</td>\n",
       "      <td>thankfulness</td>\n",
       "    </tr>\n",
       "    <tr>\n",
       "      <th>161</th>\n",
       "      <td>If you don't get up and dress at once i will o...</td>\n",
       "      <td>anger</td>\n",
       "      <td>thankfulness</td>\n",
       "    </tr>\n",
       "  </tbody>\n",
       "</table>\n",
       "<p>139 rows × 3 columns</p>\n",
       "</div>"
      ],
      "text/plain": [
       "                                                  text      emotions  \\\n",
       "0    on ordinary occasions the boys would have swum...           joy   \n",
       "1                      what is it? he cried, shrinking          fear   \n",
       "2    she drifted in one direction and he was borne ...           joy   \n",
       "3                                  'thank you, peter.'  thankfulness   \n",
       "4    i don't want to go to school and learn solemn ...  thankfulness   \n",
       "..                                                 ...           ...   \n",
       "157  the point is, that there is more in my glass t...         anger   \n",
       "158                  these things scared her a little.          fear   \n",
       "159  'i am awfully glad she isn't dead,' said tootles.           joy   \n",
       "160  up at any moment of the night if one of her ch...       sadness   \n",
       "161  If you don't get up and dress at once i will o...         anger   \n",
       "\n",
       "             pred  \n",
       "0         sadness  \n",
       "1    thankfulness  \n",
       "2    thankfulness  \n",
       "3            fear  \n",
       "4            love  \n",
       "..            ...  \n",
       "157          love  \n",
       "158          love  \n",
       "159          love  \n",
       "160  thankfulness  \n",
       "161  thankfulness  \n",
       "\n",
       "[139 rows x 3 columns]"
      ]
     },
     "execution_count": 51,
     "metadata": {},
     "output_type": "execute_result"
    }
   ],
   "source": [
    "missed = final_df.loc[~(final_df['emotions'] == final_df['pred'])]\n",
    "missed = missed[[\"text\", \"emotions\", \"pred\"]]\n",
    "missed"
   ]
  },
  {
   "cell_type": "code",
   "execution_count": 52,
   "metadata": {},
   "outputs": [],
   "source": [
    "anger.to_csv(ANGER_CORRECT_PRED_CSV, index=False, mode=\"w+\")\n",
    "fear.to_csv(FEAR_CORRECT_PRED_CSV, index=False, mode=\"w+\")\n",
    "joy.to_csv(JOY_CORRECT_PRED_CSV, index=False, mode=\"w+\")\n",
    "love.to_csv(LOVE_CORRECT_PRED_CSV, index=False, mode=\"w+\")\n",
    "sadness.to_csv(SADNESS_CORRECT_PRED_CSV, index=False, mode=\"w+\")\n",
    "thankfulness.to_csv(THANKFULNESS_CORRECT_PRED_CSV, index=False, mode=\"w+\")\n",
    "missed.to_csv(MISSED_PRED_CSV, index=False, mode=\"w+\")"
   ]
  }
 ],
 "metadata": {
  "kernelspec": {
   "display_name": "Python 3",
   "language": "python",
   "name": "python3"
  },
  "language_info": {
   "codemirror_mode": {
    "name": "ipython",
    "version": 3
   },
   "file_extension": ".py",
   "mimetype": "text/x-python",
   "name": "python",
   "nbconvert_exporter": "python",
   "pygments_lexer": "ipython3",
   "version": "3.8.5"
  }
 },
 "nbformat": 4,
 "nbformat_minor": 4
}
