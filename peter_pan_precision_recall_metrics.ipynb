{
 "cells": [
  {
   "cell_type": "code",
   "execution_count": 1,
   "metadata": {},
   "outputs": [],
   "source": [
    "import pandas as pd\n",
    "from matplotlib import pyplot as plt\n",
    "%matplotlib inline\n",
    "import numpy as np\n",
    "import seaborn as sns\n",
    "from sklearn.metrics import (\n",
    "    confusion_matrix,\n",
    "    ConfusionMatrixDisplay,\n",
    "    accuracy_score, \n",
    "    precision_score, \n",
    "    recall_score, \n",
    "    f1_score, \n",
    "    classification_report)"
   ]
  },
  {
   "cell_type": "code",
   "execution_count": 2,
   "metadata": {},
   "outputs": [],
   "source": [
    "# pd.set_option('display.max_rows', 200)"
   ]
  },
  {
   "cell_type": "code",
   "execution_count": 3,
   "metadata": {},
   "outputs": [],
   "source": [
    "def get_max_emotion_score_df(file, emotion_col, emotion_count_col):\n",
    "    df = pd.read_csv(file)\n",
    "    df[emotion_col] = df[['joy','sadness','anger','love','thankfulness','fear']].idxmax(axis=1)\n",
    "    df[emotion_count_col] = df[emotion_col].groupby(df[emotion_col]).transform(emotion_count_col)\n",
    "    return df"
   ]
  },
  {
   "cell_type": "code",
   "execution_count": 4,
   "metadata": {},
   "outputs": [],
   "source": [
    "def display_bar_chart(df, emotion_col, emotion_count_col):\n",
    "    emotions = df[emotion_col].unique()\n",
    "    emotions_count = []\n",
    "    for emotion in emotions:\n",
    "        emotions_count.append(df[df[emotion_col]==emotion][:1][emotion_count_col].item())\n",
    "    # for emotion, count in zip(emotions, emotions_count):\n",
    "    #    print(f\"{emotion}: {count}\")\n",
    "    data_tuples = list(zip(emotions, emotions_count))\n",
    "    df = pd.DataFrame(data_tuples, columns=['emotions','count'])\n",
    "    plt.figure(figsize=(10,5))\n",
    "    g = sns.barplot(x='emotions', y='count', data=df.sort_values('emotions'))"
   ]
  },
  {
   "cell_type": "markdown",
   "metadata": {},
   "source": [
    "## Original Dataset"
   ]
  },
  {
   "cell_type": "code",
   "execution_count": 5,
   "metadata": {},
   "outputs": [
    {
     "data": {
      "text/html": [
       "<div>\n",
       "<style scoped>\n",
       "    .dataframe tbody tr th:only-of-type {\n",
       "        vertical-align: middle;\n",
       "    }\n",
       "\n",
       "    .dataframe tbody tr th {\n",
       "        vertical-align: top;\n",
       "    }\n",
       "\n",
       "    .dataframe thead th {\n",
       "        text-align: right;\n",
       "    }\n",
       "</style>\n",
       "<table border=\"1\" class=\"dataframe\">\n",
       "  <thead>\n",
       "    <tr style=\"text-align: right;\">\n",
       "      <th></th>\n",
       "      <th>text</th>\n",
       "      <th>emotions</th>\n",
       "      <th>count</th>\n",
       "    </tr>\n",
       "  </thead>\n",
       "  <tbody>\n",
       "    <tr>\n",
       "      <th>0</th>\n",
       "      <td>on ordinary occasions the boys would have swum...</td>\n",
       "      <td>joy</td>\n",
       "      <td>25</td>\n",
       "    </tr>\n",
       "    <tr>\n",
       "      <th>1</th>\n",
       "      <td>what is it? he cried, shrinking</td>\n",
       "      <td>fear</td>\n",
       "      <td>36</td>\n",
       "    </tr>\n",
       "    <tr>\n",
       "      <th>2</th>\n",
       "      <td>she drifted in one direction and he was borne ...</td>\n",
       "      <td>joy</td>\n",
       "      <td>25</td>\n",
       "    </tr>\n",
       "    <tr>\n",
       "      <th>3</th>\n",
       "      <td>'thank you, peter.'</td>\n",
       "      <td>thankfulness</td>\n",
       "      <td>22</td>\n",
       "    </tr>\n",
       "    <tr>\n",
       "      <th>4</th>\n",
       "      <td>i don't want to go to school and learn solemn ...</td>\n",
       "      <td>thankfulness</td>\n",
       "      <td>22</td>\n",
       "    </tr>\n",
       "  </tbody>\n",
       "</table>\n",
       "</div>"
      ],
      "text/plain": [
       "                                                text      emotions  count\n",
       "0  on ordinary occasions the boys would have swum...           joy     25\n",
       "1                    what is it? he cried, shrinking          fear     36\n",
       "2  she drifted in one direction and he was borne ...           joy     25\n",
       "3                                'thank you, peter.'  thankfulness     22\n",
       "4  i don't want to go to school and learn solemn ...  thankfulness     22"
      ]
     },
     "execution_count": 5,
     "metadata": {},
     "output_type": "execute_result"
    }
   ],
   "source": [
    "og_df = pd.read_csv(\"data/peter_pan_labelled_novel_dataset.csv\")\n",
    "og_df[\"count\"] = og_df[\"emotions\"].groupby(og_df[\"emotions\"]).transform(\"count\")\n",
    "og_df.head()"
   ]
  },
  {
   "cell_type": "code",
   "execution_count": 6,
   "metadata": {},
   "outputs": [
    {
     "data": {
      "image/png": "[encoded data removed]",
      "text/plain": [
       "<Figure size 720x360 with 1 Axes>"
      ]
     },
     "metadata": {
      "needs_background": "light"
     },
     "output_type": "display_data"
    }
   ],
   "source": [
    "display_bar_chart(og_df, emotion_col=\"emotions\", emotion_count_col=\"count\")"
   ]
  },
  {
   "cell_type": "markdown",
   "metadata": {},
   "source": [
    "## Predicted Dataset"
   ]
  },
  {
   "cell_type": "code",
   "execution_count": 7,
   "metadata": {},
   "outputs": [
    {
     "data": {
      "text/html": [
       "<div>\n",
       "<style scoped>\n",
       "    .dataframe tbody tr th:only-of-type {\n",
       "        vertical-align: middle;\n",
       "    }\n",
       "\n",
       "    .dataframe tbody tr th {\n",
       "        vertical-align: top;\n",
       "    }\n",
       "\n",
       "    .dataframe thead th {\n",
       "        text-align: right;\n",
       "    }\n",
       "</style>\n",
       "<table border=\"1\" class=\"dataframe\">\n",
       "  <thead>\n",
       "    <tr style=\"text-align: right;\">\n",
       "      <th></th>\n",
       "      <th>text</th>\n",
       "      <th>joy</th>\n",
       "      <th>sadness</th>\n",
       "      <th>anger</th>\n",
       "      <th>love</th>\n",
       "      <th>thankfulness</th>\n",
       "      <th>fear</th>\n",
       "    </tr>\n",
       "  </thead>\n",
       "  <tbody>\n",
       "    <tr>\n",
       "      <th>0</th>\n",
       "      <td>on ordinary occasions the boys would have swum...</td>\n",
       "      <td>0.740</td>\n",
       "      <td>0.924</td>\n",
       "      <td>0.091</td>\n",
       "      <td>0.353</td>\n",
       "      <td>0.374</td>\n",
       "      <td>0.228</td>\n",
       "    </tr>\n",
       "    <tr>\n",
       "      <th>1</th>\n",
       "      <td>what is it? he cried, shrinking</td>\n",
       "      <td>0.297</td>\n",
       "      <td>0.226</td>\n",
       "      <td>0.943</td>\n",
       "      <td>0.835</td>\n",
       "      <td>0.778</td>\n",
       "      <td>0.100</td>\n",
       "    </tr>\n",
       "    <tr>\n",
       "      <th>2</th>\n",
       "      <td>she drifted in one direction and he was borne ...</td>\n",
       "      <td>0.362</td>\n",
       "      <td>0.503</td>\n",
       "      <td>0.267</td>\n",
       "      <td>0.568</td>\n",
       "      <td>0.953</td>\n",
       "      <td>0.133</td>\n",
       "    </tr>\n",
       "    <tr>\n",
       "      <th>3</th>\n",
       "      <td>'thank you, peter.'</td>\n",
       "      <td>0.472</td>\n",
       "      <td>0.072</td>\n",
       "      <td>0.136</td>\n",
       "      <td>0.025</td>\n",
       "      <td>0.043</td>\n",
       "      <td>0.738</td>\n",
       "    </tr>\n",
       "    <tr>\n",
       "      <th>4</th>\n",
       "      <td>i don't want to go to school and learn solemn ...</td>\n",
       "      <td>0.537</td>\n",
       "      <td>0.546</td>\n",
       "      <td>0.603</td>\n",
       "      <td>0.690</td>\n",
       "      <td>0.218</td>\n",
       "      <td>0.456</td>\n",
       "    </tr>\n",
       "  </tbody>\n",
       "</table>\n",
       "</div>"
      ],
      "text/plain": [
       "                                                text    joy  sadness  anger  \\\n",
       "0  on ordinary occasions the boys would have swum...  0.740    0.924  0.091   \n",
       "1                    what is it? he cried, shrinking  0.297    0.226  0.943   \n",
       "2  she drifted in one direction and he was borne ...  0.362    0.503  0.267   \n",
       "3                                'thank you, peter.'  0.472    0.072  0.136   \n",
       "4  i don't want to go to school and learn solemn ...  0.537    0.546  0.603   \n",
       "\n",
       "    love  thankfulness   fear  \n",
       "0  0.353         0.374  0.228  \n",
       "1  0.835         0.778  0.100  \n",
       "2  0.568         0.953  0.133  \n",
       "3  0.025         0.043  0.738  \n",
       "4  0.690         0.218  0.456  "
      ]
     },
     "execution_count": 7,
     "metadata": {},
     "output_type": "execute_result"
    }
   ],
   "source": [
    "df = pd.read_csv(\"results/peter_pan_emotions_041121_100151.csv\")\n",
    "df.head()"
   ]
  },
  {
   "cell_type": "code",
   "execution_count": 8,
   "metadata": {},
   "outputs": [],
   "source": [
    "df['emotions'] = df[['joy','sadness','anger','love','thankfulness','fear']].idxmax(axis=1)\n",
    "df['count'] = df[\"emotions\"].groupby(df[\"emotions\"]).transform('count')"
   ]
  },
  {
   "cell_type": "code",
   "execution_count": 10,
   "metadata": {},
   "outputs": [
    {
     "data": {
      "text/html": [
       "<div>\n",
       "<style scoped>\n",
       "    .dataframe tbody tr th:only-of-type {\n",
       "        vertical-align: middle;\n",
       "    }\n",
       "\n",
       "    .dataframe tbody tr th {\n",
       "        vertical-align: top;\n",
       "    }\n",
       "\n",
       "    .dataframe thead th {\n",
       "        text-align: right;\n",
       "    }\n",
       "</style>\n",
       "<table border=\"1\" class=\"dataframe\">\n",
       "  <thead>\n",
       "    <tr style=\"text-align: right;\">\n",
       "      <th></th>\n",
       "      <th>text</th>\n",
       "      <th>joy</th>\n",
       "      <th>sadness</th>\n",
       "      <th>anger</th>\n",
       "      <th>love</th>\n",
       "      <th>thankfulness</th>\n",
       "      <th>fear</th>\n",
       "      <th>emotions</th>\n",
       "      <th>count</th>\n",
       "    </tr>\n",
       "  </thead>\n",
       "  <tbody>\n",
       "    <tr>\n",
       "      <th>0</th>\n",
       "      <td>on ordinary occasions the boys would have swum...</td>\n",
       "      <td>0.740</td>\n",
       "      <td>0.924</td>\n",
       "      <td>0.091</td>\n",
       "      <td>0.353</td>\n",
       "      <td>0.374</td>\n",
       "      <td>0.228</td>\n",
       "      <td>sadness</td>\n",
       "      <td>31</td>\n",
       "    </tr>\n",
       "    <tr>\n",
       "      <th>1</th>\n",
       "      <td>what is it? he cried, shrinking</td>\n",
       "      <td>0.297</td>\n",
       "      <td>0.226</td>\n",
       "      <td>0.943</td>\n",
       "      <td>0.835</td>\n",
       "      <td>0.778</td>\n",
       "      <td>0.100</td>\n",
       "      <td>anger</td>\n",
       "      <td>29</td>\n",
       "    </tr>\n",
       "    <tr>\n",
       "      <th>2</th>\n",
       "      <td>she drifted in one direction and he was borne ...</td>\n",
       "      <td>0.362</td>\n",
       "      <td>0.503</td>\n",
       "      <td>0.267</td>\n",
       "      <td>0.568</td>\n",
       "      <td>0.953</td>\n",
       "      <td>0.133</td>\n",
       "      <td>thankfulness</td>\n",
       "      <td>67</td>\n",
       "    </tr>\n",
       "    <tr>\n",
       "      <th>3</th>\n",
       "      <td>'thank you, peter.'</td>\n",
       "      <td>0.472</td>\n",
       "      <td>0.072</td>\n",
       "      <td>0.136</td>\n",
       "      <td>0.025</td>\n",
       "      <td>0.043</td>\n",
       "      <td>0.738</td>\n",
       "      <td>fear</td>\n",
       "      <td>5</td>\n",
       "    </tr>\n",
       "    <tr>\n",
       "      <th>4</th>\n",
       "      <td>i don't want to go to school and learn solemn ...</td>\n",
       "      <td>0.537</td>\n",
       "      <td>0.546</td>\n",
       "      <td>0.603</td>\n",
       "      <td>0.690</td>\n",
       "      <td>0.218</td>\n",
       "      <td>0.456</td>\n",
       "      <td>love</td>\n",
       "      <td>21</td>\n",
       "    </tr>\n",
       "  </tbody>\n",
       "</table>\n",
       "</div>"
      ],
      "text/plain": [
       "                                                text    joy  sadness  anger  \\\n",
       "0  on ordinary occasions the boys would have swum...  0.740    0.924  0.091   \n",
       "1                    what is it? he cried, shrinking  0.297    0.226  0.943   \n",
       "2  she drifted in one direction and he was borne ...  0.362    0.503  0.267   \n",
       "3                                'thank you, peter.'  0.472    0.072  0.136   \n",
       "4  i don't want to go to school and learn solemn ...  0.537    0.546  0.603   \n",
       "\n",
       "    love  thankfulness   fear      emotions  count  \n",
       "0  0.353         0.374  0.228       sadness     31  \n",
       "1  0.835         0.778  0.100         anger     29  \n",
       "2  0.568         0.953  0.133  thankfulness     67  \n",
       "3  0.025         0.043  0.738          fear      5  \n",
       "4  0.690         0.218  0.456          love     21  "
      ]
     },
     "execution_count": 10,
     "metadata": {},
     "output_type": "execute_result"
    }
   ],
   "source": [
    "pred_df = get_max_emotion_score_df(file=\"results/peter_pan_emotions_041121_100151.csv\",\n",
    "                             emotion_col=\"emotions\",\n",
    "                             emotion_count_col=\"count\")\n",
    "pred_df.head()"
   ]
  },
  {
   "cell_type": "code",
   "execution_count": 11,
   "metadata": {},
   "outputs": [
    {
     "data": {
      "image/png": "[encoded data removed]",
      "text/plain": [
       "<Figure size 720x360 with 1 Axes>"
      ]
     },
     "metadata": {
      "needs_background": "light"
     },
     "output_type": "display_data"
    }
   ],
   "source": [
    "display_bar_chart(pred_df, emotion_col=\"emotions\", emotion_count_col=\"count\")"
   ]
  },
  {
   "cell_type": "markdown",
   "metadata": {},
   "source": [
    "### Categorize Emotions column (Original dataset)"
   ]
  },
  {
   "cell_type": "code",
   "execution_count": 12,
   "metadata": {},
   "outputs": [
    {
     "data": {
      "text/plain": [
       "text        object\n",
       "emotions    object\n",
       "count        int64\n",
       "dtype: object"
      ]
     },
     "execution_count": 12,
     "metadata": {},
     "output_type": "execute_result"
    }
   ],
   "source": [
    "og_df.dtypes"
   ]
  },
  {
   "cell_type": "code",
   "execution_count": 13,
   "metadata": {},
   "outputs": [],
   "source": [
    "og_df[\"emotions\"] = og_df[\"emotions\"].astype('category')"
   ]
  },
  {
   "cell_type": "code",
   "execution_count": 14,
   "metadata": {},
   "outputs": [],
   "source": [
    "category_dict = dict(sorted(zip(og_df.emotions.cat.codes, og_df.emotions)))"
   ]
  },
  {
   "cell_type": "code",
   "execution_count": 15,
   "metadata": {},
   "outputs": [
    {
     "name": "stdout",
     "output_type": "stream",
     "text": [
      "0 anger\n",
      "1 fear\n",
      "2 joy\n",
      "3 love\n",
      "4 sadness\n",
      "5 thankfulness\n"
     ]
    }
   ],
   "source": [
    "for k, v in category_dict.items(): print(k, v)"
   ]
  },
  {
   "cell_type": "code",
   "execution_count": 16,
   "metadata": {},
   "outputs": [
    {
     "data": {
      "text/plain": [
       "text          object\n",
       "emotions    category\n",
       "count          int64\n",
       "dtype: object"
      ]
     },
     "execution_count": 16,
     "metadata": {},
     "output_type": "execute_result"
    }
   ],
   "source": [
    "og_df.dtypes"
   ]
  },
  {
   "cell_type": "code",
   "execution_count": 17,
   "metadata": {},
   "outputs": [
    {
     "data": {
      "text/html": [
       "<div>\n",
       "<style scoped>\n",
       "    .dataframe tbody tr th:only-of-type {\n",
       "        vertical-align: middle;\n",
       "    }\n",
       "\n",
       "    .dataframe tbody tr th {\n",
       "        vertical-align: top;\n",
       "    }\n",
       "\n",
       "    .dataframe thead th {\n",
       "        text-align: right;\n",
       "    }\n",
       "</style>\n",
       "<table border=\"1\" class=\"dataframe\">\n",
       "  <thead>\n",
       "    <tr style=\"text-align: right;\">\n",
       "      <th></th>\n",
       "      <th>text</th>\n",
       "      <th>emotions</th>\n",
       "      <th>count</th>\n",
       "      <th>emotions_cat</th>\n",
       "    </tr>\n",
       "  </thead>\n",
       "  <tbody>\n",
       "    <tr>\n",
       "      <th>0</th>\n",
       "      <td>on ordinary occasions the boys would have swum...</td>\n",
       "      <td>joy</td>\n",
       "      <td>25</td>\n",
       "      <td>2</td>\n",
       "    </tr>\n",
       "    <tr>\n",
       "      <th>1</th>\n",
       "      <td>what is it? he cried, shrinking</td>\n",
       "      <td>fear</td>\n",
       "      <td>36</td>\n",
       "      <td>1</td>\n",
       "    </tr>\n",
       "    <tr>\n",
       "      <th>2</th>\n",
       "      <td>she drifted in one direction and he was borne ...</td>\n",
       "      <td>joy</td>\n",
       "      <td>25</td>\n",
       "      <td>2</td>\n",
       "    </tr>\n",
       "    <tr>\n",
       "      <th>3</th>\n",
       "      <td>'thank you, peter.'</td>\n",
       "      <td>thankfulness</td>\n",
       "      <td>22</td>\n",
       "      <td>5</td>\n",
       "    </tr>\n",
       "    <tr>\n",
       "      <th>4</th>\n",
       "      <td>i don't want to go to school and learn solemn ...</td>\n",
       "      <td>thankfulness</td>\n",
       "      <td>22</td>\n",
       "      <td>5</td>\n",
       "    </tr>\n",
       "  </tbody>\n",
       "</table>\n",
       "</div>"
      ],
      "text/plain": [
       "                                                text      emotions  count  \\\n",
       "0  on ordinary occasions the boys would have swum...           joy     25   \n",
       "1                    what is it? he cried, shrinking          fear     36   \n",
       "2  she drifted in one direction and he was borne ...           joy     25   \n",
       "3                                'thank you, peter.'  thankfulness     22   \n",
       "4  i don't want to go to school and learn solemn ...  thankfulness     22   \n",
       "\n",
       "   emotions_cat  \n",
       "0             2  \n",
       "1             1  \n",
       "2             2  \n",
       "3             5  \n",
       "4             5  "
      ]
     },
     "execution_count": 17,
     "metadata": {},
     "output_type": "execute_result"
    }
   ],
   "source": [
    "og_df[\"emotions_cat\"] = og_df[\"emotions\"].cat.codes\n",
    "og_df.head()"
   ]
  },
  {
   "cell_type": "markdown",
   "metadata": {},
   "source": [
    "### Categorize Emotions column (Predicted dataset)"
   ]
  },
  {
   "cell_type": "code",
   "execution_count": 18,
   "metadata": {},
   "outputs": [
    {
     "data": {
      "text/plain": [
       "text             object\n",
       "joy             float64\n",
       "sadness         float64\n",
       "anger           float64\n",
       "love            float64\n",
       "thankfulness    float64\n",
       "fear            float64\n",
       "emotions         object\n",
       "count             int64\n",
       "dtype: object"
      ]
     },
     "execution_count": 18,
     "metadata": {},
     "output_type": "execute_result"
    }
   ],
   "source": [
    "pred_df.dtypes"
   ]
  },
  {
   "cell_type": "code",
   "execution_count": 19,
   "metadata": {},
   "outputs": [],
   "source": [
    "pred_df[\"emotions\"] = pred_df[\"emotions\"].astype('category')"
   ]
  },
  {
   "cell_type": "code",
   "execution_count": 20,
   "metadata": {},
   "outputs": [],
   "source": [
    "category_dict = dict(sorted(zip(pred_df.emotions.cat.codes, pred_df.emotions)))"
   ]
  },
  {
   "cell_type": "code",
   "execution_count": 21,
   "metadata": {},
   "outputs": [
    {
     "name": "stdout",
     "output_type": "stream",
     "text": [
      "0 anger\n",
      "1 fear\n",
      "2 joy\n",
      "3 love\n",
      "4 sadness\n",
      "5 thankfulness\n"
     ]
    }
   ],
   "source": [
    "for k, v in category_dict.items(): print(k, v)"
   ]
  },
  {
   "cell_type": "code",
   "execution_count": 22,
   "metadata": {},
   "outputs": [
    {
     "data": {
      "text/plain": [
       "text              object\n",
       "joy              float64\n",
       "sadness          float64\n",
       "anger            float64\n",
       "love             float64\n",
       "thankfulness     float64\n",
       "fear             float64\n",
       "emotions        category\n",
       "count              int64\n",
       "dtype: object"
      ]
     },
     "execution_count": 22,
     "metadata": {},
     "output_type": "execute_result"
    }
   ],
   "source": [
    "pred_df.dtypes"
   ]
  },
  {
   "cell_type": "code",
   "execution_count": 23,
   "metadata": {},
   "outputs": [
    {
     "data": {
      "text/html": [
       "<div>\n",
       "<style scoped>\n",
       "    .dataframe tbody tr th:only-of-type {\n",
       "        vertical-align: middle;\n",
       "    }\n",
       "\n",
       "    .dataframe tbody tr th {\n",
       "        vertical-align: top;\n",
       "    }\n",
       "\n",
       "    .dataframe thead th {\n",
       "        text-align: right;\n",
       "    }\n",
       "</style>\n",
       "<table border=\"1\" class=\"dataframe\">\n",
       "  <thead>\n",
       "    <tr style=\"text-align: right;\">\n",
       "      <th></th>\n",
       "      <th>text</th>\n",
       "      <th>joy</th>\n",
       "      <th>sadness</th>\n",
       "      <th>anger</th>\n",
       "      <th>love</th>\n",
       "      <th>thankfulness</th>\n",
       "      <th>fear</th>\n",
       "      <th>emotions</th>\n",
       "      <th>count</th>\n",
       "      <th>emotions_cat</th>\n",
       "    </tr>\n",
       "  </thead>\n",
       "  <tbody>\n",
       "    <tr>\n",
       "      <th>0</th>\n",
       "      <td>on ordinary occasions the boys would have swum...</td>\n",
       "      <td>0.740</td>\n",
       "      <td>0.924</td>\n",
       "      <td>0.091</td>\n",
       "      <td>0.353</td>\n",
       "      <td>0.374</td>\n",
       "      <td>0.228</td>\n",
       "      <td>sadness</td>\n",
       "      <td>31</td>\n",
       "      <td>4</td>\n",
       "    </tr>\n",
       "    <tr>\n",
       "      <th>1</th>\n",
       "      <td>what is it? he cried, shrinking</td>\n",
       "      <td>0.297</td>\n",
       "      <td>0.226</td>\n",
       "      <td>0.943</td>\n",
       "      <td>0.835</td>\n",
       "      <td>0.778</td>\n",
       "      <td>0.100</td>\n",
       "      <td>anger</td>\n",
       "      <td>29</td>\n",
       "      <td>0</td>\n",
       "    </tr>\n",
       "    <tr>\n",
       "      <th>2</th>\n",
       "      <td>she drifted in one direction and he was borne ...</td>\n",
       "      <td>0.362</td>\n",
       "      <td>0.503</td>\n",
       "      <td>0.267</td>\n",
       "      <td>0.568</td>\n",
       "      <td>0.953</td>\n",
       "      <td>0.133</td>\n",
       "      <td>thankfulness</td>\n",
       "      <td>67</td>\n",
       "      <td>5</td>\n",
       "    </tr>\n",
       "    <tr>\n",
       "      <th>3</th>\n",
       "      <td>'thank you, peter.'</td>\n",
       "      <td>0.472</td>\n",
       "      <td>0.072</td>\n",
       "      <td>0.136</td>\n",
       "      <td>0.025</td>\n",
       "      <td>0.043</td>\n",
       "      <td>0.738</td>\n",
       "      <td>fear</td>\n",
       "      <td>5</td>\n",
       "      <td>1</td>\n",
       "    </tr>\n",
       "    <tr>\n",
       "      <th>4</th>\n",
       "      <td>i don't want to go to school and learn solemn ...</td>\n",
       "      <td>0.537</td>\n",
       "      <td>0.546</td>\n",
       "      <td>0.603</td>\n",
       "      <td>0.690</td>\n",
       "      <td>0.218</td>\n",
       "      <td>0.456</td>\n",
       "      <td>love</td>\n",
       "      <td>21</td>\n",
       "      <td>3</td>\n",
       "    </tr>\n",
       "  </tbody>\n",
       "</table>\n",
       "</div>"
      ],
      "text/plain": [
       "                                                text    joy  sadness  anger  \\\n",
       "0  on ordinary occasions the boys would have swum...  0.740    0.924  0.091   \n",
       "1                    what is it? he cried, shrinking  0.297    0.226  0.943   \n",
       "2  she drifted in one direction and he was borne ...  0.362    0.503  0.267   \n",
       "3                                'thank you, peter.'  0.472    0.072  0.136   \n",
       "4  i don't want to go to school and learn solemn ...  0.537    0.546  0.603   \n",
       "\n",
       "    love  thankfulness   fear      emotions  count  emotions_cat  \n",
       "0  0.353         0.374  0.228       sadness     31             4  \n",
       "1  0.835         0.778  0.100         anger     29             0  \n",
       "2  0.568         0.953  0.133  thankfulness     67             5  \n",
       "3  0.025         0.043  0.738          fear      5             1  \n",
       "4  0.690         0.218  0.456          love     21             3  "
      ]
     },
     "execution_count": 23,
     "metadata": {},
     "output_type": "execute_result"
    }
   ],
   "source": [
    "pred_df[\"emotions_cat\"] = pred_df[\"emotions\"].cat.codes\n",
    "pred_df.head()"
   ]
  },
  {
   "cell_type": "code",
   "execution_count": 24,
   "metadata": {},
   "outputs": [
    {
     "data": {
      "text/html": [
       "<div>\n",
       "<style scoped>\n",
       "    .dataframe tbody tr th:only-of-type {\n",
       "        vertical-align: middle;\n",
       "    }\n",
       "\n",
       "    .dataframe tbody tr th {\n",
       "        vertical-align: top;\n",
       "    }\n",
       "\n",
       "    .dataframe thead th {\n",
       "        text-align: right;\n",
       "    }\n",
       "</style>\n",
       "<table border=\"1\" class=\"dataframe\">\n",
       "  <thead>\n",
       "    <tr style=\"text-align: right;\">\n",
       "      <th></th>\n",
       "      <th>text</th>\n",
       "      <th>emotions</th>\n",
       "      <th>count</th>\n",
       "      <th>emotions_cat</th>\n",
       "    </tr>\n",
       "  </thead>\n",
       "  <tbody>\n",
       "    <tr>\n",
       "      <th>0</th>\n",
       "      <td>on ordinary occasions the boys would have swum...</td>\n",
       "      <td>joy</td>\n",
       "      <td>25</td>\n",
       "      <td>2</td>\n",
       "    </tr>\n",
       "    <tr>\n",
       "      <th>1</th>\n",
       "      <td>what is it? he cried, shrinking</td>\n",
       "      <td>fear</td>\n",
       "      <td>36</td>\n",
       "      <td>1</td>\n",
       "    </tr>\n",
       "    <tr>\n",
       "      <th>2</th>\n",
       "      <td>she drifted in one direction and he was borne ...</td>\n",
       "      <td>joy</td>\n",
       "      <td>25</td>\n",
       "      <td>2</td>\n",
       "    </tr>\n",
       "    <tr>\n",
       "      <th>3</th>\n",
       "      <td>'thank you, peter.'</td>\n",
       "      <td>thankfulness</td>\n",
       "      <td>22</td>\n",
       "      <td>5</td>\n",
       "    </tr>\n",
       "    <tr>\n",
       "      <th>4</th>\n",
       "      <td>i don't want to go to school and learn solemn ...</td>\n",
       "      <td>thankfulness</td>\n",
       "      <td>22</td>\n",
       "      <td>5</td>\n",
       "    </tr>\n",
       "  </tbody>\n",
       "</table>\n",
       "</div>"
      ],
      "text/plain": [
       "                                                text      emotions  count  \\\n",
       "0  on ordinary occasions the boys would have swum...           joy     25   \n",
       "1                    what is it? he cried, shrinking          fear     36   \n",
       "2  she drifted in one direction and he was borne ...           joy     25   \n",
       "3                                'thank you, peter.'  thankfulness     22   \n",
       "4  i don't want to go to school and learn solemn ...  thankfulness     22   \n",
       "\n",
       "   emotions_cat  \n",
       "0             2  \n",
       "1             1  \n",
       "2             2  \n",
       "3             5  \n",
       "4             5  "
      ]
     },
     "execution_count": 24,
     "metadata": {},
     "output_type": "execute_result"
    }
   ],
   "source": [
    "og_df.head()"
   ]
  },
  {
   "cell_type": "code",
   "execution_count": 25,
   "metadata": {},
   "outputs": [
    {
     "data": {
      "text/html": [
       "<div>\n",
       "<style scoped>\n",
       "    .dataframe tbody tr th:only-of-type {\n",
       "        vertical-align: middle;\n",
       "    }\n",
       "\n",
       "    .dataframe tbody tr th {\n",
       "        vertical-align: top;\n",
       "    }\n",
       "\n",
       "    .dataframe thead th {\n",
       "        text-align: right;\n",
       "    }\n",
       "</style>\n",
       "<table border=\"1\" class=\"dataframe\">\n",
       "  <thead>\n",
       "    <tr style=\"text-align: right;\">\n",
       "      <th></th>\n",
       "      <th>text</th>\n",
       "      <th>joy</th>\n",
       "      <th>sadness</th>\n",
       "      <th>anger</th>\n",
       "      <th>love</th>\n",
       "      <th>thankfulness</th>\n",
       "      <th>fear</th>\n",
       "      <th>emotions</th>\n",
       "      <th>count</th>\n",
       "      <th>emotions_cat</th>\n",
       "    </tr>\n",
       "  </thead>\n",
       "  <tbody>\n",
       "    <tr>\n",
       "      <th>0</th>\n",
       "      <td>on ordinary occasions the boys would have swum...</td>\n",
       "      <td>0.740</td>\n",
       "      <td>0.924</td>\n",
       "      <td>0.091</td>\n",
       "      <td>0.353</td>\n",
       "      <td>0.374</td>\n",
       "      <td>0.228</td>\n",
       "      <td>sadness</td>\n",
       "      <td>31</td>\n",
       "      <td>4</td>\n",
       "    </tr>\n",
       "    <tr>\n",
       "      <th>1</th>\n",
       "      <td>what is it? he cried, shrinking</td>\n",
       "      <td>0.297</td>\n",
       "      <td>0.226</td>\n",
       "      <td>0.943</td>\n",
       "      <td>0.835</td>\n",
       "      <td>0.778</td>\n",
       "      <td>0.100</td>\n",
       "      <td>anger</td>\n",
       "      <td>29</td>\n",
       "      <td>0</td>\n",
       "    </tr>\n",
       "    <tr>\n",
       "      <th>2</th>\n",
       "      <td>she drifted in one direction and he was borne ...</td>\n",
       "      <td>0.362</td>\n",
       "      <td>0.503</td>\n",
       "      <td>0.267</td>\n",
       "      <td>0.568</td>\n",
       "      <td>0.953</td>\n",
       "      <td>0.133</td>\n",
       "      <td>thankfulness</td>\n",
       "      <td>67</td>\n",
       "      <td>5</td>\n",
       "    </tr>\n",
       "    <tr>\n",
       "      <th>3</th>\n",
       "      <td>'thank you, peter.'</td>\n",
       "      <td>0.472</td>\n",
       "      <td>0.072</td>\n",
       "      <td>0.136</td>\n",
       "      <td>0.025</td>\n",
       "      <td>0.043</td>\n",
       "      <td>0.738</td>\n",
       "      <td>fear</td>\n",
       "      <td>5</td>\n",
       "      <td>1</td>\n",
       "    </tr>\n",
       "    <tr>\n",
       "      <th>4</th>\n",
       "      <td>i don't want to go to school and learn solemn ...</td>\n",
       "      <td>0.537</td>\n",
       "      <td>0.546</td>\n",
       "      <td>0.603</td>\n",
       "      <td>0.690</td>\n",
       "      <td>0.218</td>\n",
       "      <td>0.456</td>\n",
       "      <td>love</td>\n",
       "      <td>21</td>\n",
       "      <td>3</td>\n",
       "    </tr>\n",
       "  </tbody>\n",
       "</table>\n",
       "</div>"
      ],
      "text/plain": [
       "                                                text    joy  sadness  anger  \\\n",
       "0  on ordinary occasions the boys would have swum...  0.740    0.924  0.091   \n",
       "1                    what is it? he cried, shrinking  0.297    0.226  0.943   \n",
       "2  she drifted in one direction and he was borne ...  0.362    0.503  0.267   \n",
       "3                                'thank you, peter.'  0.472    0.072  0.136   \n",
       "4  i don't want to go to school and learn solemn ...  0.537    0.546  0.603   \n",
       "\n",
       "    love  thankfulness   fear      emotions  count  emotions_cat  \n",
       "0  0.353         0.374  0.228       sadness     31             4  \n",
       "1  0.835         0.778  0.100         anger     29             0  \n",
       "2  0.568         0.953  0.133  thankfulness     67             5  \n",
       "3  0.025         0.043  0.738          fear      5             1  \n",
       "4  0.690         0.218  0.456          love     21             3  "
      ]
     },
     "execution_count": 25,
     "metadata": {},
     "output_type": "execute_result"
    }
   ],
   "source": [
    "pred_df.head()"
   ]
  },
  {
   "cell_type": "markdown",
   "metadata": {},
   "source": [
    "## Confusion Matrix"
   ]
  },
  {
   "cell_type": "code",
   "execution_count": 26,
   "metadata": {},
   "outputs": [],
   "source": [
    "confusion = confusion_matrix(og_df[\"emotions_cat\"], pred_df[\"emotions_cat\"])"
   ]
  },
  {
   "cell_type": "code",
   "execution_count": 27,
   "metadata": {},
   "outputs": [
    {
     "data": {
      "text/plain": [
       "array([[ 7,  0,  3,  4,  6,  7],\n",
       "       [ 7,  0,  4,  4,  7, 14],\n",
       "       [ 3,  2,  2,  3,  3, 12],\n",
       "       [ 3,  1,  2,  2,  4,  7],\n",
       "       [ 6,  1,  2,  3,  8, 18],\n",
       "       [ 3,  1,  1,  5,  3,  9]], dtype=int64)"
      ]
     },
     "execution_count": 27,
     "metadata": {},
     "output_type": "execute_result"
    }
   ],
   "source": [
    "confusion"
   ]
  },
  {
   "cell_type": "code",
   "execution_count": 28,
   "metadata": {},
   "outputs": [],
   "source": [
    "def plot_confusion_matrix(cm, target_names, title='Confusion matrix', cmap=None, normalize=True):\n",
    "    \"\"\"\n",
    "    Arguments\n",
    "    ---------\n",
    "    cm:           confusion matrix from sklearn.metrics.confusion_matrix\n",
    "    target_names: given classification classes such as [0, 1, 2]\n",
    "                  the class names, for example: ['high', 'medium', 'low']\n",
    "    title:        the text to display at the top of the matrix\n",
    "    cmap:         the gradient of the values displayed from matplotlib.pyplot.cm\n",
    "                  see http://matplotlib.org/examples/color/colormaps_reference.html\n",
    "                  plt.get_cmap('jet') or plt.cm.Blues\n",
    "    normalize:    If False, plot the raw numbers\n",
    "                  If True, plot the proportions\n",
    "\n",
    "    Usage\n",
    "    -----\n",
    "    plot_confusion_matrix(cm           = cm,                  # confusion matrix by sklearn.metrics.confusion_matrix \n",
    "                          normalize    = True,                # show proportions\n",
    "                          target_names = y_labels_vals,       # list of names of the classes\n",
    "                          title        = best_estimator_name) # title of graph\n",
    "\n",
    "    \"\"\"\n",
    "    import matplotlib.pyplot as plt\n",
    "    import numpy as np\n",
    "    import itertools\n",
    "\n",
    "    accuracy = np.trace(cm) / np.sum(cm).astype('float')\n",
    "    misclass = 1 - accuracy\n",
    "\n",
    "    if cmap is None:\n",
    "        cmap = plt.get_cmap('Blues')\n",
    "\n",
    "    plt.figure(figsize=(10, 7))\n",
    "    plt.imshow(cm, interpolation='nearest', cmap=cmap)\n",
    "    plt.title(title)\n",
    "    plt.colorbar()\n",
    "\n",
    "    if target_names is not None:\n",
    "        tick_marks = np.arange(len(target_names))\n",
    "        plt.xticks(tick_marks, target_names, rotation=45)\n",
    "        plt.yticks(tick_marks, target_names)\n",
    "\n",
    "    if normalize:\n",
    "        cm = cm.astype('float') / cm.sum(axis=1)[:, np.newaxis]\n",
    "\n",
    "    thresh = cm.max() / 1.5 if normalize else cm.max() / 2\n",
    "    for i, j in itertools.product(range(cm.shape[0]), range(cm.shape[1])):\n",
    "        if normalize:\n",
    "            plt.text(j, i, \"{:0.4f}\".format(cm[i, j]),\n",
    "                     horizontalalignment=\"center\",\n",
    "                     color=\"white\" if cm[i, j] > thresh else \"black\")\n",
    "        else:\n",
    "            plt.text(j, i, \"{:,}\".format(cm[i, j]),\n",
    "                     horizontalalignment=\"center\",\n",
    "                     color=\"white\" if cm[i, j] > thresh else \"black\")\n",
    "\n",
    "    plt.tight_layout()\n",
    "    plt.ylabel('True label')\n",
    "    plt.xlabel('Predicted label\\naccuracy={:0.4f}; misclass={:0.4f}'.format(\n",
    "        accuracy, misclass))\n",
    "    plt.show()"
   ]
  },
  {
   "cell_type": "code",
   "execution_count": 29,
   "metadata": {},
   "outputs": [
    {
     "data": {
      "image/png": "[encoded data removed]",
      "text/plain": [
       "<Figure size 720x504 with 2 Axes>"
      ]
     },
     "metadata": {
      "needs_background": "light"
     },
     "output_type": "display_data"
    }
   ],
   "source": [
    "target_names = []\n",
    "for k, v in category_dict.items(): target_names.append(v)\n",
    "plot_confusion_matrix(cm=confusion, target_names=target_names, title='Confusion matrix')"
   ]
  },
  {
   "cell_type": "raw",
   "metadata": {
    "scrolled": false
   },
   "source": [
    "plt.figure(figsize=(10,6))\n",
    "sns.heatmap(confusion, annot=True, linewidths=.3)\n",
    "plt.show()"
   ]
  },
  {
   "attachments": {
    "image.png": {
     "image/png": "[encoded data removed]"
    }
   },
   "cell_type": "markdown",
   "metadata": {},
   "source": [
    "### Precision-Recall Report\n",
    "<div>\n",
    "<img src=\"attachment:image.png\" width=\"700\"/>\n",
    "</div>"
   ]
  },
  {
   "cell_type": "code",
   "execution_count": 30,
   "metadata": {},
   "outputs": [
    {
     "data": {
      "text/plain": [
       "['anger', 'fear', 'joy', 'love', 'sadness', 'thankfulness']"
      ]
     },
     "execution_count": 30,
     "metadata": {},
     "output_type": "execute_result"
    }
   ],
   "source": [
    "classes = []\n",
    "for k, v in category_dict.items(): classes.append(v)\n",
    "classes"
   ]
  },
  {
   "cell_type": "code",
   "execution_count": 31,
   "metadata": {},
   "outputs": [
    {
     "name": "stdout",
     "output_type": "stream",
     "text": [
      "              precision    recall  f1-score   support\n",
      "\n",
      "       anger       0.24      0.26      0.25        27\n",
      "        fear       0.00      0.00      0.00        36\n",
      "         joy       0.14      0.08      0.10        25\n",
      "        love       0.10      0.11      0.10        19\n",
      "     sadness       0.26      0.21      0.23        38\n",
      "thankfulness       0.13      0.41      0.20        22\n",
      "\n",
      "    accuracy                           0.17       167\n",
      "   macro avg       0.15      0.18      0.15       167\n",
      "weighted avg       0.15      0.17      0.15       167\n",
      "\n"
     ]
    }
   ],
   "source": [
    "print(classification_report(og_df[\"emotions_cat\"], pred_df[\"emotions_cat\"], target_names=classes))"
   ]
  },
  {
   "cell_type": "code",
   "execution_count": null,
   "metadata": {},
   "outputs": [],
   "source": []
  }
 ],
 "metadata": {
  "kernelspec": {
   "display_name": "Python 3",
   "language": "python",
   "name": "python3"
  },
  "language_info": {
   "codemirror_mode": {
    "name": "ipython",
    "version": 3
   },
   "file_extension": ".py",
   "mimetype": "text/x-python",
   "name": "python",
   "nbconvert_exporter": "python",
   "pygments_lexer": "ipython3",
   "version": "3.8.5"
  }
 },
 "nbformat": 4,
 "nbformat_minor": 4
}
