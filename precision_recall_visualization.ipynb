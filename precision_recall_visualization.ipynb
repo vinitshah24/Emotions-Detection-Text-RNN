{
 "cells": [
  {
   "cell_type": "code",
   "execution_count": 1,
   "metadata": {},
   "outputs": [],
   "source": [
    "import pandas as pd\n",
    "from matplotlib import pyplot as plt\n",
    "%matplotlib inline\n",
    "import seaborn as sns\n",
    "from sklearn.metrics import (\n",
    "    confusion_matrix,\n",
    "    ConfusionMatrixDisplay,\n",
    "    accuracy_score, \n",
    "    precision_score, \n",
    "    recall_score, \n",
    "    f1_score, \n",
    "    classification_report)"
   ]
  },
  {
   "cell_type": "code",
   "execution_count": 2,
   "metadata": {},
   "outputs": [],
   "source": [
    "def get_max_emotion_score_df(file, emotion_col, emotion_count_col):\n",
    "    df = pd.read_csv(file)\n",
    "    df[emotion_col] = df[['joy','sadness','anger','love','thankfulness','fear']].idxmax(axis=1)\n",
    "    df[emotion_count_col] = df[emotion_col].groupby(df[emotion_col]).transform(emotion_count_col)\n",
    "    return df"
   ]
  },
  {
   "cell_type": "code",
   "execution_count": 3,
   "metadata": {},
   "outputs": [],
   "source": [
    "def display_bar_chart(df, emotion_col, emotion_count_col):\n",
    "    emotions = df[emotion_col].unique()\n",
    "    emotions_count = []\n",
    "    for emotion in emotions:\n",
    "        emotions_count.append(df[df[emotion_col]==emotion][:1][emotion_count_col].item())\n",
    "    # for emotion, count in zip(emotions, emotions_count):\n",
    "    #    print(f\"{emotion}: {count}\")\n",
    "    data_tuples = list(zip(emotions, emotions_count))\n",
    "    df = pd.DataFrame(data_tuples, columns=['emotions','count'])\n",
    "    plt.figure(figsize=(10,5))\n",
    "    g = sns.barplot(x='emotions', y='count', data=df.sort_values('emotions'))"
   ]
  },
  {
   "cell_type": "markdown",
   "metadata": {},
   "source": [
    "## Original Dataset"
   ]
  },
  {
   "cell_type": "code",
   "execution_count": 4,
   "metadata": {},
   "outputs": [
    {
     "data": {
      "text/html": [
       "<div>\n",
       "<style scoped>\n",
       "    .dataframe tbody tr th:only-of-type {\n",
       "        vertical-align: middle;\n",
       "    }\n",
       "\n",
       "    .dataframe tbody tr th {\n",
       "        vertical-align: top;\n",
       "    }\n",
       "\n",
       "    .dataframe thead th {\n",
       "        text-align: right;\n",
       "    }\n",
       "</style>\n",
       "<table border=\"1\" class=\"dataframe\">\n",
       "  <thead>\n",
       "    <tr style=\"text-align: right;\">\n",
       "      <th></th>\n",
       "      <th>text</th>\n",
       "      <th>emotions</th>\n",
       "      <th>count</th>\n",
       "    </tr>\n",
       "  </thead>\n",
       "  <tbody>\n",
       "    <tr>\n",
       "      <th>0</th>\n",
       "      <td>'Me Tiger Lily,' that lovely creature would re...</td>\n",
       "      <td>joy</td>\n",
       "      <td>9</td>\n",
       "    </tr>\n",
       "    <tr>\n",
       "      <th>1</th>\n",
       "      <td>Me no let pirates hurt him.</td>\n",
       "      <td>sadness</td>\n",
       "      <td>14</td>\n",
       "    </tr>\n",
       "    <tr>\n",
       "      <th>2</th>\n",
       "      <td>It is good. Peter Pan has spoken.</td>\n",
       "      <td>thankfulness</td>\n",
       "      <td>9</td>\n",
       "    </tr>\n",
       "    <tr>\n",
       "      <th>3</th>\n",
       "      <td>They said 'How-do?' to them, and things like t...</td>\n",
       "      <td>sadness</td>\n",
       "      <td>14</td>\n",
       "    </tr>\n",
       "    <tr>\n",
       "      <th>4</th>\n",
       "      <td>Secretly Wendy sympathised with them a little,...</td>\n",
       "      <td>anger</td>\n",
       "      <td>12</td>\n",
       "    </tr>\n",
       "  </tbody>\n",
       "</table>\n",
       "</div>"
      ],
      "text/plain": [
       "                                                text      emotions  count\n",
       "0  'Me Tiger Lily,' that lovely creature would re...           joy      9\n",
       "1                        Me no let pirates hurt him.       sadness     14\n",
       "2                  It is good. Peter Pan has spoken.  thankfulness      9\n",
       "3  They said 'How-do?' to them, and things like t...       sadness     14\n",
       "4  Secretly Wendy sympathised with them a little,...         anger     12"
      ]
     },
     "execution_count": 4,
     "metadata": {},
     "output_type": "execute_result"
    }
   ],
   "source": [
    "og_df = pd.read_csv(\"data/novel_labelled_dataset.csv\")\n",
    "og_df[\"count\"] = og_df[\"emotions\"].groupby(og_df[\"emotions\"]).transform(\"count\")\n",
    "og_df.head()"
   ]
  },
  {
   "cell_type": "code",
   "execution_count": 5,
   "metadata": {},
   "outputs": [
    {
     "data": {
      "image/png": "[encoded data removed]",
      "text/plain": [
       "<Figure size 720x360 with 1 Axes>"
      ]
     },
     "metadata": {
      "needs_background": "light"
     },
     "output_type": "display_data"
    }
   ],
   "source": [
    "display_bar_chart(og_df, emotion_col=\"emotions\", emotion_count_col=\"count\")"
   ]
  },
  {
   "cell_type": "markdown",
   "metadata": {},
   "source": [
    "## Predicted Dataset"
   ]
  },
  {
   "cell_type": "code",
   "execution_count": 6,
   "metadata": {},
   "outputs": [],
   "source": [
    "df = pd.read_csv(\"results/detected_emotions_output_031921_222035.csv\")"
   ]
  },
  {
   "cell_type": "code",
   "execution_count": 7,
   "metadata": {},
   "outputs": [
    {
     "data": {
      "text/html": [
       "<div>\n",
       "<style scoped>\n",
       "    .dataframe tbody tr th:only-of-type {\n",
       "        vertical-align: middle;\n",
       "    }\n",
       "\n",
       "    .dataframe tbody tr th {\n",
       "        vertical-align: top;\n",
       "    }\n",
       "\n",
       "    .dataframe thead th {\n",
       "        text-align: right;\n",
       "    }\n",
       "</style>\n",
       "<table border=\"1\" class=\"dataframe\">\n",
       "  <thead>\n",
       "    <tr style=\"text-align: right;\">\n",
       "      <th></th>\n",
       "      <th>text</th>\n",
       "      <th>joy</th>\n",
       "      <th>sadness</th>\n",
       "      <th>anger</th>\n",
       "      <th>love</th>\n",
       "      <th>thankfulness</th>\n",
       "      <th>fear</th>\n",
       "      <th>emotions</th>\n",
       "      <th>count</th>\n",
       "    </tr>\n",
       "  </thead>\n",
       "  <tbody>\n",
       "    <tr>\n",
       "      <th>0</th>\n",
       "      <td>'Me Tiger Lily,' that lovely creature would re...</td>\n",
       "      <td>0.084</td>\n",
       "      <td>0.063</td>\n",
       "      <td>0.193</td>\n",
       "      <td>0.241</td>\n",
       "      <td>0.069</td>\n",
       "      <td>0.909</td>\n",
       "      <td>fear</td>\n",
       "      <td>4</td>\n",
       "    </tr>\n",
       "    <tr>\n",
       "      <th>1</th>\n",
       "      <td>Me no let pirates hurt him.</td>\n",
       "      <td>0.548</td>\n",
       "      <td>0.943</td>\n",
       "      <td>0.073</td>\n",
       "      <td>0.638</td>\n",
       "      <td>0.080</td>\n",
       "      <td>0.322</td>\n",
       "      <td>sadness</td>\n",
       "      <td>10</td>\n",
       "    </tr>\n",
       "    <tr>\n",
       "      <th>2</th>\n",
       "      <td>It is good. Peter Pan has spoken.</td>\n",
       "      <td>0.430</td>\n",
       "      <td>0.035</td>\n",
       "      <td>0.313</td>\n",
       "      <td>0.278</td>\n",
       "      <td>0.611</td>\n",
       "      <td>0.334</td>\n",
       "      <td>thankfulness</td>\n",
       "      <td>21</td>\n",
       "    </tr>\n",
       "    <tr>\n",
       "      <th>3</th>\n",
       "      <td>They said 'How-do?' to them, and things like t...</td>\n",
       "      <td>0.271</td>\n",
       "      <td>0.081</td>\n",
       "      <td>0.965</td>\n",
       "      <td>0.068</td>\n",
       "      <td>0.981</td>\n",
       "      <td>0.056</td>\n",
       "      <td>thankfulness</td>\n",
       "      <td>21</td>\n",
       "    </tr>\n",
       "    <tr>\n",
       "      <th>4</th>\n",
       "      <td>Secretly Wendy sympathised with them a little,...</td>\n",
       "      <td>0.878</td>\n",
       "      <td>0.701</td>\n",
       "      <td>0.990</td>\n",
       "      <td>0.262</td>\n",
       "      <td>0.813</td>\n",
       "      <td>0.179</td>\n",
       "      <td>anger</td>\n",
       "      <td>4</td>\n",
       "    </tr>\n",
       "  </tbody>\n",
       "</table>\n",
       "</div>"
      ],
      "text/plain": [
       "                                                text    joy  sadness  anger  \\\n",
       "0  'Me Tiger Lily,' that lovely creature would re...  0.084    0.063  0.193   \n",
       "1                        Me no let pirates hurt him.  0.548    0.943  0.073   \n",
       "2                  It is good. Peter Pan has spoken.  0.430    0.035  0.313   \n",
       "3  They said 'How-do?' to them, and things like t...  0.271    0.081  0.965   \n",
       "4  Secretly Wendy sympathised with them a little,...  0.878    0.701  0.990   \n",
       "\n",
       "    love  thankfulness   fear      emotions  count  \n",
       "0  0.241         0.069  0.909          fear      4  \n",
       "1  0.638         0.080  0.322       sadness     10  \n",
       "2  0.278         0.611  0.334  thankfulness     21  \n",
       "3  0.068         0.981  0.056  thankfulness     21  \n",
       "4  0.262         0.813  0.179         anger      4  "
      ]
     },
     "execution_count": 7,
     "metadata": {},
     "output_type": "execute_result"
    }
   ],
   "source": [
    "pred_df = get_max_emotion_score_df(file=\"results/detected_emotions_output_031921_222035.csv\",\n",
    "                             emotion_col=\"emotions\",\n",
    "                             emotion_count_col=\"count\")\n",
    "pred_df.head()"
   ]
  },
  {
   "cell_type": "code",
   "execution_count": 8,
   "metadata": {},
   "outputs": [
    {
     "data": {
      "image/png": "[encoded data removed]",
      "text/plain": [
       "<Figure size 720x360 with 1 Axes>"
      ]
     },
     "metadata": {
      "needs_background": "light"
     },
     "output_type": "display_data"
    }
   ],
   "source": [
    "display_bar_chart(pred_df, emotion_col=\"emotions\", emotion_count_col=\"count\")"
   ]
  },
  {
   "cell_type": "markdown",
   "metadata": {},
   "source": [
    "### Categorize Emotions column (Original dataset)"
   ]
  },
  {
   "cell_type": "code",
   "execution_count": 9,
   "metadata": {},
   "outputs": [
    {
     "data": {
      "text/plain": [
       "text        object\n",
       "emotions    object\n",
       "count        int64\n",
       "dtype: object"
      ]
     },
     "execution_count": 9,
     "metadata": {},
     "output_type": "execute_result"
    }
   ],
   "source": [
    "og_df.dtypes"
   ]
  },
  {
   "cell_type": "code",
   "execution_count": 10,
   "metadata": {},
   "outputs": [],
   "source": [
    "og_df[\"emotions\"] = og_df[\"emotions\"].astype('category')"
   ]
  },
  {
   "cell_type": "code",
   "execution_count": 11,
   "metadata": {},
   "outputs": [],
   "source": [
    "category_dict = dict(sorted(zip(og_df.emotions.cat.codes, og_df.emotions)))"
   ]
  },
  {
   "cell_type": "code",
   "execution_count": 12,
   "metadata": {},
   "outputs": [
    {
     "name": "stdout",
     "output_type": "stream",
     "text": [
      "0 anger\n",
      "1 fear\n",
      "2 joy\n",
      "3 love\n",
      "4 sadness\n",
      "5 thankfulness\n"
     ]
    }
   ],
   "source": [
    "for k, v in category_dict.items(): print(k, v)"
   ]
  },
  {
   "cell_type": "code",
   "execution_count": 13,
   "metadata": {},
   "outputs": [
    {
     "data": {
      "text/plain": [
       "text          object\n",
       "emotions    category\n",
       "count          int64\n",
       "dtype: object"
      ]
     },
     "execution_count": 13,
     "metadata": {},
     "output_type": "execute_result"
    }
   ],
   "source": [
    "og_df.dtypes"
   ]
  },
  {
   "cell_type": "code",
   "execution_count": 14,
   "metadata": {},
   "outputs": [
    {
     "data": {
      "text/html": [
       "<div>\n",
       "<style scoped>\n",
       "    .dataframe tbody tr th:only-of-type {\n",
       "        vertical-align: middle;\n",
       "    }\n",
       "\n",
       "    .dataframe tbody tr th {\n",
       "        vertical-align: top;\n",
       "    }\n",
       "\n",
       "    .dataframe thead th {\n",
       "        text-align: right;\n",
       "    }\n",
       "</style>\n",
       "<table border=\"1\" class=\"dataframe\">\n",
       "  <thead>\n",
       "    <tr style=\"text-align: right;\">\n",
       "      <th></th>\n",
       "      <th>text</th>\n",
       "      <th>emotions</th>\n",
       "      <th>count</th>\n",
       "      <th>emotions_cat</th>\n",
       "    </tr>\n",
       "  </thead>\n",
       "  <tbody>\n",
       "    <tr>\n",
       "      <th>0</th>\n",
       "      <td>'Me Tiger Lily,' that lovely creature would re...</td>\n",
       "      <td>joy</td>\n",
       "      <td>9</td>\n",
       "      <td>2</td>\n",
       "    </tr>\n",
       "    <tr>\n",
       "      <th>1</th>\n",
       "      <td>Me no let pirates hurt him.</td>\n",
       "      <td>sadness</td>\n",
       "      <td>14</td>\n",
       "      <td>4</td>\n",
       "    </tr>\n",
       "    <tr>\n",
       "      <th>2</th>\n",
       "      <td>It is good. Peter Pan has spoken.</td>\n",
       "      <td>thankfulness</td>\n",
       "      <td>9</td>\n",
       "      <td>5</td>\n",
       "    </tr>\n",
       "    <tr>\n",
       "      <th>3</th>\n",
       "      <td>They said 'How-do?' to them, and things like t...</td>\n",
       "      <td>sadness</td>\n",
       "      <td>14</td>\n",
       "      <td>4</td>\n",
       "    </tr>\n",
       "    <tr>\n",
       "      <th>4</th>\n",
       "      <td>Secretly Wendy sympathised with them a little,...</td>\n",
       "      <td>anger</td>\n",
       "      <td>12</td>\n",
       "      <td>0</td>\n",
       "    </tr>\n",
       "  </tbody>\n",
       "</table>\n",
       "</div>"
      ],
      "text/plain": [
       "                                                text      emotions  count  \\\n",
       "0  'Me Tiger Lily,' that lovely creature would re...           joy      9   \n",
       "1                        Me no let pirates hurt him.       sadness     14   \n",
       "2                  It is good. Peter Pan has spoken.  thankfulness      9   \n",
       "3  They said 'How-do?' to them, and things like t...       sadness     14   \n",
       "4  Secretly Wendy sympathised with them a little,...         anger     12   \n",
       "\n",
       "   emotions_cat  \n",
       "0             2  \n",
       "1             4  \n",
       "2             5  \n",
       "3             4  \n",
       "4             0  "
      ]
     },
     "execution_count": 14,
     "metadata": {},
     "output_type": "execute_result"
    }
   ],
   "source": [
    "og_df[\"emotions_cat\"] = og_df[\"emotions\"].cat.codes\n",
    "og_df.head()"
   ]
  },
  {
   "cell_type": "markdown",
   "metadata": {},
   "source": [
    "### Categorize Emotions column (Predicted dataset)"
   ]
  },
  {
   "cell_type": "code",
   "execution_count": 15,
   "metadata": {},
   "outputs": [
    {
     "data": {
      "text/plain": [
       "text             object\n",
       "joy             float64\n",
       "sadness         float64\n",
       "anger           float64\n",
       "love            float64\n",
       "thankfulness    float64\n",
       "fear            float64\n",
       "emotions         object\n",
       "count             int64\n",
       "dtype: object"
      ]
     },
     "execution_count": 15,
     "metadata": {},
     "output_type": "execute_result"
    }
   ],
   "source": [
    "pred_df.dtypes"
   ]
  },
  {
   "cell_type": "code",
   "execution_count": 16,
   "metadata": {},
   "outputs": [],
   "source": [
    "pred_df[\"emotions\"] = pred_df[\"emotions\"].astype('category')"
   ]
  },
  {
   "cell_type": "code",
   "execution_count": 17,
   "metadata": {},
   "outputs": [],
   "source": [
    "category_dict = dict(sorted(zip(pred_df.emotions.cat.codes, pred_df.emotions)))"
   ]
  },
  {
   "cell_type": "code",
   "execution_count": 18,
   "metadata": {},
   "outputs": [
    {
     "name": "stdout",
     "output_type": "stream",
     "text": [
      "0 anger\n",
      "1 fear\n",
      "2 joy\n",
      "3 love\n",
      "4 sadness\n",
      "5 thankfulness\n"
     ]
    }
   ],
   "source": [
    "for k, v in category_dict.items(): print(k, v)"
   ]
  },
  {
   "cell_type": "code",
   "execution_count": null,
   "metadata": {},
   "outputs": [],
   "source": []
  },
  {
   "cell_type": "code",
   "execution_count": 19,
   "metadata": {},
   "outputs": [
    {
     "data": {
      "text/plain": [
       "text              object\n",
       "joy              float64\n",
       "sadness          float64\n",
       "anger            float64\n",
       "love             float64\n",
       "thankfulness     float64\n",
       "fear             float64\n",
       "emotions        category\n",
       "count              int64\n",
       "dtype: object"
      ]
     },
     "execution_count": 19,
     "metadata": {},
     "output_type": "execute_result"
    }
   ],
   "source": [
    "pred_df.dtypes"
   ]
  },
  {
   "cell_type": "code",
   "execution_count": 20,
   "metadata": {},
   "outputs": [
    {
     "data": {
      "text/html": [
       "<div>\n",
       "<style scoped>\n",
       "    .dataframe tbody tr th:only-of-type {\n",
       "        vertical-align: middle;\n",
       "    }\n",
       "\n",
       "    .dataframe tbody tr th {\n",
       "        vertical-align: top;\n",
       "    }\n",
       "\n",
       "    .dataframe thead th {\n",
       "        text-align: right;\n",
       "    }\n",
       "</style>\n",
       "<table border=\"1\" class=\"dataframe\">\n",
       "  <thead>\n",
       "    <tr style=\"text-align: right;\">\n",
       "      <th></th>\n",
       "      <th>text</th>\n",
       "      <th>joy</th>\n",
       "      <th>sadness</th>\n",
       "      <th>anger</th>\n",
       "      <th>love</th>\n",
       "      <th>thankfulness</th>\n",
       "      <th>fear</th>\n",
       "      <th>emotions</th>\n",
       "      <th>count</th>\n",
       "      <th>emotions_cat</th>\n",
       "    </tr>\n",
       "  </thead>\n",
       "  <tbody>\n",
       "    <tr>\n",
       "      <th>0</th>\n",
       "      <td>'Me Tiger Lily,' that lovely creature would re...</td>\n",
       "      <td>0.084</td>\n",
       "      <td>0.063</td>\n",
       "      <td>0.193</td>\n",
       "      <td>0.241</td>\n",
       "      <td>0.069</td>\n",
       "      <td>0.909</td>\n",
       "      <td>fear</td>\n",
       "      <td>4</td>\n",
       "      <td>1</td>\n",
       "    </tr>\n",
       "    <tr>\n",
       "      <th>1</th>\n",
       "      <td>Me no let pirates hurt him.</td>\n",
       "      <td>0.548</td>\n",
       "      <td>0.943</td>\n",
       "      <td>0.073</td>\n",
       "      <td>0.638</td>\n",
       "      <td>0.080</td>\n",
       "      <td>0.322</td>\n",
       "      <td>sadness</td>\n",
       "      <td>10</td>\n",
       "      <td>4</td>\n",
       "    </tr>\n",
       "    <tr>\n",
       "      <th>2</th>\n",
       "      <td>It is good. Peter Pan has spoken.</td>\n",
       "      <td>0.430</td>\n",
       "      <td>0.035</td>\n",
       "      <td>0.313</td>\n",
       "      <td>0.278</td>\n",
       "      <td>0.611</td>\n",
       "      <td>0.334</td>\n",
       "      <td>thankfulness</td>\n",
       "      <td>21</td>\n",
       "      <td>5</td>\n",
       "    </tr>\n",
       "    <tr>\n",
       "      <th>3</th>\n",
       "      <td>They said 'How-do?' to them, and things like t...</td>\n",
       "      <td>0.271</td>\n",
       "      <td>0.081</td>\n",
       "      <td>0.965</td>\n",
       "      <td>0.068</td>\n",
       "      <td>0.981</td>\n",
       "      <td>0.056</td>\n",
       "      <td>thankfulness</td>\n",
       "      <td>21</td>\n",
       "      <td>5</td>\n",
       "    </tr>\n",
       "    <tr>\n",
       "      <th>4</th>\n",
       "      <td>Secretly Wendy sympathised with them a little,...</td>\n",
       "      <td>0.878</td>\n",
       "      <td>0.701</td>\n",
       "      <td>0.990</td>\n",
       "      <td>0.262</td>\n",
       "      <td>0.813</td>\n",
       "      <td>0.179</td>\n",
       "      <td>anger</td>\n",
       "      <td>4</td>\n",
       "      <td>0</td>\n",
       "    </tr>\n",
       "  </tbody>\n",
       "</table>\n",
       "</div>"
      ],
      "text/plain": [
       "                                                text    joy  sadness  anger  \\\n",
       "0  'Me Tiger Lily,' that lovely creature would re...  0.084    0.063  0.193   \n",
       "1                        Me no let pirates hurt him.  0.548    0.943  0.073   \n",
       "2                  It is good. Peter Pan has spoken.  0.430    0.035  0.313   \n",
       "3  They said 'How-do?' to them, and things like t...  0.271    0.081  0.965   \n",
       "4  Secretly Wendy sympathised with them a little,...  0.878    0.701  0.990   \n",
       "\n",
       "    love  thankfulness   fear      emotions  count  emotions_cat  \n",
       "0  0.241         0.069  0.909          fear      4             1  \n",
       "1  0.638         0.080  0.322       sadness     10             4  \n",
       "2  0.278         0.611  0.334  thankfulness     21             5  \n",
       "3  0.068         0.981  0.056  thankfulness     21             5  \n",
       "4  0.262         0.813  0.179         anger      4             0  "
      ]
     },
     "execution_count": 20,
     "metadata": {},
     "output_type": "execute_result"
    }
   ],
   "source": [
    "pred_df[\"emotions_cat\"] = pred_df[\"emotions\"].cat.codes\n",
    "pred_df.head()"
   ]
  },
  {
   "cell_type": "markdown",
   "metadata": {},
   "source": [
    "### Creating new Dataframe with original and predicted results"
   ]
  },
  {
   "cell_type": "code",
   "execution_count": 21,
   "metadata": {},
   "outputs": [],
   "source": [
    "main_df = og_df.copy(deep=True)"
   ]
  },
  {
   "cell_type": "code",
   "execution_count": 22,
   "metadata": {},
   "outputs": [],
   "source": [
    "main_df[\"pred_emotions_cat\"] = pred_df[\"emotions_cat\"]"
   ]
  },
  {
   "cell_type": "code",
   "execution_count": 23,
   "metadata": {},
   "outputs": [
    {
     "data": {
      "text/html": [
       "<div>\n",
       "<style scoped>\n",
       "    .dataframe tbody tr th:only-of-type {\n",
       "        vertical-align: middle;\n",
       "    }\n",
       "\n",
       "    .dataframe tbody tr th {\n",
       "        vertical-align: top;\n",
       "    }\n",
       "\n",
       "    .dataframe thead th {\n",
       "        text-align: right;\n",
       "    }\n",
       "</style>\n",
       "<table border=\"1\" class=\"dataframe\">\n",
       "  <thead>\n",
       "    <tr style=\"text-align: right;\">\n",
       "      <th></th>\n",
       "      <th>text</th>\n",
       "      <th>emotions</th>\n",
       "      <th>count</th>\n",
       "      <th>emotions_cat</th>\n",
       "      <th>pred_emotions_cat</th>\n",
       "    </tr>\n",
       "  </thead>\n",
       "  <tbody>\n",
       "    <tr>\n",
       "      <th>0</th>\n",
       "      <td>'Me Tiger Lily,' that lovely creature would re...</td>\n",
       "      <td>joy</td>\n",
       "      <td>9</td>\n",
       "      <td>2</td>\n",
       "      <td>1</td>\n",
       "    </tr>\n",
       "    <tr>\n",
       "      <th>1</th>\n",
       "      <td>Me no let pirates hurt him.</td>\n",
       "      <td>sadness</td>\n",
       "      <td>14</td>\n",
       "      <td>4</td>\n",
       "      <td>4</td>\n",
       "    </tr>\n",
       "    <tr>\n",
       "      <th>2</th>\n",
       "      <td>It is good. Peter Pan has spoken.</td>\n",
       "      <td>thankfulness</td>\n",
       "      <td>9</td>\n",
       "      <td>5</td>\n",
       "      <td>5</td>\n",
       "    </tr>\n",
       "    <tr>\n",
       "      <th>3</th>\n",
       "      <td>They said 'How-do?' to them, and things like t...</td>\n",
       "      <td>sadness</td>\n",
       "      <td>14</td>\n",
       "      <td>4</td>\n",
       "      <td>5</td>\n",
       "    </tr>\n",
       "    <tr>\n",
       "      <th>4</th>\n",
       "      <td>Secretly Wendy sympathised with them a little,...</td>\n",
       "      <td>anger</td>\n",
       "      <td>12</td>\n",
       "      <td>0</td>\n",
       "      <td>0</td>\n",
       "    </tr>\n",
       "  </tbody>\n",
       "</table>\n",
       "</div>"
      ],
      "text/plain": [
       "                                                text      emotions  count  \\\n",
       "0  'Me Tiger Lily,' that lovely creature would re...           joy      9   \n",
       "1                        Me no let pirates hurt him.       sadness     14   \n",
       "2                  It is good. Peter Pan has spoken.  thankfulness      9   \n",
       "3  They said 'How-do?' to them, and things like t...       sadness     14   \n",
       "4  Secretly Wendy sympathised with them a little,...         anger     12   \n",
       "\n",
       "   emotions_cat  pred_emotions_cat  \n",
       "0             2                  1  \n",
       "1             4                  4  \n",
       "2             5                  5  \n",
       "3             4                  5  \n",
       "4             0                  0  "
      ]
     },
     "execution_count": 23,
     "metadata": {},
     "output_type": "execute_result"
    }
   ],
   "source": [
    "main_df.head()"
   ]
  },
  {
   "cell_type": "markdown",
   "metadata": {},
   "source": [
    "## Confusion Matrix"
   ]
  },
  {
   "cell_type": "code",
   "execution_count": 24,
   "metadata": {},
   "outputs": [],
   "source": [
    "confusion = confusion_matrix(main_df[\"emotions_cat\"], main_df[\"pred_emotions_cat\"])"
   ]
  },
  {
   "cell_type": "code",
   "execution_count": 25,
   "metadata": {},
   "outputs": [
    {
     "data": {
      "text/plain": [
       "array([[1, 0, 1, 1, 3, 6],\n",
       "       [0, 0, 0, 1, 0, 2],\n",
       "       [0, 2, 1, 1, 1, 4],\n",
       "       [0, 0, 0, 1, 1, 0],\n",
       "       [1, 1, 0, 2, 5, 5],\n",
       "       [2, 1, 1, 1, 0, 4]], dtype=int64)"
      ]
     },
     "execution_count": 25,
     "metadata": {},
     "output_type": "execute_result"
    }
   ],
   "source": [
    "confusion"
   ]
  },
  {
   "cell_type": "code",
   "execution_count": 26,
   "metadata": {
    "scrolled": false
   },
   "outputs": [
    {
     "data": {
      "image/png": "[encoded data removed]",
      "text/plain": [
       "<Figure size 720x432 with 2 Axes>"
      ]
     },
     "metadata": {
      "needs_background": "light"
     },
     "output_type": "display_data"
    }
   ],
   "source": [
    "plt.figure(figsize=(10,6))\n",
    "sns.heatmap(confusion, annot=True, linewidths=.3)\n",
    "plt.show()"
   ]
  },
  {
   "attachments": {
    "image.png": {
     "image/png": "[encoded data removed]"
    }
   },
   "cell_type": "markdown",
   "metadata": {},
   "source": [
    "### Precision-Recall Report\n",
    "<div>\n",
    "<img src=\"attachment:image.png\" width=\"700\"/>\n",
    "</div>"
   ]
  },
  {
   "cell_type": "code",
   "execution_count": 27,
   "metadata": {},
   "outputs": [
    {
     "data": {
      "text/plain": [
       "['anger', 'fear', 'joy', 'love', 'sadness', 'thankfulness']"
      ]
     },
     "execution_count": 27,
     "metadata": {},
     "output_type": "execute_result"
    }
   ],
   "source": [
    "classes = []\n",
    "for k, v in category_dict.items(): classes.append(v)\n",
    "classes"
   ]
  },
  {
   "cell_type": "code",
   "execution_count": 28,
   "metadata": {},
   "outputs": [
    {
     "name": "stdout",
     "output_type": "stream",
     "text": [
      "              precision    recall  f1-score   support\n",
      "\n",
      "       anger       0.25      0.08      0.12        12\n",
      "        fear       0.00      0.00      0.00         3\n",
      "         joy       0.33      0.11      0.17         9\n",
      "        love       0.14      0.50      0.22         2\n",
      "     sadness       0.50      0.36      0.42        14\n",
      "thankfulness       0.19      0.44      0.27         9\n",
      "\n",
      "    accuracy                           0.24        49\n",
      "   macro avg       0.24      0.25      0.20        49\n",
      "weighted avg       0.31      0.24      0.24        49\n",
      "\n"
     ]
    }
   ],
   "source": [
    "print(classification_report(main_df[\"emotions_cat\"], main_df[\"pred_emotions_cat\"], target_names=classes))"
   ]
  }
 ],
 "metadata": {
  "kernelspec": {
   "display_name": "Python 3",
   "language": "python",
   "name": "python3"
  },
  "language_info": {
   "codemirror_mode": {
    "name": "ipython",
    "version": 3
   },
   "file_extension": ".py",
   "mimetype": "text/x-python",
   "name": "python",
   "nbconvert_exporter": "python",
   "pygments_lexer": "ipython3",
   "version": "3.8.5"
  }
 },
 "nbformat": 4,
 "nbformat_minor": 4
}
