{
 "cells": [
  {
   "cell_type": "code",
   "execution_count": 1,
   "metadata": {
    "scrolled": true
   },
   "outputs": [
    {
     "name": "stderr",
     "output_type": "stream",
     "text": [
      "[nltk_data] Downloading package stopwords to\n",
      "[nltk_data]     C:\\Users\\shahv\\AppData\\Roaming\\nltk_data...\n",
      "[nltk_data]   Package stopwords is already up-to-date!\n",
      "[nltk_data] Downloading package wordnet to\n",
      "[nltk_data]     C:\\Users\\shahv\\AppData\\Roaming\\nltk_data...\n",
      "[nltk_data]   Package wordnet is already up-to-date!\n"
     ]
    }
   ],
   "source": [
    "import os\n",
    "\n",
    "import requests\n",
    "from bs4 import BeautifulSoup\n",
    "\n",
    "from nltk import tokenize\n",
    "from nltk.tokenize import word_tokenize\n",
    "from nltk.stem.porter import PorterStemmer\n",
    "from nltk.corpus import stopwords\n",
    "import nltk\n",
    "nltk.download('stopwords')\n",
    "nltk.download('wordnet')\n",
    "from nltk.stem import WordNetLemmatizer\n",
    "\n",
    "import string\n",
    "\n",
    "import spacy\n",
    "nlp = spacy.load(\"en_core_web_sm\")\n",
    "nlp.max_length = 2000000"
   ]
  },
  {
   "cell_type": "code",
   "execution_count": 2,
   "metadata": {},
   "outputs": [],
   "source": [
    "def clean_data(text):\n",
    "    \"\"\" Removes and replaces unnecessary characters \"\"\"\n",
    "    data = text.strip().strip(\"\\n\").strip(\"\\t\").replace(\"' \",\"'\")\n",
    "    data = data.replace(\"\\n\",\" \").replace(\"\\t\",\" \").replace(\"‘\",\"\").replace(\"'\",\"\").replace(\",\",\",\")\n",
    "    data = data.replace('“',\"\").replace('”',\"\").replace(\"'\",\"\").replace('\"','').replace(\"_\",\"\")\n",
    "    data = data.replace('’',\"'\").replace('—',\" \").replace(\"--\",\" \").replace(\"-\", \" \").replace(\"  \", \" \")\n",
    "    return data"
   ]
  },
  {
   "cell_type": "code",
   "execution_count": 3,
   "metadata": {},
   "outputs": [],
   "source": [
    "def clean_file(data_source):\n",
    "    \"\"\" Removes the file with newline characters \"\"\"\n",
    "    with open(data_source, \"r\", encoding=\"utf-8\") as f:\n",
    "        data = f.readlines()\n",
    "    return data"
   ]
  },
  {
   "cell_type": "code",
   "execution_count": 4,
   "metadata": {},
   "outputs": [],
   "source": [
    "def get_sentences(paragraph):\n",
    "    \"\"\" Splits the text into sentences \"\"\"\n",
    "    sentences = []\n",
    "    tokens = nlp(paragraph)\n",
    "    for sent in tokens.sents:\n",
    "        sentences.append(sent.text.strip())\n",
    "    return sentences"
   ]
  },
  {
   "cell_type": "code",
   "execution_count": 5,
   "metadata": {},
   "outputs": [],
   "source": [
    "def remove_punctuations(text):\n",
    "    table = str.maketrans('', '', string.punctuation)\n",
    "    clean_tokens = [word.translate(table) for word in text]\n",
    "    return \"\".join(clean_tokens)"
   ]
  },
  {
   "cell_type": "code",
   "execution_count": 6,
   "metadata": {},
   "outputs": [],
   "source": [
    "def remove_stopwords(text):\n",
    "    \"\"\" Filters the stop words \"\"\"\n",
    "    tokens = word_tokenize(text)\n",
    "    clean_tokens = [word for word in tokens if not word in stopwords.words()]\n",
    "    return \" \".join(clean_tokens)"
   ]
  },
  {
   "cell_type": "code",
   "execution_count": 7,
   "metadata": {},
   "outputs": [],
   "source": [
    "def apply_stemming(text):\n",
    "    \"\"\" Applies stemming to reduce each word to its root or base \"\"\"\n",
    "    tokens = word_tokenize(text)\n",
    "    porter = PorterStemmer()\n",
    "    stem_tokens = [porter.stem(word) for word in tokens]\n",
    "    return \" \".join(stem_tokens)"
   ]
  },
  {
   "cell_type": "code",
   "execution_count": 8,
   "metadata": {},
   "outputs": [],
   "source": [
    "def apply_lemmatization(text):\n",
    "    \"\"\" Applies lemmatization to reduce words to their root form \"\"\"\n",
    "    lem_tokens = [WordNetLemmatizer().lemmatize(word) for word in text]\n",
    "    return \"\".join(lem_tokens)"
   ]
  },
  {
   "cell_type": "code",
   "execution_count": 9,
   "metadata": {},
   "outputs": [],
   "source": [
    "novel_path = \"C:\\\\EmoDetct\\\\novel_text\"\n",
    "novel_output_path = \"C:\\\\EmoDetct\\\\novel_text_sent\""
   ]
  },
  {
   "cell_type": "code",
   "execution_count": 10,
   "metadata": {},
   "outputs": [],
   "source": [
    "text_files = []\n",
    "for file in os.listdir(novel_path):\n",
    "    text_files.append(file)"
   ]
  },
  {
   "cell_type": "code",
   "execution_count": 11,
   "metadata": {},
   "outputs": [],
   "source": [
    "for file in text_files:\n",
    "    data = clean_file(data_source=f\"{novel_path}\\\\{file}\")\n",
    "    sentences = []\n",
    "    for line in data:\n",
    "        #clean_sent = remove_punctuations(line)\n",
    "        parsed_sents = get_sentences(line)\n",
    "        sentences.extend(parsed_sents)\n",
    "    out_file = os.path.splitext(file)[0]\n",
    "    out_path = f\"{novel_output_path}\\\\{out_file}_out.txt\"\n",
    "    with open(out_path, \"w+\", encoding=\"utf-8\") as f:\n",
    "        for sent in sentences:\n",
    "            if len(sent.strip().split()) > 4:\n",
    "                #sent_no_sw = remove_stopwords(clean_sent)\n",
    "                #sent_stem = apply_stemming(sent_no_sw)\n",
    "                #sent_lem = apply_lemmatization(sent_stem)\n",
    "                f.write(f\"{sent.strip()}\\n\")"
   ]
  }
 ],
 "metadata": {
  "kernelspec": {
   "display_name": "Python 3",
   "language": "python",
   "name": "python3"
  },
  "language_info": {
   "codemirror_mode": {
    "name": "ipython",
    "version": 3
   },
   "file_extension": ".py",
   "mimetype": "text/x-python",
   "name": "python",
   "nbconvert_exporter": "python",
   "pygments_lexer": "ipython3",
   "version": "3.8.5"
  }
 },
 "nbformat": 4,
 "nbformat_minor": 4
}
