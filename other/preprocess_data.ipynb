{
 "cells": [
  {
   "cell_type": "code",
   "execution_count": 1,
   "metadata": {},
   "outputs": [],
   "source": [
    "import requests\n",
    "from bs4 import BeautifulSoup\n",
    "from nltk import tokenize\n",
    "import spacy\n",
    "nlp = spacy.load(\"en_core_web_sm\")"
   ]
  },
  {
   "cell_type": "code",
   "execution_count": 2,
   "metadata": {},
   "outputs": [],
   "source": [
    "def fetch_data(data_source, output_file):\n",
    "    response = requests.get(data_source)\n",
    "    if response.status_code == 200:\n",
    "        file = open(output_file, \"w+\", encoding=\"utf-8\")\n",
    "        file.write(response.text)\n",
    "        file.close()\n",
    "        return True\n",
    "    return False"
   ]
  },
  {
   "cell_type": "code",
   "execution_count": 3,
   "metadata": {},
   "outputs": [],
   "source": [
    "def clean_file(data_source, output_data):\n",
    "    with open(data_source, \"r\", encoding=\"utf-8\") as f:\n",
    "        data = f.readlines()\n",
    "    with open(output_data, \"w+\", encoding=\"utf-8\") as outfile:\n",
    "        for line in data:\n",
    "            if len(line.strip()) > 0:\n",
    "                outfile.write(f\"{line.strip()}\\n\")"
   ]
  },
  {
   "cell_type": "code",
   "execution_count": 4,
   "metadata": {},
   "outputs": [],
   "source": [
    "def clean_data(text):\n",
    "    data = text.strip().strip(\"\\n\").strip(\"\\t\")\n",
    "    data = data.replace(\"\\n\",\" \").replace(\"\\t\",\" \")\n",
    "    data = data.replace('“',\"\").replace('”',\"\")\n",
    "    data = data.replace('’',\"'\").replace('—',\" \")\n",
    "    return data"
   ]
  },
  {
   "cell_type": "code",
   "execution_count": 5,
   "metadata": {},
   "outputs": [],
   "source": [
    "def extract_paragraphs(source_file):\n",
    "    soup = BeautifulSoup(open(source_file, \"r\", encoding=\"utf-8\").read().strip(), 'html.parser')\n",
    "    divs = soup.find_all('div',{'class': lambda x: x and 'chapter' in x.split()})\n",
    "    text_list = []\n",
    "    for div in divs:\n",
    "        paras = div.find_all('p')\n",
    "        for p in paras:\n",
    "            raw_text = p.get_text()\n",
    "            text_list.append(clean_data(raw_text))\n",
    "    return text_list"
   ]
  },
  {
   "cell_type": "code",
   "execution_count": 6,
   "metadata": {},
   "outputs": [],
   "source": [
    "def get_sentences(paragraph):\n",
    "    sentences = []\n",
    "    tokens = nlp(paragraph)\n",
    "    for sent in tokens.sents:\n",
    "        sentences.append(sent.text.strip())\n",
    "    return sentences"
   ]
  },
  {
   "cell_type": "code",
   "execution_count": 7,
   "metadata": {},
   "outputs": [],
   "source": [
    "TXT_DATA_SOURCE = \"https://www.gutenberg.org/files/16/16-0.txt\"\n",
    "HTML_DATA_SOURCE = \"https://www.gutenberg.org/files/16/16-h/16-h.htm\"\n",
    "DATA_PATH = \"data/peter_pan.txt\"\n",
    "CLEAN_DATA_PATH = \"data/peter_pan_clean.txt\"\n",
    "EXTRACTED_SENTENCES_PATH = \"data/peter_pan_sentences.txt\""
   ]
  },
  {
   "cell_type": "code",
   "execution_count": 8,
   "metadata": {},
   "outputs": [],
   "source": [
    "fetch_data(HTML_DATA_SOURCE, DATA_PATH)\n",
    "clean_file(DATA_PATH, CLEAN_DATA_PATH)\n",
    "paragraphs = extract_paragraphs(CLEAN_DATA_PATH)\n",
    "sentences = []\n",
    "for para in paragraphs:\n",
    "    parsed_sents = get_sentences(para)\n",
    "    sentences.extend(parsed_sents)"
   ]
  },
  {
   "cell_type": "code",
   "execution_count": 9,
   "metadata": {},
   "outputs": [
    {
     "name": "stdout",
     "output_type": "stream",
     "text": [
      "Extracted Sentences Count: 3244\n"
     ]
    }
   ],
   "source": [
    "print(f\"Extracted Sentences Count: {len(sentences)}\")"
   ]
  },
  {
   "cell_type": "markdown",
   "metadata": {},
   "source": [
    "### Limiting sentences to 280 characters ~ 55 words"
   ]
  },
  {
   "cell_type": "code",
   "execution_count": 10,
   "metadata": {},
   "outputs": [],
   "source": [
    "def split_lines(sentence, split_char=\" \", n=55):\n",
    "    groups = sentence.split(split_char)\n",
    "    parsed_sents = [split_char.join(groups[:n]), split_char.join(groups[n:])]\n",
    "    return [sent for sent in parsed_sents if sent]"
   ]
  },
  {
   "cell_type": "code",
   "execution_count": 11,
   "metadata": {},
   "outputs": [],
   "source": [
    "limit_sents = []\n",
    "for sent in sentences:\n",
    "    split_sents = split_lines(sent)\n",
    "    limit_sents.extend(split_sents)"
   ]
  },
  {
   "cell_type": "code",
   "execution_count": 12,
   "metadata": {},
   "outputs": [
    {
     "name": "stdout",
     "output_type": "stream",
     "text": [
      "Split Sentences Count: 3259\n"
     ]
    }
   ],
   "source": [
    "print(f\"Split Sentences Count: {len(limit_sents)}\")"
   ]
  },
  {
   "cell_type": "code",
   "execution_count": 14,
   "metadata": {},
   "outputs": [],
   "source": [
    "with open(EXTRACTED_SENTENCES_PATH, \"w+\", encoding=\"utf-8\") as f:\n",
    "    for sent in limit_sents:\n",
    "        if len(sent.split()) > 2:\n",
    "            f.write(f\"{sent}\\n\")"
   ]
  }
 ],
 "metadata": {
  "kernelspec": {
   "display_name": "Python 3",
   "language": "python",
   "name": "python3"
  },
  "language_info": {
   "codemirror_mode": {
    "name": "ipython",
    "version": 3
   },
   "file_extension": ".py",
   "mimetype": "text/x-python",
   "name": "python",
   "nbconvert_exporter": "python",
   "pygments_lexer": "ipython3",
   "version": "3.8.5"
  }
 },
 "nbformat": 4,
 "nbformat_minor": 4
}
