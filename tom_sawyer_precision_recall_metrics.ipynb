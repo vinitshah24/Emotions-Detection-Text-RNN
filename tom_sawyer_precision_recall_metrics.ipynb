{
 "cells": [
  {
   "cell_type": "code",
   "execution_count": 57,
   "metadata": {},
   "outputs": [],
   "source": [
    "import pandas as pd\n",
    "from matplotlib import pyplot as plt\n",
    "%matplotlib inline\n",
    "import numpy as np\n",
    "import seaborn as sns\n",
    "from sklearn.metrics import (\n",
    "    confusion_matrix,\n",
    "    ConfusionMatrixDisplay,\n",
    "    accuracy_score, \n",
    "    precision_score, \n",
    "    recall_score, \n",
    "    f1_score, \n",
    "    classification_report)"
   ]
  },
  {
   "cell_type": "code",
   "execution_count": 58,
   "metadata": {},
   "outputs": [],
   "source": [
    "pd.set_option('display.max_rows', 200)"
   ]
  },
  {
   "cell_type": "code",
   "execution_count": 59,
   "metadata": {},
   "outputs": [],
   "source": [
    "def get_max_emotion_score_df(file, emotion_col, emotion_count_col):\n",
    "    df = pd.read_csv(file)\n",
    "    df[emotion_col] = df[['joy','sadness','anger','love','thankfulness','fear']].idxmax(axis=1)\n",
    "    df[emotion_count_col] = df[emotion_col].groupby(df[emotion_col]).transform(emotion_count_col)\n",
    "    return df"
   ]
  },
  {
   "cell_type": "code",
   "execution_count": 60,
   "metadata": {},
   "outputs": [],
   "source": [
    "def display_bar_chart(df, emotion_col, emotion_count_col):\n",
    "    emotions = df[emotion_col].unique()\n",
    "    emotions_count = []\n",
    "    for emotion in emotions:\n",
    "        emotions_count.append(df[df[emotion_col]==emotion][:1][emotion_count_col].item())\n",
    "    # for emotion, count in zip(emotions, emotions_count):\n",
    "    #    print(f\"{emotion}: {count}\")\n",
    "    data_tuples = list(zip(emotions, emotions_count))\n",
    "    df = pd.DataFrame(data_tuples, columns=['emotions','count'])\n",
    "    plt.figure(figsize=(10,5))\n",
    "    g = sns.barplot(x='emotions', y='count', data=df.sort_values('emotions'))"
   ]
  },
  {
   "cell_type": "markdown",
   "metadata": {},
   "source": [
    "## Original Dataset"
   ]
  },
  {
   "cell_type": "code",
   "execution_count": 68,
   "metadata": {},
   "outputs": [
    {
     "data": {
      "text/html": [
       "<div>\n",
       "<style scoped>\n",
       "    .dataframe tbody tr th:only-of-type {\n",
       "        vertical-align: middle;\n",
       "    }\n",
       "\n",
       "    .dataframe tbody tr th {\n",
       "        vertical-align: top;\n",
       "    }\n",
       "\n",
       "    .dataframe thead th {\n",
       "        text-align: right;\n",
       "    }\n",
       "</style>\n",
       "<table border=\"1\" class=\"dataframe\">\n",
       "  <thead>\n",
       "    <tr style=\"text-align: right;\">\n",
       "      <th></th>\n",
       "      <th>text</th>\n",
       "      <th>emotions</th>\n",
       "      <th>count</th>\n",
       "    </tr>\n",
       "  </thead>\n",
       "  <tbody>\n",
       "    <tr>\n",
       "      <th>0</th>\n",
       "      <td>His aunt Polly stood surprised a moment, and t...</td>\n",
       "      <td>joy</td>\n",
       "      <td>26</td>\n",
       "    </tr>\n",
       "    <tr>\n",
       "      <th>1</th>\n",
       "      <td>Tom did play hookey, and he had a very good time.</td>\n",
       "      <td>joy</td>\n",
       "      <td>26</td>\n",
       "    </tr>\n",
       "    <tr>\n",
       "      <th>2</th>\n",
       "      <td>Diligence and attention soon gave him the knac...</td>\n",
       "      <td>thankfulness</td>\n",
       "      <td>4</td>\n",
       "    </tr>\n",
       "    <tr>\n",
       "      <th>3</th>\n",
       "      <td>He felt much as an astronomer feels who has di...</td>\n",
       "      <td>joy</td>\n",
       "      <td>26</td>\n",
       "    </tr>\n",
       "    <tr>\n",
       "      <th>4</th>\n",
       "      <td>“Oh, you think you’re mighty smart, don’t you?...</td>\n",
       "      <td>anger</td>\n",
       "      <td>14</td>\n",
       "    </tr>\n",
       "  </tbody>\n",
       "</table>\n",
       "</div>"
      ],
      "text/plain": [
       "                                                text      emotions  count\n",
       "0  His aunt Polly stood surprised a moment, and t...           joy     26\n",
       "1  Tom did play hookey, and he had a very good time.           joy     26\n",
       "2  Diligence and attention soon gave him the knac...  thankfulness      4\n",
       "3  He felt much as an astronomer feels who has di...           joy     26\n",
       "4  “Oh, you think you’re mighty smart, don’t you?...         anger     14"
      ]
     },
     "execution_count": 68,
     "metadata": {},
     "output_type": "execute_result"
    }
   ],
   "source": [
    "og_df = pd.read_csv(\"C://Users/ksriniv2/Desktop/bigdata/AdventuresOfTomSawyer_DataSetCsv.csv\")\n",
    "og_df[\"count\"] = og_df[\"emotions\"].groupby(og_df[\"emotions\"]).transform(\"count\")\n",
    "og_df.head()"
   ]
  },
  {
   "cell_type": "code",
   "execution_count": 63,
   "metadata": {},
   "outputs": [],
   "source": []
  },
  {
   "cell_type": "code",
   "execution_count": 69,
   "metadata": {},
   "outputs": [
    {
     "data": {
      "image/png": "[encoded data removed]",
      "text/plain": [
       "<Figure size 720x360 with 1 Axes>"
      ]
     },
     "metadata": {
      "needs_background": "light"
     },
     "output_type": "display_data"
    }
   ],
   "source": [
    "display_bar_chart(og_df, emotion_col=\"emotions\", emotion_count_col=\"count\")"
   ]
  },
  {
   "cell_type": "markdown",
   "metadata": {},
   "source": [
    "## Predicted Dataset"
   ]
  },
  {
   "cell_type": "code",
   "execution_count": 70,
   "metadata": {},
   "outputs": [
    {
     "data": {
      "text/html": [
       "<div>\n",
       "<style scoped>\n",
       "    .dataframe tbody tr th:only-of-type {\n",
       "        vertical-align: middle;\n",
       "    }\n",
       "\n",
       "    .dataframe tbody tr th {\n",
       "        vertical-align: top;\n",
       "    }\n",
       "\n",
       "    .dataframe thead th {\n",
       "        text-align: right;\n",
       "    }\n",
       "</style>\n",
       "<table border=\"1\" class=\"dataframe\">\n",
       "  <thead>\n",
       "    <tr style=\"text-align: right;\">\n",
       "      <th></th>\n",
       "      <th>text</th>\n",
       "      <th>joy</th>\n",
       "      <th>sadness</th>\n",
       "      <th>anger</th>\n",
       "      <th>love</th>\n",
       "      <th>thankfulness</th>\n",
       "      <th>fear</th>\n",
       "    </tr>\n",
       "  </thead>\n",
       "  <tbody>\n",
       "    <tr>\n",
       "      <th>0</th>\n",
       "      <td>Tom did play hookey, and he had a very good time.</td>\n",
       "      <td>0.573</td>\n",
       "      <td>0.463</td>\n",
       "      <td>0.914</td>\n",
       "      <td>0.266</td>\n",
       "      <td>0.630</td>\n",
       "      <td>0.622</td>\n",
       "    </tr>\n",
       "    <tr>\n",
       "      <th>1</th>\n",
       "      <td>Diligence and attention soon gave him the knac...</td>\n",
       "      <td>0.838</td>\n",
       "      <td>0.510</td>\n",
       "      <td>0.742</td>\n",
       "      <td>0.768</td>\n",
       "      <td>0.238</td>\n",
       "      <td>0.153</td>\n",
       "    </tr>\n",
       "    <tr>\n",
       "      <th>2</th>\n",
       "      <td>He felt much as an astronomer feels who has di...</td>\n",
       "      <td>0.163</td>\n",
       "      <td>0.405</td>\n",
       "      <td>0.634</td>\n",
       "      <td>0.861</td>\n",
       "      <td>0.542</td>\n",
       "      <td>0.123</td>\n",
       "    </tr>\n",
       "    <tr>\n",
       "      <th>3</th>\n",
       "      <td>�Oh, you think you�re mighty smart, don�t you?...</td>\n",
       "      <td>0.120</td>\n",
       "      <td>0.595</td>\n",
       "      <td>0.270</td>\n",
       "      <td>0.667</td>\n",
       "      <td>0.107</td>\n",
       "      <td>0.780</td>\n",
       "    </tr>\n",
       "    <tr>\n",
       "      <th>4</th>\n",
       "      <td>You�re a coward and a pup. I�ll tell my big br...</td>\n",
       "      <td>0.236</td>\n",
       "      <td>0.483</td>\n",
       "      <td>0.947</td>\n",
       "      <td>0.725</td>\n",
       "      <td>0.412</td>\n",
       "      <td>0.076</td>\n",
       "    </tr>\n",
       "  </tbody>\n",
       "</table>\n",
       "</div>"
      ],
      "text/plain": [
       "                                                text    joy  sadness  anger  \\\n",
       "0  Tom did play hookey, and he had a very good time.  0.573    0.463  0.914   \n",
       "1  Diligence and attention soon gave him the knac...  0.838    0.510  0.742   \n",
       "2  He felt much as an astronomer feels who has di...  0.163    0.405  0.634   \n",
       "3  �Oh, you think you�re mighty smart, don�t you?...  0.120    0.595  0.270   \n",
       "4  You�re a coward and a pup. I�ll tell my big br...  0.236    0.483  0.947   \n",
       "\n",
       "    love  thankfulness   fear  \n",
       "0  0.266         0.630  0.622  \n",
       "1  0.768         0.238  0.153  \n",
       "2  0.861         0.542  0.123  \n",
       "3  0.667         0.107  0.780  \n",
       "4  0.725         0.412  0.076  "
      ]
     },
     "execution_count": 70,
     "metadata": {},
     "output_type": "execute_result"
    }
   ],
   "source": [
    "df = pd.read_csv(\"C://Users/ksriniv2/Downloads/AdventuresOfTomSawyer_DataSetCsv results.csv\")\n",
    "df.head()"
   ]
  },
  {
   "cell_type": "code",
   "execution_count": 72,
   "metadata": {},
   "outputs": [
    {
     "data": {
      "text/html": [
       "<div>\n",
       "<style scoped>\n",
       "    .dataframe tbody tr th:only-of-type {\n",
       "        vertical-align: middle;\n",
       "    }\n",
       "\n",
       "    .dataframe tbody tr th {\n",
       "        vertical-align: top;\n",
       "    }\n",
       "\n",
       "    .dataframe thead th {\n",
       "        text-align: right;\n",
       "    }\n",
       "</style>\n",
       "<table border=\"1\" class=\"dataframe\">\n",
       "  <thead>\n",
       "    <tr style=\"text-align: right;\">\n",
       "      <th></th>\n",
       "      <th>text</th>\n",
       "      <th>joy</th>\n",
       "      <th>sadness</th>\n",
       "      <th>anger</th>\n",
       "      <th>love</th>\n",
       "      <th>thankfulness</th>\n",
       "      <th>fear</th>\n",
       "      <th>emotions</th>\n",
       "      <th>count</th>\n",
       "    </tr>\n",
       "  </thead>\n",
       "  <tbody>\n",
       "    <tr>\n",
       "      <th>0</th>\n",
       "      <td>Tom did play hookey, and he had a very good time.</td>\n",
       "      <td>0.573</td>\n",
       "      <td>0.463</td>\n",
       "      <td>0.914</td>\n",
       "      <td>0.266</td>\n",
       "      <td>0.630</td>\n",
       "      <td>0.622</td>\n",
       "      <td>anger</td>\n",
       "      <td>30</td>\n",
       "    </tr>\n",
       "    <tr>\n",
       "      <th>1</th>\n",
       "      <td>Diligence and attention soon gave him the knac...</td>\n",
       "      <td>0.838</td>\n",
       "      <td>0.510</td>\n",
       "      <td>0.742</td>\n",
       "      <td>0.768</td>\n",
       "      <td>0.238</td>\n",
       "      <td>0.153</td>\n",
       "      <td>joy</td>\n",
       "      <td>9</td>\n",
       "    </tr>\n",
       "    <tr>\n",
       "      <th>2</th>\n",
       "      <td>He felt much as an astronomer feels who has di...</td>\n",
       "      <td>0.163</td>\n",
       "      <td>0.405</td>\n",
       "      <td>0.634</td>\n",
       "      <td>0.861</td>\n",
       "      <td>0.542</td>\n",
       "      <td>0.123</td>\n",
       "      <td>love</td>\n",
       "      <td>20</td>\n",
       "    </tr>\n",
       "    <tr>\n",
       "      <th>3</th>\n",
       "      <td>�Oh, you think you�re mighty smart, don�t you?...</td>\n",
       "      <td>0.120</td>\n",
       "      <td>0.595</td>\n",
       "      <td>0.270</td>\n",
       "      <td>0.667</td>\n",
       "      <td>0.107</td>\n",
       "      <td>0.780</td>\n",
       "      <td>fear</td>\n",
       "      <td>2</td>\n",
       "    </tr>\n",
       "    <tr>\n",
       "      <th>4</th>\n",
       "      <td>You�re a coward and a pup. I�ll tell my big br...</td>\n",
       "      <td>0.236</td>\n",
       "      <td>0.483</td>\n",
       "      <td>0.947</td>\n",
       "      <td>0.725</td>\n",
       "      <td>0.412</td>\n",
       "      <td>0.076</td>\n",
       "      <td>anger</td>\n",
       "      <td>30</td>\n",
       "    </tr>\n",
       "  </tbody>\n",
       "</table>\n",
       "</div>"
      ],
      "text/plain": [
       "                                                text    joy  sadness  anger  \\\n",
       "0  Tom did play hookey, and he had a very good time.  0.573    0.463  0.914   \n",
       "1  Diligence and attention soon gave him the knac...  0.838    0.510  0.742   \n",
       "2  He felt much as an astronomer feels who has di...  0.163    0.405  0.634   \n",
       "3  �Oh, you think you�re mighty smart, don�t you?...  0.120    0.595  0.270   \n",
       "4  You�re a coward and a pup. I�ll tell my big br...  0.236    0.483  0.947   \n",
       "\n",
       "    love  thankfulness   fear emotions  count  \n",
       "0  0.266         0.630  0.622    anger     30  \n",
       "1  0.768         0.238  0.153      joy      9  \n",
       "2  0.861         0.542  0.123     love     20  \n",
       "3  0.667         0.107  0.780     fear      2  \n",
       "4  0.725         0.412  0.076    anger     30  "
      ]
     },
     "execution_count": 72,
     "metadata": {},
     "output_type": "execute_result"
    }
   ],
   "source": [
    "pred_df = get_max_emotion_score_df(file=\"C://Users/ksriniv2/Downloads/AdventuresOfTomSawyer_DataSetCsv results.csv\",\n",
    "                             emotion_col=\"emotions\",\n",
    "                             emotion_count_col=\"count\")\n",
    "pred_df.head()"
   ]
  },
  {
   "cell_type": "code",
   "execution_count": 73,
   "metadata": {},
   "outputs": [
    {
     "data": {
      "image/png": "[encoded data removed]",
      "text/plain": [
       "<Figure size 720x360 with 1 Axes>"
      ]
     },
     "metadata": {
      "needs_background": "light"
     },
     "output_type": "display_data"
    }
   ],
   "source": [
    "display_bar_chart(pred_df, emotion_col=\"emotions\", emotion_count_col=\"count\")"
   ]
  },
  {
   "cell_type": "markdown",
   "metadata": {},
   "source": [
    "### Categorize Emotions column (Original dataset)"
   ]
  },
  {
   "cell_type": "code",
   "execution_count": 74,
   "metadata": {},
   "outputs": [
    {
     "data": {
      "text/plain": [
       "text        object\n",
       "emotions    object\n",
       "count        int64\n",
       "dtype: object"
      ]
     },
     "execution_count": 74,
     "metadata": {},
     "output_type": "execute_result"
    }
   ],
   "source": [
    "og_df.dtypes"
   ]
  },
  {
   "cell_type": "code",
   "execution_count": 75,
   "metadata": {},
   "outputs": [],
   "source": [
    "og_df[\"emotions\"] = og_df[\"emotions\"].astype('category')"
   ]
  },
  {
   "cell_type": "code",
   "execution_count": 76,
   "metadata": {},
   "outputs": [],
   "source": [
    "category_dict = dict(sorted(zip(og_df.emotions.cat.codes, og_df.emotions)))"
   ]
  },
  {
   "cell_type": "code",
   "execution_count": 77,
   "metadata": {},
   "outputs": [
    {
     "name": "stdout",
     "output_type": "stream",
     "text": [
      "0 anger\n",
      "1 fear\n",
      "2 joy\n",
      "3 love\n",
      "4 sadness\n",
      "5 thankfulness\n"
     ]
    }
   ],
   "source": [
    "for k, v in category_dict.items(): print(k, v)"
   ]
  },
  {
   "cell_type": "code",
   "execution_count": 78,
   "metadata": {},
   "outputs": [
    {
     "data": {
      "text/plain": [
       "text          object\n",
       "emotions    category\n",
       "count          int64\n",
       "dtype: object"
      ]
     },
     "execution_count": 78,
     "metadata": {},
     "output_type": "execute_result"
    }
   ],
   "source": [
    "og_df.dtypes"
   ]
  },
  {
   "cell_type": "code",
   "execution_count": 79,
   "metadata": {},
   "outputs": [
    {
     "data": {
      "text/html": [
       "<div>\n",
       "<style scoped>\n",
       "    .dataframe tbody tr th:only-of-type {\n",
       "        vertical-align: middle;\n",
       "    }\n",
       "\n",
       "    .dataframe tbody tr th {\n",
       "        vertical-align: top;\n",
       "    }\n",
       "\n",
       "    .dataframe thead th {\n",
       "        text-align: right;\n",
       "    }\n",
       "</style>\n",
       "<table border=\"1\" class=\"dataframe\">\n",
       "  <thead>\n",
       "    <tr style=\"text-align: right;\">\n",
       "      <th></th>\n",
       "      <th>text</th>\n",
       "      <th>emotions</th>\n",
       "      <th>count</th>\n",
       "      <th>emotions_cat</th>\n",
       "    </tr>\n",
       "  </thead>\n",
       "  <tbody>\n",
       "    <tr>\n",
       "      <th>0</th>\n",
       "      <td>His aunt Polly stood surprised a moment, and t...</td>\n",
       "      <td>joy</td>\n",
       "      <td>26</td>\n",
       "      <td>2</td>\n",
       "    </tr>\n",
       "    <tr>\n",
       "      <th>1</th>\n",
       "      <td>Tom did play hookey, and he had a very good time.</td>\n",
       "      <td>joy</td>\n",
       "      <td>26</td>\n",
       "      <td>2</td>\n",
       "    </tr>\n",
       "    <tr>\n",
       "      <th>2</th>\n",
       "      <td>Diligence and attention soon gave him the knac...</td>\n",
       "      <td>thankfulness</td>\n",
       "      <td>4</td>\n",
       "      <td>5</td>\n",
       "    </tr>\n",
       "    <tr>\n",
       "      <th>3</th>\n",
       "      <td>He felt much as an astronomer feels who has di...</td>\n",
       "      <td>joy</td>\n",
       "      <td>26</td>\n",
       "      <td>2</td>\n",
       "    </tr>\n",
       "    <tr>\n",
       "      <th>4</th>\n",
       "      <td>“Oh, you think you’re mighty smart, don’t you?...</td>\n",
       "      <td>anger</td>\n",
       "      <td>14</td>\n",
       "      <td>0</td>\n",
       "    </tr>\n",
       "  </tbody>\n",
       "</table>\n",
       "</div>"
      ],
      "text/plain": [
       "                                                text      emotions  count  \\\n",
       "0  His aunt Polly stood surprised a moment, and t...           joy     26   \n",
       "1  Tom did play hookey, and he had a very good time.           joy     26   \n",
       "2  Diligence and attention soon gave him the knac...  thankfulness      4   \n",
       "3  He felt much as an astronomer feels who has di...           joy     26   \n",
       "4  “Oh, you think you’re mighty smart, don’t you?...         anger     14   \n",
       "\n",
       "   emotions_cat  \n",
       "0             2  \n",
       "1             2  \n",
       "2             5  \n",
       "3             2  \n",
       "4             0  "
      ]
     },
     "execution_count": 79,
     "metadata": {},
     "output_type": "execute_result"
    }
   ],
   "source": [
    "og_df[\"emotions_cat\"] = og_df[\"emotions\"].cat.codes\n",
    "og_df.head()"
   ]
  },
  {
   "cell_type": "markdown",
   "metadata": {},
   "source": [
    "### Categorize Emotions column (Predicted dataset)"
   ]
  },
  {
   "cell_type": "code",
   "execution_count": 80,
   "metadata": {},
   "outputs": [
    {
     "data": {
      "text/plain": [
       "text             object\n",
       "joy             float64\n",
       "sadness         float64\n",
       "anger           float64\n",
       "love            float64\n",
       "thankfulness    float64\n",
       "fear            float64\n",
       "emotions         object\n",
       "count             int64\n",
       "dtype: object"
      ]
     },
     "execution_count": 80,
     "metadata": {},
     "output_type": "execute_result"
    }
   ],
   "source": [
    "pred_df.dtypes"
   ]
  },
  {
   "cell_type": "code",
   "execution_count": 81,
   "metadata": {},
   "outputs": [],
   "source": [
    "pred_df[\"emotions\"] = pred_df[\"emotions\"].astype('category')"
   ]
  },
  {
   "cell_type": "code",
   "execution_count": 82,
   "metadata": {},
   "outputs": [],
   "source": [
    "category_dict = dict(sorted(zip(pred_df.emotions.cat.codes, pred_df.emotions)))"
   ]
  },
  {
   "cell_type": "code",
   "execution_count": 83,
   "metadata": {},
   "outputs": [
    {
     "name": "stdout",
     "output_type": "stream",
     "text": [
      "0 anger\n",
      "1 fear\n",
      "2 joy\n",
      "3 love\n",
      "4 sadness\n",
      "5 thankfulness\n"
     ]
    }
   ],
   "source": [
    "for k, v in category_dict.items(): print(k, v)"
   ]
  },
  {
   "cell_type": "code",
   "execution_count": 84,
   "metadata": {},
   "outputs": [
    {
     "data": {
      "text/plain": [
       "text              object\n",
       "joy              float64\n",
       "sadness          float64\n",
       "anger            float64\n",
       "love             float64\n",
       "thankfulness     float64\n",
       "fear             float64\n",
       "emotions        category\n",
       "count              int64\n",
       "dtype: object"
      ]
     },
     "execution_count": 84,
     "metadata": {},
     "output_type": "execute_result"
    }
   ],
   "source": [
    "pred_df.dtypes"
   ]
  },
  {
   "cell_type": "code",
   "execution_count": 85,
   "metadata": {},
   "outputs": [
    {
     "data": {
      "text/html": [
       "<div>\n",
       "<style scoped>\n",
       "    .dataframe tbody tr th:only-of-type {\n",
       "        vertical-align: middle;\n",
       "    }\n",
       "\n",
       "    .dataframe tbody tr th {\n",
       "        vertical-align: top;\n",
       "    }\n",
       "\n",
       "    .dataframe thead th {\n",
       "        text-align: right;\n",
       "    }\n",
       "</style>\n",
       "<table border=\"1\" class=\"dataframe\">\n",
       "  <thead>\n",
       "    <tr style=\"text-align: right;\">\n",
       "      <th></th>\n",
       "      <th>text</th>\n",
       "      <th>joy</th>\n",
       "      <th>sadness</th>\n",
       "      <th>anger</th>\n",
       "      <th>love</th>\n",
       "      <th>thankfulness</th>\n",
       "      <th>fear</th>\n",
       "      <th>emotions</th>\n",
       "      <th>count</th>\n",
       "      <th>emotions_cat</th>\n",
       "    </tr>\n",
       "  </thead>\n",
       "  <tbody>\n",
       "    <tr>\n",
       "      <th>0</th>\n",
       "      <td>Tom did play hookey, and he had a very good time.</td>\n",
       "      <td>0.573</td>\n",
       "      <td>0.463</td>\n",
       "      <td>0.914</td>\n",
       "      <td>0.266</td>\n",
       "      <td>0.630</td>\n",
       "      <td>0.622</td>\n",
       "      <td>anger</td>\n",
       "      <td>30</td>\n",
       "      <td>0</td>\n",
       "    </tr>\n",
       "    <tr>\n",
       "      <th>1</th>\n",
       "      <td>Diligence and attention soon gave him the knac...</td>\n",
       "      <td>0.838</td>\n",
       "      <td>0.510</td>\n",
       "      <td>0.742</td>\n",
       "      <td>0.768</td>\n",
       "      <td>0.238</td>\n",
       "      <td>0.153</td>\n",
       "      <td>joy</td>\n",
       "      <td>9</td>\n",
       "      <td>2</td>\n",
       "    </tr>\n",
       "    <tr>\n",
       "      <th>2</th>\n",
       "      <td>He felt much as an astronomer feels who has di...</td>\n",
       "      <td>0.163</td>\n",
       "      <td>0.405</td>\n",
       "      <td>0.634</td>\n",
       "      <td>0.861</td>\n",
       "      <td>0.542</td>\n",
       "      <td>0.123</td>\n",
       "      <td>love</td>\n",
       "      <td>20</td>\n",
       "      <td>3</td>\n",
       "    </tr>\n",
       "    <tr>\n",
       "      <th>3</th>\n",
       "      <td>�Oh, you think you�re mighty smart, don�t you?...</td>\n",
       "      <td>0.120</td>\n",
       "      <td>0.595</td>\n",
       "      <td>0.270</td>\n",
       "      <td>0.667</td>\n",
       "      <td>0.107</td>\n",
       "      <td>0.780</td>\n",
       "      <td>fear</td>\n",
       "      <td>2</td>\n",
       "      <td>1</td>\n",
       "    </tr>\n",
       "    <tr>\n",
       "      <th>4</th>\n",
       "      <td>You�re a coward and a pup. I�ll tell my big br...</td>\n",
       "      <td>0.236</td>\n",
       "      <td>0.483</td>\n",
       "      <td>0.947</td>\n",
       "      <td>0.725</td>\n",
       "      <td>0.412</td>\n",
       "      <td>0.076</td>\n",
       "      <td>anger</td>\n",
       "      <td>30</td>\n",
       "      <td>0</td>\n",
       "    </tr>\n",
       "  </tbody>\n",
       "</table>\n",
       "</div>"
      ],
      "text/plain": [
       "                                                text    joy  sadness  anger  \\\n",
       "0  Tom did play hookey, and he had a very good time.  0.573    0.463  0.914   \n",
       "1  Diligence and attention soon gave him the knac...  0.838    0.510  0.742   \n",
       "2  He felt much as an astronomer feels who has di...  0.163    0.405  0.634   \n",
       "3  �Oh, you think you�re mighty smart, don�t you?...  0.120    0.595  0.270   \n",
       "4  You�re a coward and a pup. I�ll tell my big br...  0.236    0.483  0.947   \n",
       "\n",
       "    love  thankfulness   fear emotions  count  emotions_cat  \n",
       "0  0.266         0.630  0.622    anger     30             0  \n",
       "1  0.768         0.238  0.153      joy      9             2  \n",
       "2  0.861         0.542  0.123     love     20             3  \n",
       "3  0.667         0.107  0.780     fear      2             1  \n",
       "4  0.725         0.412  0.076    anger     30             0  "
      ]
     },
     "execution_count": 85,
     "metadata": {},
     "output_type": "execute_result"
    }
   ],
   "source": [
    "pred_df[\"emotions_cat\"] = pred_df[\"emotions\"].cat.codes\n",
    "pred_df.head()"
   ]
  },
  {
   "cell_type": "code",
   "execution_count": 86,
   "metadata": {},
   "outputs": [
    {
     "data": {
      "text/html": [
       "<div>\n",
       "<style scoped>\n",
       "    .dataframe tbody tr th:only-of-type {\n",
       "        vertical-align: middle;\n",
       "    }\n",
       "\n",
       "    .dataframe tbody tr th {\n",
       "        vertical-align: top;\n",
       "    }\n",
       "\n",
       "    .dataframe thead th {\n",
       "        text-align: right;\n",
       "    }\n",
       "</style>\n",
       "<table border=\"1\" class=\"dataframe\">\n",
       "  <thead>\n",
       "    <tr style=\"text-align: right;\">\n",
       "      <th></th>\n",
       "      <th>text</th>\n",
       "      <th>emotions</th>\n",
       "      <th>count</th>\n",
       "      <th>emotions_cat</th>\n",
       "    </tr>\n",
       "  </thead>\n",
       "  <tbody>\n",
       "    <tr>\n",
       "      <th>0</th>\n",
       "      <td>His aunt Polly stood surprised a moment, and t...</td>\n",
       "      <td>joy</td>\n",
       "      <td>26</td>\n",
       "      <td>2</td>\n",
       "    </tr>\n",
       "    <tr>\n",
       "      <th>1</th>\n",
       "      <td>Tom did play hookey, and he had a very good time.</td>\n",
       "      <td>joy</td>\n",
       "      <td>26</td>\n",
       "      <td>2</td>\n",
       "    </tr>\n",
       "    <tr>\n",
       "      <th>2</th>\n",
       "      <td>Diligence and attention soon gave him the knac...</td>\n",
       "      <td>thankfulness</td>\n",
       "      <td>4</td>\n",
       "      <td>5</td>\n",
       "    </tr>\n",
       "    <tr>\n",
       "      <th>3</th>\n",
       "      <td>He felt much as an astronomer feels who has di...</td>\n",
       "      <td>joy</td>\n",
       "      <td>26</td>\n",
       "      <td>2</td>\n",
       "    </tr>\n",
       "    <tr>\n",
       "      <th>4</th>\n",
       "      <td>“Oh, you think you’re mighty smart, don’t you?...</td>\n",
       "      <td>anger</td>\n",
       "      <td>14</td>\n",
       "      <td>0</td>\n",
       "    </tr>\n",
       "  </tbody>\n",
       "</table>\n",
       "</div>"
      ],
      "text/plain": [
       "                                                text      emotions  count  \\\n",
       "0  His aunt Polly stood surprised a moment, and t...           joy     26   \n",
       "1  Tom did play hookey, and he had a very good time.           joy     26   \n",
       "2  Diligence and attention soon gave him the knac...  thankfulness      4   \n",
       "3  He felt much as an astronomer feels who has di...           joy     26   \n",
       "4  “Oh, you think you’re mighty smart, don’t you?...         anger     14   \n",
       "\n",
       "   emotions_cat  \n",
       "0             2  \n",
       "1             2  \n",
       "2             5  \n",
       "3             2  \n",
       "4             0  "
      ]
     },
     "execution_count": 86,
     "metadata": {},
     "output_type": "execute_result"
    }
   ],
   "source": [
    "og_df.head()"
   ]
  },
  {
   "cell_type": "code",
   "execution_count": 87,
   "metadata": {},
   "outputs": [
    {
     "data": {
      "text/html": [
       "<div>\n",
       "<style scoped>\n",
       "    .dataframe tbody tr th:only-of-type {\n",
       "        vertical-align: middle;\n",
       "    }\n",
       "\n",
       "    .dataframe tbody tr th {\n",
       "        vertical-align: top;\n",
       "    }\n",
       "\n",
       "    .dataframe thead th {\n",
       "        text-align: right;\n",
       "    }\n",
       "</style>\n",
       "<table border=\"1\" class=\"dataframe\">\n",
       "  <thead>\n",
       "    <tr style=\"text-align: right;\">\n",
       "      <th></th>\n",
       "      <th>text</th>\n",
       "      <th>joy</th>\n",
       "      <th>sadness</th>\n",
       "      <th>anger</th>\n",
       "      <th>love</th>\n",
       "      <th>thankfulness</th>\n",
       "      <th>fear</th>\n",
       "      <th>emotions</th>\n",
       "      <th>count</th>\n",
       "      <th>emotions_cat</th>\n",
       "    </tr>\n",
       "  </thead>\n",
       "  <tbody>\n",
       "    <tr>\n",
       "      <th>0</th>\n",
       "      <td>Tom did play hookey, and he had a very good time.</td>\n",
       "      <td>0.573</td>\n",
       "      <td>0.463</td>\n",
       "      <td>0.914</td>\n",
       "      <td>0.266</td>\n",
       "      <td>0.630</td>\n",
       "      <td>0.622</td>\n",
       "      <td>anger</td>\n",
       "      <td>30</td>\n",
       "      <td>0</td>\n",
       "    </tr>\n",
       "    <tr>\n",
       "      <th>1</th>\n",
       "      <td>Diligence and attention soon gave him the knac...</td>\n",
       "      <td>0.838</td>\n",
       "      <td>0.510</td>\n",
       "      <td>0.742</td>\n",
       "      <td>0.768</td>\n",
       "      <td>0.238</td>\n",
       "      <td>0.153</td>\n",
       "      <td>joy</td>\n",
       "      <td>9</td>\n",
       "      <td>2</td>\n",
       "    </tr>\n",
       "    <tr>\n",
       "      <th>2</th>\n",
       "      <td>He felt much as an astronomer feels who has di...</td>\n",
       "      <td>0.163</td>\n",
       "      <td>0.405</td>\n",
       "      <td>0.634</td>\n",
       "      <td>0.861</td>\n",
       "      <td>0.542</td>\n",
       "      <td>0.123</td>\n",
       "      <td>love</td>\n",
       "      <td>20</td>\n",
       "      <td>3</td>\n",
       "    </tr>\n",
       "    <tr>\n",
       "      <th>3</th>\n",
       "      <td>�Oh, you think you�re mighty smart, don�t you?...</td>\n",
       "      <td>0.120</td>\n",
       "      <td>0.595</td>\n",
       "      <td>0.270</td>\n",
       "      <td>0.667</td>\n",
       "      <td>0.107</td>\n",
       "      <td>0.780</td>\n",
       "      <td>fear</td>\n",
       "      <td>2</td>\n",
       "      <td>1</td>\n",
       "    </tr>\n",
       "    <tr>\n",
       "      <th>4</th>\n",
       "      <td>You�re a coward and a pup. I�ll tell my big br...</td>\n",
       "      <td>0.236</td>\n",
       "      <td>0.483</td>\n",
       "      <td>0.947</td>\n",
       "      <td>0.725</td>\n",
       "      <td>0.412</td>\n",
       "      <td>0.076</td>\n",
       "      <td>anger</td>\n",
       "      <td>30</td>\n",
       "      <td>0</td>\n",
       "    </tr>\n",
       "  </tbody>\n",
       "</table>\n",
       "</div>"
      ],
      "text/plain": [
       "                                                text    joy  sadness  anger  \\\n",
       "0  Tom did play hookey, and he had a very good time.  0.573    0.463  0.914   \n",
       "1  Diligence and attention soon gave him the knac...  0.838    0.510  0.742   \n",
       "2  He felt much as an astronomer feels who has di...  0.163    0.405  0.634   \n",
       "3  �Oh, you think you�re mighty smart, don�t you?...  0.120    0.595  0.270   \n",
       "4  You�re a coward and a pup. I�ll tell my big br...  0.236    0.483  0.947   \n",
       "\n",
       "    love  thankfulness   fear emotions  count  emotions_cat  \n",
       "0  0.266         0.630  0.622    anger     30             0  \n",
       "1  0.768         0.238  0.153      joy      9             2  \n",
       "2  0.861         0.542  0.123     love     20             3  \n",
       "3  0.667         0.107  0.780     fear      2             1  \n",
       "4  0.725         0.412  0.076    anger     30             0  "
      ]
     },
     "execution_count": 87,
     "metadata": {},
     "output_type": "execute_result"
    }
   ],
   "source": [
    "pred_df.head()"
   ]
  },
  {
   "cell_type": "markdown",
   "metadata": {},
   "source": [
    "## Confusion Matrix"
   ]
  },
  {
   "cell_type": "code",
   "execution_count": 88,
   "metadata": {},
   "outputs": [],
   "source": [
    "confusion = confusion_matrix(og_df[\"emotions_cat\"], pred_df[\"emotions_cat\"])"
   ]
  },
  {
   "cell_type": "code",
   "execution_count": 89,
   "metadata": {},
   "outputs": [
    {
     "data": {
      "text/plain": [
       "array([[ 5,  0,  1,  3,  1,  4],\n",
       "       [ 5,  0,  0,  3,  3,  3],\n",
       "       [ 9,  2,  3,  5,  2,  5],\n",
       "       [ 4,  0,  0,  0,  1,  3],\n",
       "       [ 7,  0,  5,  8,  2, 11],\n",
       "       [ 0,  0,  0,  1,  1,  2]], dtype=int64)"
      ]
     },
     "execution_count": 89,
     "metadata": {},
     "output_type": "execute_result"
    }
   ],
   "source": [
    "confusion"
   ]
  },
  {
   "cell_type": "code",
   "execution_count": 90,
   "metadata": {},
   "outputs": [],
   "source": [
    "def plot_confusion_matrix(cm, target_names, title='Confusion matrix', cmap=None, normalize=True):\n",
    "    \"\"\"\n",
    "    Arguments\n",
    "    ---------\n",
    "    cm:           confusion matrix from sklearn.metrics.confusion_matrix\n",
    "    target_names: given classification classes such as [0, 1, 2]\n",
    "                  the class names, for example: ['high', 'medium', 'low']\n",
    "    title:        the text to display at the top of the matrix\n",
    "    cmap:         the gradient of the values displayed from matplotlib.pyplot.cm\n",
    "                  see http://matplotlib.org/examples/color/colormaps_reference.html\n",
    "                  plt.get_cmap('jet') or plt.cm.Blues\n",
    "    normalize:    If False, plot the raw numbers\n",
    "                  If True, plot the proportions\n",
    "\n",
    "    Usage\n",
    "    -----\n",
    "    plot_confusion_matrix(cm           = cm,                  # confusion matrix by sklearn.metrics.confusion_matrix \n",
    "                          normalize    = True,                # show proportions\n",
    "                          target_names = y_labels_vals,       # list of names of the classes\n",
    "                          title        = best_estimator_name) # title of graph\n",
    "\n",
    "    \"\"\"\n",
    "    import matplotlib.pyplot as plt\n",
    "    import numpy as np\n",
    "    import itertools\n",
    "\n",
    "    accuracy = np.trace(cm) / np.sum(cm).astype('float')\n",
    "    misclass = 1 - accuracy\n",
    "\n",
    "    if cmap is None:\n",
    "        cmap = plt.get_cmap('Blues')\n",
    "\n",
    "    plt.figure(figsize=(10, 7))\n",
    "    plt.imshow(cm, interpolation='nearest', cmap=cmap)\n",
    "    plt.title(title)\n",
    "    plt.colorbar()\n",
    "\n",
    "    if target_names is not None:\n",
    "        tick_marks = np.arange(len(target_names))\n",
    "        plt.xticks(tick_marks, target_names, rotation=45)\n",
    "        plt.yticks(tick_marks, target_names)\n",
    "\n",
    "    if normalize:\n",
    "        cm = cm.astype('float') / cm.sum(axis=1)[:, np.newaxis]\n",
    "\n",
    "    thresh = cm.max() / 1.5 if normalize else cm.max() / 2\n",
    "    for i, j in itertools.product(range(cm.shape[0]), range(cm.shape[1])):\n",
    "        if normalize:\n",
    "            plt.text(j, i, \"{:0.4f}\".format(cm[i, j]),\n",
    "                     horizontalalignment=\"center\",\n",
    "                     color=\"white\" if cm[i, j] > thresh else \"black\")\n",
    "        else:\n",
    "            plt.text(j, i, \"{:,}\".format(cm[i, j]),\n",
    "                     horizontalalignment=\"center\",\n",
    "                     color=\"white\" if cm[i, j] > thresh else \"black\")\n",
    "\n",
    "    plt.tight_layout()\n",
    "    plt.ylabel('True label')\n",
    "    plt.xlabel('Predicted label\\naccuracy={:0.4f}; misclass={:0.4f}'.format(\n",
    "        accuracy, misclass))\n",
    "    plt.show()"
   ]
  },
  {
   "cell_type": "code",
   "execution_count": 91,
   "metadata": {},
   "outputs": [
    {
     "data": {
      "image/png": "[encoded data removed]",
      "text/plain": [
       "<Figure size 720x504 with 2 Axes>"
      ]
     },
     "metadata": {
      "needs_background": "light"
     },
     "output_type": "display_data"
    }
   ],
   "source": [
    "target_names = []\n",
    "for k, v in category_dict.items(): target_names.append(v)\n",
    "plot_confusion_matrix(cm=confusion, target_names=target_names, title='Confusion matrix')"
   ]
  },
  {
   "cell_type": "raw",
   "metadata": {
    "scrolled": false
   },
   "source": [
    "plt.figure(figsize=(10,6))\n",
    "sns.heatmap(confusion, annot=True, linewidths=.3)\n",
    "plt.show()"
   ]
  },
  {
   "attachments": {
    "image.png": {
     "image/png": "[encoded data removed]"
    }
   },
   "cell_type": "markdown",
   "metadata": {},
   "source": [
    "### Precision-Recall Report\n",
    "<div>\n",
    "<img src=\"attachment:image.png\" width=\"700\"/>\n",
    "</div>"
   ]
  },
  {
   "cell_type": "code",
   "execution_count": 92,
   "metadata": {},
   "outputs": [
    {
     "data": {
      "text/plain": [
       "['anger', 'fear', 'joy', 'love', 'sadness', 'thankfulness']"
      ]
     },
     "execution_count": 92,
     "metadata": {},
     "output_type": "execute_result"
    }
   ],
   "source": [
    "classes = []\n",
    "for k, v in category_dict.items(): classes.append(v)\n",
    "classes"
   ]
  },
  {
   "cell_type": "code",
   "execution_count": 93,
   "metadata": {},
   "outputs": [
    {
     "name": "stdout",
     "output_type": "stream",
     "text": [
      "              precision    recall  f1-score   support\n",
      "\n",
      "       anger       0.17      0.36      0.23        14\n",
      "        fear       0.00      0.00      0.00        14\n",
      "         joy       0.33      0.12      0.17        26\n",
      "        love       0.00      0.00      0.00         8\n",
      "     sadness       0.20      0.06      0.09        33\n",
      "thankfulness       0.07      0.50      0.12         4\n",
      "\n",
      "    accuracy                           0.12        99\n",
      "   macro avg       0.13      0.17      0.10        99\n",
      "weighted avg       0.18      0.12      0.11        99\n",
      "\n"
     ]
    }
   ],
   "source": [
    "print(classification_report(og_df[\"emotions_cat\"], pred_df[\"emotions_cat\"], target_names=classes))"
   ]
  },
  {
   "cell_type": "code",
   "execution_count": null,
   "metadata": {},
   "outputs": [],
   "source": []
  },
  {
   "cell_type": "code",
   "execution_count": null,
   "metadata": {},
   "outputs": [],
   "source": []
  }
 ],
 "metadata": {
  "kernelspec": {
   "display_name": "Python 3",
   "language": "python",
   "name": "python3"
  },
  "language_info": {
   "codemirror_mode": {
    "name": "ipython",
    "version": 3
   },
   "file_extension": ".py",
   "mimetype": "text/x-python",
   "name": "python",
   "nbconvert_exporter": "python",
   "pygments_lexer": "ipython3",
   "version": "3.8.5"
  }
 },
 "nbformat": 4,
 "nbformat_minor": 4
}
